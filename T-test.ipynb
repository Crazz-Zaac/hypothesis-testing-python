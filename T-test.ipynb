{
 "cells": [
  {
   "cell_type": "code",
   "execution_count": 1,
   "metadata": {},
   "outputs": [],
   "source": [
    "import statsmodels.api as sm\n",
    "import matplotlib.pyplot as plt\n",
    "import pandas as pd \n",
    "import numpy as np\n",
    "from sklearn.preprocessing import scale\n",
    "\n",
    "import researchpy as rp\n",
    "from scipy import stats"
   ]
  },
  {
   "cell_type": "code",
   "execution_count": 2,
   "metadata": {},
   "outputs": [
    {
     "data": {
      "text/html": [
       "<div>\n",
       "<style scoped>\n",
       "    .dataframe tbody tr th:only-of-type {\n",
       "        vertical-align: middle;\n",
       "    }\n",
       "\n",
       "    .dataframe tbody tr th {\n",
       "        vertical-align: top;\n",
       "    }\n",
       "\n",
       "    .dataframe thead th {\n",
       "        text-align: right;\n",
       "    }\n",
       "</style>\n",
       "<table border=\"1\" class=\"dataframe\">\n",
       "  <thead>\n",
       "    <tr style=\"text-align: right;\">\n",
       "      <th></th>\n",
       "      <th>instant</th>\n",
       "      <th>dteday</th>\n",
       "      <th>season</th>\n",
       "      <th>yr</th>\n",
       "      <th>mnth</th>\n",
       "      <th>holiday</th>\n",
       "      <th>weekday</th>\n",
       "      <th>workingday</th>\n",
       "      <th>weathersit</th>\n",
       "      <th>temp</th>\n",
       "      <th>atemp</th>\n",
       "      <th>hum</th>\n",
       "      <th>windspeed</th>\n",
       "      <th>casual</th>\n",
       "      <th>registered</th>\n",
       "      <th>cnt</th>\n",
       "    </tr>\n",
       "  </thead>\n",
       "  <tbody>\n",
       "    <tr>\n",
       "      <th>0</th>\n",
       "      <td>1</td>\n",
       "      <td>2011-01-01</td>\n",
       "      <td>1</td>\n",
       "      <td>0</td>\n",
       "      <td>1</td>\n",
       "      <td>0</td>\n",
       "      <td>6</td>\n",
       "      <td>0</td>\n",
       "      <td>2</td>\n",
       "      <td>0.344167</td>\n",
       "      <td>0.363625</td>\n",
       "      <td>0.805833</td>\n",
       "      <td>0.160446</td>\n",
       "      <td>331</td>\n",
       "      <td>654</td>\n",
       "      <td>985</td>\n",
       "    </tr>\n",
       "    <tr>\n",
       "      <th>1</th>\n",
       "      <td>2</td>\n",
       "      <td>2011-01-02</td>\n",
       "      <td>1</td>\n",
       "      <td>0</td>\n",
       "      <td>1</td>\n",
       "      <td>0</td>\n",
       "      <td>0</td>\n",
       "      <td>0</td>\n",
       "      <td>2</td>\n",
       "      <td>0.363478</td>\n",
       "      <td>0.353739</td>\n",
       "      <td>0.696087</td>\n",
       "      <td>0.248539</td>\n",
       "      <td>131</td>\n",
       "      <td>670</td>\n",
       "      <td>801</td>\n",
       "    </tr>\n",
       "    <tr>\n",
       "      <th>2</th>\n",
       "      <td>3</td>\n",
       "      <td>2011-01-03</td>\n",
       "      <td>1</td>\n",
       "      <td>0</td>\n",
       "      <td>1</td>\n",
       "      <td>0</td>\n",
       "      <td>1</td>\n",
       "      <td>1</td>\n",
       "      <td>1</td>\n",
       "      <td>0.196364</td>\n",
       "      <td>0.189405</td>\n",
       "      <td>0.437273</td>\n",
       "      <td>0.248309</td>\n",
       "      <td>120</td>\n",
       "      <td>1229</td>\n",
       "      <td>1349</td>\n",
       "    </tr>\n",
       "    <tr>\n",
       "      <th>3</th>\n",
       "      <td>4</td>\n",
       "      <td>2011-01-04</td>\n",
       "      <td>1</td>\n",
       "      <td>0</td>\n",
       "      <td>1</td>\n",
       "      <td>0</td>\n",
       "      <td>2</td>\n",
       "      <td>1</td>\n",
       "      <td>1</td>\n",
       "      <td>0.200000</td>\n",
       "      <td>0.212122</td>\n",
       "      <td>0.590435</td>\n",
       "      <td>0.160296</td>\n",
       "      <td>108</td>\n",
       "      <td>1454</td>\n",
       "      <td>1562</td>\n",
       "    </tr>\n",
       "    <tr>\n",
       "      <th>4</th>\n",
       "      <td>5</td>\n",
       "      <td>2011-01-05</td>\n",
       "      <td>1</td>\n",
       "      <td>0</td>\n",
       "      <td>1</td>\n",
       "      <td>0</td>\n",
       "      <td>3</td>\n",
       "      <td>1</td>\n",
       "      <td>1</td>\n",
       "      <td>0.226957</td>\n",
       "      <td>0.229270</td>\n",
       "      <td>0.436957</td>\n",
       "      <td>0.186900</td>\n",
       "      <td>82</td>\n",
       "      <td>1518</td>\n",
       "      <td>1600</td>\n",
       "    </tr>\n",
       "  </tbody>\n",
       "</table>\n",
       "</div>"
      ],
      "text/plain": [
       "   instant      dteday  season  yr  mnth  holiday  weekday  workingday  \\\n",
       "0        1  2011-01-01       1   0     1        0        6           0   \n",
       "1        2  2011-01-02       1   0     1        0        0           0   \n",
       "2        3  2011-01-03       1   0     1        0        1           1   \n",
       "3        4  2011-01-04       1   0     1        0        2           1   \n",
       "4        5  2011-01-05       1   0     1        0        3           1   \n",
       "\n",
       "   weathersit      temp     atemp       hum  windspeed  casual  registered  \\\n",
       "0           2  0.344167  0.363625  0.805833   0.160446     331         654   \n",
       "1           2  0.363478  0.353739  0.696087   0.248539     131         670   \n",
       "2           1  0.196364  0.189405  0.437273   0.248309     120        1229   \n",
       "3           1  0.200000  0.212122  0.590435   0.160296     108        1454   \n",
       "4           1  0.226957  0.229270  0.436957   0.186900      82        1518   \n",
       "\n",
       "    cnt  \n",
       "0   985  \n",
       "1   801  \n",
       "2  1349  \n",
       "3  1562  \n",
       "4  1600  "
      ]
     },
     "execution_count": 2,
     "metadata": {},
     "output_type": "execute_result"
    }
   ],
   "source": [
    "bike_sharing_data = pd.read_csv('datasets/day.csv')\n",
    "bike_sharing_data.head()"
   ]
  },
  {
   "cell_type": "code",
   "execution_count": 3,
   "metadata": {},
   "outputs": [
    {
     "data": {
      "text/plain": [
       "(731, 16)"
      ]
     },
     "execution_count": 3,
     "metadata": {},
     "output_type": "execute_result"
    }
   ],
   "source": [
    "bike_sharing_data.shape"
   ]
  },
  {
   "cell_type": "code",
   "execution_count": 4,
   "metadata": {},
   "outputs": [
    {
     "data": {
      "text/plain": [
       "Index(['instant', 'dteday', 'season', 'yr', 'mnth', 'holiday', 'weekday',\n",
       "       'workingday', 'weathersit', 'temp', 'atemp', 'hum', 'windspeed',\n",
       "       'casual', 'registered', 'cnt'],\n",
       "      dtype='object')"
      ]
     },
     "execution_count": 4,
     "metadata": {},
     "output_type": "execute_result"
    }
   ],
   "source": [
    "# Workingday and Temperature on number of bikes rented is significant \n",
    "# or not\n",
    "bike_sharing_data.columns"
   ]
  },
  {
   "cell_type": "code",
   "execution_count": 5,
   "metadata": {},
   "outputs": [],
   "source": [
    "bike_sharing_data_cols = bike_sharing_data[['season', 'mnth', 'holiday',\n",
    "       'workingday', 'weathersit', 'temp', 'cnt']]"
   ]
  },
  {
   "cell_type": "code",
   "execution_count": 6,
   "metadata": {},
   "outputs": [],
   "source": [
    "# saving into a csv file\n",
    "bike_sharing_data_cols.to_csv('datasets/bike_sharing_data_processed.csv', index=False)"
   ]
  },
  {
   "cell_type": "code",
   "execution_count": 7,
   "metadata": {},
   "outputs": [
    {
     "data": {
      "text/html": [
       "<div>\n",
       "<style scoped>\n",
       "    .dataframe tbody tr th:only-of-type {\n",
       "        vertical-align: middle;\n",
       "    }\n",
       "\n",
       "    .dataframe tbody tr th {\n",
       "        vertical-align: top;\n",
       "    }\n",
       "\n",
       "    .dataframe thead th {\n",
       "        text-align: right;\n",
       "    }\n",
       "</style>\n",
       "<table border=\"1\" class=\"dataframe\">\n",
       "  <thead>\n",
       "    <tr style=\"text-align: right;\">\n",
       "      <th></th>\n",
       "      <th>season</th>\n",
       "      <th>mnth</th>\n",
       "      <th>holiday</th>\n",
       "      <th>workingday</th>\n",
       "      <th>weathersit</th>\n",
       "      <th>temp</th>\n",
       "      <th>cnt</th>\n",
       "    </tr>\n",
       "  </thead>\n",
       "  <tbody>\n",
       "    <tr>\n",
       "      <th>0</th>\n",
       "      <td>1</td>\n",
       "      <td>1</td>\n",
       "      <td>0</td>\n",
       "      <td>0</td>\n",
       "      <td>2</td>\n",
       "      <td>0.344167</td>\n",
       "      <td>985</td>\n",
       "    </tr>\n",
       "    <tr>\n",
       "      <th>1</th>\n",
       "      <td>1</td>\n",
       "      <td>1</td>\n",
       "      <td>0</td>\n",
       "      <td>0</td>\n",
       "      <td>2</td>\n",
       "      <td>0.363478</td>\n",
       "      <td>801</td>\n",
       "    </tr>\n",
       "    <tr>\n",
       "      <th>2</th>\n",
       "      <td>1</td>\n",
       "      <td>1</td>\n",
       "      <td>0</td>\n",
       "      <td>1</td>\n",
       "      <td>1</td>\n",
       "      <td>0.196364</td>\n",
       "      <td>1349</td>\n",
       "    </tr>\n",
       "    <tr>\n",
       "      <th>3</th>\n",
       "      <td>1</td>\n",
       "      <td>1</td>\n",
       "      <td>0</td>\n",
       "      <td>1</td>\n",
       "      <td>1</td>\n",
       "      <td>0.200000</td>\n",
       "      <td>1562</td>\n",
       "    </tr>\n",
       "    <tr>\n",
       "      <th>4</th>\n",
       "      <td>1</td>\n",
       "      <td>1</td>\n",
       "      <td>0</td>\n",
       "      <td>1</td>\n",
       "      <td>1</td>\n",
       "      <td>0.226957</td>\n",
       "      <td>1600</td>\n",
       "    </tr>\n",
       "  </tbody>\n",
       "</table>\n",
       "</div>"
      ],
      "text/plain": [
       "   season  mnth  holiday  workingday  weathersit      temp   cnt\n",
       "0       1     1        0           0           2  0.344167   985\n",
       "1       1     1        0           0           2  0.363478   801\n",
       "2       1     1        0           1           1  0.196364  1349\n",
       "3       1     1        0           1           1  0.200000  1562\n",
       "4       1     1        0           1           1  0.226957  1600"
      ]
     },
     "execution_count": 7,
     "metadata": {},
     "output_type": "execute_result"
    }
   ],
   "source": [
    "bike_sharing_data_cols.head()"
   ]
  },
  {
   "cell_type": "code",
   "execution_count": 8,
   "metadata": {},
   "outputs": [
    {
     "data": {
      "text/html": [
       "<div>\n",
       "<style scoped>\n",
       "    .dataframe tbody tr th:only-of-type {\n",
       "        vertical-align: middle;\n",
       "    }\n",
       "\n",
       "    .dataframe tbody tr th {\n",
       "        vertical-align: top;\n",
       "    }\n",
       "\n",
       "    .dataframe thead th {\n",
       "        text-align: right;\n",
       "    }\n",
       "</style>\n",
       "<table border=\"1\" class=\"dataframe\">\n",
       "  <thead>\n",
       "    <tr style=\"text-align: right;\">\n",
       "      <th></th>\n",
       "      <th>season</th>\n",
       "      <th>mnth</th>\n",
       "      <th>holiday</th>\n",
       "      <th>workingday</th>\n",
       "      <th>weathersit</th>\n",
       "      <th>temp</th>\n",
       "      <th>cnt</th>\n",
       "    </tr>\n",
       "  </thead>\n",
       "  <tbody>\n",
       "    <tr>\n",
       "      <th>count</th>\n",
       "      <td>731.000000</td>\n",
       "      <td>731.000000</td>\n",
       "      <td>731.000000</td>\n",
       "      <td>731.000000</td>\n",
       "      <td>731.000000</td>\n",
       "      <td>731.000000</td>\n",
       "      <td>731.000000</td>\n",
       "    </tr>\n",
       "    <tr>\n",
       "      <th>mean</th>\n",
       "      <td>2.496580</td>\n",
       "      <td>6.519836</td>\n",
       "      <td>0.028728</td>\n",
       "      <td>0.683995</td>\n",
       "      <td>1.395349</td>\n",
       "      <td>0.495385</td>\n",
       "      <td>4504.348837</td>\n",
       "    </tr>\n",
       "    <tr>\n",
       "      <th>std</th>\n",
       "      <td>1.110807</td>\n",
       "      <td>3.451913</td>\n",
       "      <td>0.167155</td>\n",
       "      <td>0.465233</td>\n",
       "      <td>0.544894</td>\n",
       "      <td>0.183051</td>\n",
       "      <td>1937.211452</td>\n",
       "    </tr>\n",
       "    <tr>\n",
       "      <th>min</th>\n",
       "      <td>1.000000</td>\n",
       "      <td>1.000000</td>\n",
       "      <td>0.000000</td>\n",
       "      <td>0.000000</td>\n",
       "      <td>1.000000</td>\n",
       "      <td>0.059130</td>\n",
       "      <td>22.000000</td>\n",
       "    </tr>\n",
       "    <tr>\n",
       "      <th>25%</th>\n",
       "      <td>2.000000</td>\n",
       "      <td>4.000000</td>\n",
       "      <td>0.000000</td>\n",
       "      <td>0.000000</td>\n",
       "      <td>1.000000</td>\n",
       "      <td>0.337083</td>\n",
       "      <td>3152.000000</td>\n",
       "    </tr>\n",
       "    <tr>\n",
       "      <th>50%</th>\n",
       "      <td>3.000000</td>\n",
       "      <td>7.000000</td>\n",
       "      <td>0.000000</td>\n",
       "      <td>1.000000</td>\n",
       "      <td>1.000000</td>\n",
       "      <td>0.498333</td>\n",
       "      <td>4548.000000</td>\n",
       "    </tr>\n",
       "    <tr>\n",
       "      <th>75%</th>\n",
       "      <td>3.000000</td>\n",
       "      <td>10.000000</td>\n",
       "      <td>0.000000</td>\n",
       "      <td>1.000000</td>\n",
       "      <td>2.000000</td>\n",
       "      <td>0.655417</td>\n",
       "      <td>5956.000000</td>\n",
       "    </tr>\n",
       "    <tr>\n",
       "      <th>max</th>\n",
       "      <td>4.000000</td>\n",
       "      <td>12.000000</td>\n",
       "      <td>1.000000</td>\n",
       "      <td>1.000000</td>\n",
       "      <td>3.000000</td>\n",
       "      <td>0.861667</td>\n",
       "      <td>8714.000000</td>\n",
       "    </tr>\n",
       "  </tbody>\n",
       "</table>\n",
       "</div>"
      ],
      "text/plain": [
       "           season        mnth     holiday  workingday  weathersit        temp  \\\n",
       "count  731.000000  731.000000  731.000000  731.000000  731.000000  731.000000   \n",
       "mean     2.496580    6.519836    0.028728    0.683995    1.395349    0.495385   \n",
       "std      1.110807    3.451913    0.167155    0.465233    0.544894    0.183051   \n",
       "min      1.000000    1.000000    0.000000    0.000000    1.000000    0.059130   \n",
       "25%      2.000000    4.000000    0.000000    0.000000    1.000000    0.337083   \n",
       "50%      3.000000    7.000000    0.000000    1.000000    1.000000    0.498333   \n",
       "75%      3.000000   10.000000    0.000000    1.000000    2.000000    0.655417   \n",
       "max      4.000000   12.000000    1.000000    1.000000    3.000000    0.861667   \n",
       "\n",
       "               cnt  \n",
       "count   731.000000  \n",
       "mean   4504.348837  \n",
       "std    1937.211452  \n",
       "min      22.000000  \n",
       "25%    3152.000000  \n",
       "50%    4548.000000  \n",
       "75%    5956.000000  \n",
       "max    8714.000000  "
      ]
     },
     "execution_count": 8,
     "metadata": {},
     "output_type": "execute_result"
    }
   ],
   "source": [
    "bike_sharing_data_cols.describe()"
   ]
  },
  {
   "cell_type": "code",
   "execution_count": 9,
   "metadata": {},
   "outputs": [
    {
     "data": {
      "text/plain": [
       "array([ 1,  2,  3,  4,  5,  6,  7,  8,  9, 10, 11, 12])"
      ]
     },
     "execution_count": 9,
     "metadata": {},
     "output_type": "execute_result"
    }
   ],
   "source": [
    "bike_sharing_data_cols['mnth'].unique()"
   ]
  },
  {
   "cell_type": "code",
   "execution_count": 10,
   "metadata": {},
   "outputs": [
    {
     "data": {
      "text/plain": [
       "array([1, 2, 3, 4])"
      ]
     },
     "execution_count": 10,
     "metadata": {},
     "output_type": "execute_result"
    }
   ],
   "source": [
    "bike_sharing_data_cols['season'].unique()"
   ]
  },
  {
   "cell_type": "code",
   "execution_count": 11,
   "metadata": {},
   "outputs": [
    {
     "data": {
      "text/plain": [
       "array([0, 1])"
      ]
     },
     "execution_count": 11,
     "metadata": {},
     "output_type": "execute_result"
    }
   ],
   "source": [
    "bike_sharing_data_cols['holiday'].unique()"
   ]
  },
  {
   "cell_type": "code",
   "execution_count": 12,
   "metadata": {},
   "outputs": [
    {
     "data": {
      "text/plain": [
       "array([0, 1])"
      ]
     },
     "execution_count": 12,
     "metadata": {},
     "output_type": "execute_result"
    }
   ],
   "source": [
    "bike_sharing_data_cols['workingday'].unique()"
   ]
  },
  {
   "cell_type": "code",
   "execution_count": 13,
   "metadata": {},
   "outputs": [
    {
     "data": {
      "text/plain": [
       "array([0.344167 , 0.363478 , 0.196364 , 0.2      , 0.226957 , 0.204348 ,\n",
       "       0.196522 , 0.165    , 0.138333 , 0.150833 , 0.169091 , 0.172727 ,\n",
       "       0.16087  , 0.233333 , 0.231667 , 0.175833 , 0.216667 , 0.292174 ,\n",
       "       0.261667 , 0.1775   , 0.0591304, 0.0965217, 0.0973913, 0.223478 ,\n",
       "       0.2175   , 0.195    , 0.203478 , 0.216522 , 0.180833 , 0.192174 ,\n",
       "       0.26     , 0.186957 , 0.211304 , 0.285833 , 0.271667 , 0.220833 ,\n",
       "       0.134783 , 0.144348 , 0.189091 , 0.2225   , 0.316522 , 0.415    ,\n",
       "       0.266087 , 0.318261 , 0.435833 , 0.521667 , 0.399167 , 0.285217 ,\n",
       "       0.303333 , 0.182222 , 0.221739 , 0.295652 , 0.364348 , 0.2825   ,\n",
       "       0.343478 , 0.407273 , 0.266667 , 0.335    , 0.198333 , 0.384167 ,\n",
       "       0.376522 , 0.261739 , 0.2925   , 0.295833 , 0.389091 , 0.329167 ,\n",
       "       0.384348 , 0.325217 , 0.317391 , 0.365217 , 0.54     , 0.4725   ,\n",
       "       0.3325   , 0.430435 , 0.441667 , 0.346957 , 0.285    , 0.264167 ,\n",
       "       0.265833 , 0.253043 , 0.264348 , 0.3025   , 0.3      , 0.268333 ,\n",
       "       0.315    , 0.378333 , 0.573333 , 0.414167 , 0.390833 , 0.4375   ,\n",
       "       0.335833 , 0.3425   , 0.426667 , 0.595652 , 0.5025   , 0.4125   ,\n",
       "       0.4675   , 0.446667 , 0.430833 , 0.456667 , 0.5125   , 0.505833 ,\n",
       "       0.595    , 0.459167 , 0.336667 , 0.46     , 0.581667 , 0.606667 ,\n",
       "       0.631667 , 0.62     , 0.6175   , 0.51     , 0.451667 , 0.549167 ,\n",
       "       0.616667 , 0.479167 , 0.52     , 0.528333 , 0.5325   , 0.5425   ,\n",
       "       0.535    , 0.520833 , 0.5625   , 0.5775   , 0.561667 , 0.55     ,\n",
       "       0.530833 , 0.536667 , 0.6025   , 0.604167 , 0.66     , 0.660833 ,\n",
       "       0.708333 , 0.681667 , 0.655833 , 0.6675   , 0.733333 , 0.775    ,\n",
       "       0.764167 , 0.715    , 0.635    , 0.648333 , 0.678333 , 0.7075   ,\n",
       "       0.775833 , 0.808333 , 0.755    , 0.725    , 0.6925   , 0.626667 ,\n",
       "       0.628333 , 0.649167 , 0.696667 , 0.699167 , 0.680833 , 0.728333 ,\n",
       "       0.724167 , 0.695    , 0.68     , 0.6825   , 0.744167 , 0.7225   ,\n",
       "       0.738333 , 0.716667 , 0.726667 , 0.746667 , 0.72     , 0.75     ,\n",
       "       0.709167 , 0.7475   , 0.7625   , 0.794167 , 0.663333 , 0.686667 ,\n",
       "       0.719167 , 0.776667 , 0.768333 , 0.815    , 0.848333 , 0.849167 ,\n",
       "       0.83     , 0.743333 , 0.771667 , 0.779167 , 0.838333 , 0.804167 ,\n",
       "       0.805833 , 0.783333 , 0.731667 , 0.71     , 0.710833 , 0.7425   ,\n",
       "       0.765    , 0.766667 , 0.7175   , 0.685833 , 0.676667 , 0.665833 ,\n",
       "       0.700833 , 0.723333 , 0.711667 , 0.685    , 0.6975   , 0.691667 ,\n",
       "       0.640833 , 0.673333 , 0.684167 , 0.7      , 0.707059 , 0.636667 ,\n",
       "       0.639167 , 0.656667 , 0.655    , 0.643333 , 0.669167 , 0.599167 ,\n",
       "       0.633913 , 0.65     , 0.653333 , 0.644348 , 0.650833 , 0.469167 ,\n",
       "       0.491667 , 0.5075   , 0.609167 , 0.634167 , 0.564167 , 0.41     ,\n",
       "       0.356667 , 0.484167 , 0.538333 , 0.494167 , 0.510833 , 0.540833 ,\n",
       "       0.570833 , 0.566667 , 0.543333 , 0.589167 , 0.550833 , 0.506667 ,\n",
       "       0.511667 , 0.534167 , 0.541739 , 0.475833 , 0.4275   , 0.4225   ,\n",
       "       0.421667 , 0.463333 , 0.471667 , 0.47     , 0.330833 , 0.254167 ,\n",
       "       0.319167 , 0.34     , 0.400833 , 0.3775   , 0.408333 , 0.403333 ,\n",
       "       0.326667 , 0.348333 , 0.395    , 0.4      , 0.38     , 0.324167 ,\n",
       "       0.440833 , 0.53     , 0.341667 , 0.274167 , 0.4475   , 0.416667 ,\n",
       "       0.373333 , 0.375    , 0.375833 , 0.503478 , 0.458333 , 0.325    ,\n",
       "       0.3125   , 0.314167 , 0.299167 , 0.385833 , 0.4625   , 0.290833 ,\n",
       "       0.275    , 0.238333 , 0.3175   , 0.258333 , 0.276667 , 0.428333 ,\n",
       "       0.423333 , 0.274783 , 0.321739 , 0.29913  , 0.248333 , 0.311667 ,\n",
       "       0.37     , 0.273043 , 0.15     , 0.1075   , 0.334167 , 0.393333 ,\n",
       "       0.3375   , 0.224167 , 0.308696 , 0.3825   , 0.18     , 0.166667 ,\n",
       "       0.19     , 0.373043 , 0.173333 , 0.1625   , 0.218333 , 0.294167 ,\n",
       "       0.425    , 0.315833 , 0.269167 , 0.39     , 0.313333 , 0.282609 ,\n",
       "       0.354167 , 0.256667 , 0.265    , 0.280833 , 0.1275   , 0.316667 ,\n",
       "       0.343333 , 0.346667 , 0.28     , 0.287826 , 0.395833 , 0.454167 ,\n",
       "       0.4075   , 0.279167 , 0.366667 , 0.359167 , 0.344348 , 0.485833 ,\n",
       "       0.353333 , 0.325833 , 0.243333 , 0.404167 , 0.5275   , 0.410833 ,\n",
       "       0.2875   , 0.361739 , 0.466667 , 0.565    , 0.5725   , 0.5575   ,\n",
       "       0.514167 , 0.545    , 0.560833 , 0.531667 , 0.554167 , 0.601667 ,\n",
       "       0.445833 , 0.323333 , 0.424167 , 0.425833 , 0.433913 , 0.541667 ,\n",
       "       0.435    , 0.5      , 0.489167 , 0.348696 , 0.3975   , 0.4425   ,\n",
       "       0.495    , 0.664167 , 0.608333 , 0.498333 , 0.526667 , 0.57     ,\n",
       "       0.396667 , 0.321667 , 0.413333 , 0.476667 , 0.4575   , 0.376667 ,\n",
       "       0.464167 , 0.613333 , 0.56     , 0.6275   , 0.621667 , 0.5375   ,\n",
       "       0.575    , 0.533333 , 0.6125   , 0.611667 , 0.593333 , 0.6      ,\n",
       "       0.620833 , 0.598333 , 0.615    , 0.69     , 0.7125   , 0.654167 ,\n",
       "       0.583333 , 0.5975   , 0.720833 , 0.5925   , 0.568333 , 0.688333 ,\n",
       "       0.7825   , 0.7775   , 0.715833 , 0.630833 , 0.749167 , 0.834167 ,\n",
       "       0.815833 , 0.781667 , 0.780833 , 0.789167 , 0.8275   , 0.828333 ,\n",
       "       0.861667 , 0.8225   , 0.703333 , 0.745833 , 0.763333 , 0.818333 ,\n",
       "       0.793333 , 0.77     , 0.595833 , 0.741667 , 0.750833 , 0.755833 ,\n",
       "       0.721667 , 0.730833 , 0.713333 , 0.7525   , 0.765833 , 0.769167 ,\n",
       "       0.735833 , 0.706667 , 0.635833 , 0.695833 , 0.7025   , 0.661667 ,\n",
       "       0.753333 , 0.725833 , 0.736667 , 0.659167 , 0.61     , 0.633333 ,\n",
       "       0.58     , 0.580833 , 0.623333 , 0.5525   , 0.546667 , 0.529167 ,\n",
       "       0.619167 , 0.590833 , 0.6575   , 0.415833 , 0.383333 , 0.468333 ,\n",
       "       0.455833 , 0.5225   , 0.563333 , 0.4875   , 0.544167 , 0.5875   ,\n",
       "       0.545833 , 0.4775   , 0.44     , 0.318182 , 0.3575   , 0.365833 ,\n",
       "       0.355    , 0.352174 , 0.361667 , 0.389167 , 0.420833 , 0.485    ,\n",
       "       0.289167 , 0.345    , 0.380833 , 0.374167 , 0.368333 , 0.278333 ,\n",
       "       0.245833 , 0.291667 , 0.296667 , 0.28087  , 0.298333 , 0.3475   ,\n",
       "       0.4525   , 0.438333 , 0.255833 , 0.320833 , 0.381667 , 0.2975   ,\n",
       "       0.281667 , 0.3625   , 0.33     , 0.231304 , 0.291304 , 0.253333 ,\n",
       "       0.215833 ])"
      ]
     },
     "execution_count": 13,
     "metadata": {},
     "output_type": "execute_result"
    }
   ],
   "source": [
    "bike_sharing_data_cols['temp'].unique()"
   ]
  },
  {
   "cell_type": "code",
   "execution_count": 14,
   "metadata": {},
   "outputs": [
    {
     "data": {
      "text/plain": [
       "array([2, 1, 3])"
      ]
     },
     "execution_count": 14,
     "metadata": {},
     "output_type": "execute_result"
    }
   ],
   "source": [
    "bike_sharing_data_cols['weathersit'].unique()"
   ]
  },
  {
   "cell_type": "code",
   "execution_count": 15,
   "metadata": {},
   "outputs": [
    {
     "data": {
      "text/plain": [
       "count    731.000000\n",
       "mean       0.495385\n",
       "std        0.183051\n",
       "min        0.059130\n",
       "25%        0.337083\n",
       "50%        0.498333\n",
       "75%        0.655417\n",
       "max        0.861667\n",
       "Name: temp, dtype: float64"
      ]
     },
     "execution_count": 15,
     "metadata": {},
     "output_type": "execute_result"
    }
   ],
   "source": [
    "bike_sharing_data_cols['temp'].describe()"
   ]
  },
  {
   "cell_type": "code",
   "execution_count": 16,
   "metadata": {},
   "outputs": [
    {
     "data": {
      "text/html": [
       "<div>\n",
       "<style scoped>\n",
       "    .dataframe tbody tr th:only-of-type {\n",
       "        vertical-align: middle;\n",
       "    }\n",
       "\n",
       "    .dataframe tbody tr th {\n",
       "        vertical-align: top;\n",
       "    }\n",
       "\n",
       "    .dataframe thead th {\n",
       "        text-align: right;\n",
       "    }\n",
       "</style>\n",
       "<table border=\"1\" class=\"dataframe\">\n",
       "  <thead>\n",
       "    <tr style=\"text-align: right;\">\n",
       "      <th></th>\n",
       "      <th>count</th>\n",
       "      <th>mean</th>\n",
       "      <th>std</th>\n",
       "      <th>min</th>\n",
       "      <th>25%</th>\n",
       "      <th>50%</th>\n",
       "      <th>75%</th>\n",
       "      <th>max</th>\n",
       "    </tr>\n",
       "    <tr>\n",
       "      <th>workingday</th>\n",
       "      <th></th>\n",
       "      <th></th>\n",
       "      <th></th>\n",
       "      <th></th>\n",
       "      <th></th>\n",
       "      <th></th>\n",
       "      <th></th>\n",
       "      <th></th>\n",
       "    </tr>\n",
       "  </thead>\n",
       "  <tbody>\n",
       "    <tr>\n",
       "      <th>0</th>\n",
       "      <td>231.0</td>\n",
       "      <td>4330.168831</td>\n",
       "      <td>2052.141245</td>\n",
       "      <td>605.0</td>\n",
       "      <td>2710.50</td>\n",
       "      <td>4459.0</td>\n",
       "      <td>5907.5</td>\n",
       "      <td>8714.0</td>\n",
       "    </tr>\n",
       "    <tr>\n",
       "      <th>1</th>\n",
       "      <td>500.0</td>\n",
       "      <td>4584.820000</td>\n",
       "      <td>1878.415583</td>\n",
       "      <td>22.0</td>\n",
       "      <td>3344.25</td>\n",
       "      <td>4582.0</td>\n",
       "      <td>5987.5</td>\n",
       "      <td>8362.0</td>\n",
       "    </tr>\n",
       "  </tbody>\n",
       "</table>\n",
       "</div>"
      ],
      "text/plain": [
       "            count         mean          std    min      25%     50%     75%  \\\n",
       "workingday                                                                    \n",
       "0           231.0  4330.168831  2052.141245  605.0  2710.50  4459.0  5907.5   \n",
       "1           500.0  4584.820000  1878.415583   22.0  3344.25  4582.0  5987.5   \n",
       "\n",
       "               max  \n",
       "workingday          \n",
       "0           8714.0  \n",
       "1           8362.0  "
      ]
     },
     "execution_count": 16,
     "metadata": {},
     "output_type": "execute_result"
    }
   ],
   "source": [
    " bike_sharing_data_cols.groupby('workingday')['cnt'].describe()"
   ]
  },
  {
   "cell_type": "code",
   "execution_count": 17,
   "metadata": {},
   "outputs": [
    {
     "data": {
      "text/plain": [
       "<AxesSubplot:title={'center':'cnt'}, xlabel='workingday'>"
      ]
     },
     "execution_count": 17,
     "metadata": {},
     "output_type": "execute_result"
    },
    {
     "data": {
      "image/png": "[encoded data removed]",
      "text/plain": [
       "<Figure size 720x576 with 1 Axes>"
      ]
     },
     "metadata": {
      "needs_background": "light"
     },
     "output_type": "display_data"
    }
   ],
   "source": [
    "bike_sharing_data_cols.boxplot(column=['cnt'], by='workingday', figsize=(10,8))"
   ]
  },
  {
   "cell_type": "code",
   "execution_count": 18,
   "metadata": {},
   "outputs": [],
   "source": [
    "# for working day\n",
    "sample_01 = bike_sharing_data_cols[(bike_sharing_data_cols['workingday'] == 1)]\n",
    "\n",
    "# for non-working day\n",
    "sample_02 = bike_sharing_data_cols[(bike_sharing_data_cols['workingday'] == 0)]"
   ]
  },
  {
   "cell_type": "code",
   "execution_count": 19,
   "metadata": {},
   "outputs": [
    {
     "data": {
      "text/plain": [
       "((500, 7), (231, 7))"
      ]
     },
     "execution_count": 19,
     "metadata": {},
     "output_type": "execute_result"
    }
   ],
   "source": [
    "sample_01.shape, sample_02.shape"
   ]
  },
  {
   "cell_type": "code",
   "execution_count": 20,
   "metadata": {
    "scrolled": false
   },
   "outputs": [
    {
     "data": {
      "text/html": [
       "<div>\n",
       "<style scoped>\n",
       "    .dataframe tbody tr th:only-of-type {\n",
       "        vertical-align: middle;\n",
       "    }\n",
       "\n",
       "    .dataframe tbody tr th {\n",
       "        vertical-align: top;\n",
       "    }\n",
       "\n",
       "    .dataframe thead th {\n",
       "        text-align: right;\n",
       "    }\n",
       "</style>\n",
       "<table border=\"1\" class=\"dataframe\">\n",
       "  <thead>\n",
       "    <tr style=\"text-align: right;\">\n",
       "      <th></th>\n",
       "      <th>season</th>\n",
       "      <th>mnth</th>\n",
       "      <th>holiday</th>\n",
       "      <th>workingday</th>\n",
       "      <th>weathersit</th>\n",
       "      <th>temp</th>\n",
       "      <th>cnt</th>\n",
       "    </tr>\n",
       "  </thead>\n",
       "  <tbody>\n",
       "    <tr>\n",
       "      <th>2</th>\n",
       "      <td>1</td>\n",
       "      <td>1</td>\n",
       "      <td>0</td>\n",
       "      <td>1</td>\n",
       "      <td>1</td>\n",
       "      <td>0.196364</td>\n",
       "      <td>1349</td>\n",
       "    </tr>\n",
       "    <tr>\n",
       "      <th>3</th>\n",
       "      <td>1</td>\n",
       "      <td>1</td>\n",
       "      <td>0</td>\n",
       "      <td>1</td>\n",
       "      <td>1</td>\n",
       "      <td>0.200000</td>\n",
       "      <td>1562</td>\n",
       "    </tr>\n",
       "    <tr>\n",
       "      <th>4</th>\n",
       "      <td>1</td>\n",
       "      <td>1</td>\n",
       "      <td>0</td>\n",
       "      <td>1</td>\n",
       "      <td>1</td>\n",
       "      <td>0.226957</td>\n",
       "      <td>1600</td>\n",
       "    </tr>\n",
       "    <tr>\n",
       "      <th>5</th>\n",
       "      <td>1</td>\n",
       "      <td>1</td>\n",
       "      <td>0</td>\n",
       "      <td>1</td>\n",
       "      <td>1</td>\n",
       "      <td>0.204348</td>\n",
       "      <td>1606</td>\n",
       "    </tr>\n",
       "    <tr>\n",
       "      <th>6</th>\n",
       "      <td>1</td>\n",
       "      <td>1</td>\n",
       "      <td>0</td>\n",
       "      <td>1</td>\n",
       "      <td>2</td>\n",
       "      <td>0.196522</td>\n",
       "      <td>1510</td>\n",
       "    </tr>\n",
       "    <tr>\n",
       "      <th>...</th>\n",
       "      <td>...</td>\n",
       "      <td>...</td>\n",
       "      <td>...</td>\n",
       "      <td>...</td>\n",
       "      <td>...</td>\n",
       "      <td>...</td>\n",
       "      <td>...</td>\n",
       "    </tr>\n",
       "    <tr>\n",
       "      <th>723</th>\n",
       "      <td>1</td>\n",
       "      <td>12</td>\n",
       "      <td>0</td>\n",
       "      <td>1</td>\n",
       "      <td>2</td>\n",
       "      <td>0.231304</td>\n",
       "      <td>920</td>\n",
       "    </tr>\n",
       "    <tr>\n",
       "      <th>725</th>\n",
       "      <td>1</td>\n",
       "      <td>12</td>\n",
       "      <td>0</td>\n",
       "      <td>1</td>\n",
       "      <td>3</td>\n",
       "      <td>0.243333</td>\n",
       "      <td>441</td>\n",
       "    </tr>\n",
       "    <tr>\n",
       "      <th>726</th>\n",
       "      <td>1</td>\n",
       "      <td>12</td>\n",
       "      <td>0</td>\n",
       "      <td>1</td>\n",
       "      <td>2</td>\n",
       "      <td>0.254167</td>\n",
       "      <td>2114</td>\n",
       "    </tr>\n",
       "    <tr>\n",
       "      <th>727</th>\n",
       "      <td>1</td>\n",
       "      <td>12</td>\n",
       "      <td>0</td>\n",
       "      <td>1</td>\n",
       "      <td>2</td>\n",
       "      <td>0.253333</td>\n",
       "      <td>3095</td>\n",
       "    </tr>\n",
       "    <tr>\n",
       "      <th>730</th>\n",
       "      <td>1</td>\n",
       "      <td>12</td>\n",
       "      <td>0</td>\n",
       "      <td>1</td>\n",
       "      <td>2</td>\n",
       "      <td>0.215833</td>\n",
       "      <td>2729</td>\n",
       "    </tr>\n",
       "  </tbody>\n",
       "</table>\n",
       "<p>500 rows × 7 columns</p>\n",
       "</div>"
      ],
      "text/plain": [
       "     season  mnth  holiday  workingday  weathersit      temp   cnt\n",
       "2         1     1        0           1           1  0.196364  1349\n",
       "3         1     1        0           1           1  0.200000  1562\n",
       "4         1     1        0           1           1  0.226957  1600\n",
       "5         1     1        0           1           1  0.204348  1606\n",
       "6         1     1        0           1           2  0.196522  1510\n",
       "..      ...   ...      ...         ...         ...       ...   ...\n",
       "723       1    12        0           1           2  0.231304   920\n",
       "725       1    12        0           1           3  0.243333   441\n",
       "726       1    12        0           1           2  0.254167  2114\n",
       "727       1    12        0           1           2  0.253333  3095\n",
       "730       1    12        0           1           2  0.215833  2729\n",
       "\n",
       "[500 rows x 7 columns]"
      ]
     },
     "execution_count": 20,
     "metadata": {},
     "output_type": "execute_result"
    }
   ],
   "source": [
    "bike_sharing_data_cols[(bike_sharing_data_cols['workingday'] == 1)]"
   ]
  },
  {
   "cell_type": "code",
   "execution_count": 21,
   "metadata": {},
   "outputs": [
    {
     "data": {
      "text/html": [
       "<div>\n",
       "<style scoped>\n",
       "    .dataframe tbody tr th:only-of-type {\n",
       "        vertical-align: middle;\n",
       "    }\n",
       "\n",
       "    .dataframe tbody tr th {\n",
       "        vertical-align: top;\n",
       "    }\n",
       "\n",
       "    .dataframe thead th {\n",
       "        text-align: right;\n",
       "    }\n",
       "</style>\n",
       "<table border=\"1\" class=\"dataframe\">\n",
       "  <thead>\n",
       "    <tr style=\"text-align: right;\">\n",
       "      <th></th>\n",
       "      <th>season</th>\n",
       "      <th>mnth</th>\n",
       "      <th>holiday</th>\n",
       "      <th>workingday</th>\n",
       "      <th>weathersit</th>\n",
       "      <th>temp</th>\n",
       "      <th>cnt</th>\n",
       "    </tr>\n",
       "  </thead>\n",
       "  <tbody>\n",
       "    <tr>\n",
       "      <th>0</th>\n",
       "      <td>1</td>\n",
       "      <td>1</td>\n",
       "      <td>0</td>\n",
       "      <td>0</td>\n",
       "      <td>2</td>\n",
       "      <td>0.344167</td>\n",
       "      <td>985</td>\n",
       "    </tr>\n",
       "    <tr>\n",
       "      <th>1</th>\n",
       "      <td>1</td>\n",
       "      <td>1</td>\n",
       "      <td>0</td>\n",
       "      <td>0</td>\n",
       "      <td>2</td>\n",
       "      <td>0.363478</td>\n",
       "      <td>801</td>\n",
       "    </tr>\n",
       "    <tr>\n",
       "      <th>7</th>\n",
       "      <td>1</td>\n",
       "      <td>1</td>\n",
       "      <td>0</td>\n",
       "      <td>0</td>\n",
       "      <td>2</td>\n",
       "      <td>0.165000</td>\n",
       "      <td>959</td>\n",
       "    </tr>\n",
       "    <tr>\n",
       "      <th>8</th>\n",
       "      <td>1</td>\n",
       "      <td>1</td>\n",
       "      <td>0</td>\n",
       "      <td>0</td>\n",
       "      <td>1</td>\n",
       "      <td>0.138333</td>\n",
       "      <td>822</td>\n",
       "    </tr>\n",
       "    <tr>\n",
       "      <th>14</th>\n",
       "      <td>1</td>\n",
       "      <td>1</td>\n",
       "      <td>0</td>\n",
       "      <td>0</td>\n",
       "      <td>2</td>\n",
       "      <td>0.233333</td>\n",
       "      <td>1248</td>\n",
       "    </tr>\n",
       "    <tr>\n",
       "      <th>...</th>\n",
       "      <td>...</td>\n",
       "      <td>...</td>\n",
       "      <td>...</td>\n",
       "      <td>...</td>\n",
       "      <td>...</td>\n",
       "      <td>...</td>\n",
       "      <td>...</td>\n",
       "    </tr>\n",
       "    <tr>\n",
       "      <th>721</th>\n",
       "      <td>1</td>\n",
       "      <td>12</td>\n",
       "      <td>0</td>\n",
       "      <td>0</td>\n",
       "      <td>1</td>\n",
       "      <td>0.265833</td>\n",
       "      <td>1749</td>\n",
       "    </tr>\n",
       "    <tr>\n",
       "      <th>722</th>\n",
       "      <td>1</td>\n",
       "      <td>12</td>\n",
       "      <td>0</td>\n",
       "      <td>0</td>\n",
       "      <td>1</td>\n",
       "      <td>0.245833</td>\n",
       "      <td>1787</td>\n",
       "    </tr>\n",
       "    <tr>\n",
       "      <th>724</th>\n",
       "      <td>1</td>\n",
       "      <td>12</td>\n",
       "      <td>1</td>\n",
       "      <td>0</td>\n",
       "      <td>2</td>\n",
       "      <td>0.291304</td>\n",
       "      <td>1013</td>\n",
       "    </tr>\n",
       "    <tr>\n",
       "      <th>728</th>\n",
       "      <td>1</td>\n",
       "      <td>12</td>\n",
       "      <td>0</td>\n",
       "      <td>0</td>\n",
       "      <td>2</td>\n",
       "      <td>0.253333</td>\n",
       "      <td>1341</td>\n",
       "    </tr>\n",
       "    <tr>\n",
       "      <th>729</th>\n",
       "      <td>1</td>\n",
       "      <td>12</td>\n",
       "      <td>0</td>\n",
       "      <td>0</td>\n",
       "      <td>1</td>\n",
       "      <td>0.255833</td>\n",
       "      <td>1796</td>\n",
       "    </tr>\n",
       "  </tbody>\n",
       "</table>\n",
       "<p>231 rows × 7 columns</p>\n",
       "</div>"
      ],
      "text/plain": [
       "     season  mnth  holiday  workingday  weathersit      temp   cnt\n",
       "0         1     1        0           0           2  0.344167   985\n",
       "1         1     1        0           0           2  0.363478   801\n",
       "7         1     1        0           0           2  0.165000   959\n",
       "8         1     1        0           0           1  0.138333   822\n",
       "14        1     1        0           0           2  0.233333  1248\n",
       "..      ...   ...      ...         ...         ...       ...   ...\n",
       "721       1    12        0           0           1  0.265833  1749\n",
       "722       1    12        0           0           1  0.245833  1787\n",
       "724       1    12        1           0           2  0.291304  1013\n",
       "728       1    12        0           0           2  0.253333  1341\n",
       "729       1    12        0           0           1  0.255833  1796\n",
       "\n",
       "[231 rows x 7 columns]"
      ]
     },
     "execution_count": 21,
     "metadata": {},
     "output_type": "execute_result"
    }
   ],
   "source": [
    "bike_sharing_data_cols[(bike_sharing_data_cols['workingday'] == 0)]"
   ]
  },
  {
   "cell_type": "code",
   "execution_count": 22,
   "metadata": {},
   "outputs": [],
   "source": [
    "sample_01 = sample_01.sample(231)"
   ]
  },
  {
   "cell_type": "code",
   "execution_count": 23,
   "metadata": {},
   "outputs": [
    {
     "data": {
      "text/plain": [
       "((231, 7), (231, 7))"
      ]
     },
     "execution_count": 23,
     "metadata": {},
     "output_type": "execute_result"
    }
   ],
   "source": [
    "sample_01.shape, sample_02.shape"
   ]
  },
  {
   "cell_type": "markdown",
   "metadata": {},
   "source": [
    "Leven's test to check whether the **variance** of the two groups are the same, like the t-test but for **variance** rather than the mean"
   ]
  },
  {
   "cell_type": "code",
   "execution_count": 24,
   "metadata": {},
   "outputs": [
    {
     "data": {
      "text/plain": [
       "LeveneResult(statistic=2.5393511733725656, pvalue=0.111727259830027)"
      ]
     },
     "execution_count": 24,
     "metadata": {},
     "output_type": "execute_result"
    }
   ],
   "source": [
    "stats.levene(sample_01['cnt'], sample_02['cnt'])"
   ]
  },
  {
   "cell_type": "code",
   "execution_count": 25,
   "metadata": {},
   "outputs": [
    {
     "data": {
      "text/plain": [
       "array([-1.32492406, -0.04712871,  0.08447148, -0.00467703, -1.72609237,\n",
       "        0.4187784 ,  1.51774609, -0.66055538,  0.12851509,  0.46918976,\n",
       "       -0.18668858, -0.0874578 ,  1.50447994, -0.27636774, -1.49048559,\n",
       "       -0.74652002, -0.54646651,  1.14417136,  0.33122183, -0.14476756,\n",
       "        0.45539297, -0.6642699 ,  0.12267798,  0.46865912, -1.58706314,\n",
       "       -0.99857683,  1.62334462, -1.37798865, -1.77915696,  0.21925554,\n",
       "        1.21633921, -0.7613781 , -0.61067467,  1.60105749,  1.09322936,\n",
       "        0.20598939, -0.30767585,  0.10198279, -1.80993443,  0.16512966,\n",
       "        0.23411363,  0.84860159,  0.86080645, -0.48119706, -0.85211856,\n",
       "       -0.28963389, -1.4039903 , -0.5024229 , -0.25885643, -1.19385452,\n",
       "        1.23331988, -1.7287456 , -0.29387906,  0.63740452, -1.73405206,\n",
       "        1.51986867,  1.49652025, -0.11452074, -0.36710819,  0.50898821,\n",
       "       -0.15697241,  1.38402332,  0.34448797, -1.70486654, -1.1185028 ,\n",
       "        1.6127317 , -0.46103252,  0.45857685,  1.5872607 ,  1.37447169,\n",
       "       -0.08851909,  0.00699718, -1.89855229,  0.69630621, -1.86352966,\n",
       "        0.17733451,  0.86929678, -0.02324964, -0.58201979,  1.54321709,\n",
       "       -1.30741275,  0.50951885, -1.34827248,  1.53684934, -0.83779112,\n",
       "        0.85762257, -0.30608391,  1.40843303,  1.85364495,  1.42700563,\n",
       "       -0.05243517,  0.74247241, -0.5995311 ,  0.26860561,  0.54348019,\n",
       "       -1.19438517,  0.31052664, -0.93383803,  1.54852355, -2.21163338,\n",
       "        0.62254643,  0.18370226,  0.43894295, -1.51595659, -0.03492385,\n",
       "        1.19033756,  0.98497759,  0.55939957, -1.19809969,  0.3147718 ,\n",
       "        0.05900047,  0.04467303, -1.62739223, -0.18138212,  0.40922678,\n",
       "        0.53711244, -0.26097901, -0.72370225,  0.28134111,  0.02291655,\n",
       "        0.12904573,  0.94624044, -0.73325387,  1.255607  , -1.63110675,\n",
       "       -0.56291653, -0.78525717, -1.57167441,  0.6533239 , -1.22357069,\n",
       "        1.46998795,  0.80561927, -0.44245991,  0.81357896,  1.45459922,\n",
       "        0.29248468, -0.62977792, -0.47217608,  1.11710842, -0.43450022,\n",
       "        1.34900069, -0.60059239,  1.17017301,  1.29381351, -1.18960936,\n",
       "        1.1133939 ,  1.00726472,  0.04732626,  0.28027982, -0.17819825,\n",
       "        0.09986021, -0.16546275, -0.1776676 ,  0.82737575, -0.44776637,\n",
       "       -1.75846177,  0.34236539,  0.93509687,  1.25030055,  1.55542194,\n",
       "       -1.06862209,  0.25056365, -0.43927604,  0.82419188, -0.33898396,\n",
       "        0.00275201, -2.24612537, -1.50693561,  1.3792475 ,  1.62493656,\n",
       "       -0.68867961,  0.19166195, -0.92269446, -0.48438094,  1.05396156,\n",
       "        0.59017703, -1.31696437, -1.39443868,  0.15823126, -0.05190452,\n",
       "        1.29009899,  1.0035502 , -0.38939532,  0.4835172 ,  0.1009215 ,\n",
       "        0.16778289, -0.92693963, -0.74386679, -0.88873312, -0.53850682,\n",
       "       -0.25408061,  0.062715  , -0.04447548,  0.08075696, -0.77464425,\n",
       "        0.80774186,  0.02716172,  1.66102048,  1.64032529,  0.36518317,\n",
       "       -1.29839177, -0.17607566,  0.47661881, -0.04182225, -1.04208979,\n",
       "       -1.62792288, -2.11770905,  0.497314  ,  0.54348019,  0.0685521 ,\n",
       "        1.69604311,  0.77431116,  1.3861459 , -1.60457446,  1.46892666,\n",
       "       -1.44856456, -1.33288375, -1.71282622,  1.23756504,  1.45937503,\n",
       "        0.43788166, -0.68284251,  1.64138658, -1.03200752, -0.14476756,\n",
       "        0.43575907, -1.42680808, -0.21640475, -1.67037455, -0.31192102,\n",
       "        1.48166216])"
      ]
     },
     "execution_count": 25,
     "metadata": {},
     "output_type": "execute_result"
    }
   ],
   "source": [
    "scale(np.array(sample_01['cnt']))"
   ]
  },
  {
   "cell_type": "code",
   "execution_count": 26,
   "metadata": {},
   "outputs": [
    {
     "data": {
      "text/plain": [
       "array([-1.63362686e+00, -1.72348401e+00, -1.64632406e+00, -1.71322857e+00,\n",
       "       -1.50518973e+00, -1.52667731e+00, -1.62630154e+00, -1.63558027e+00,\n",
       "       -1.63313850e+00, -1.57844284e+00, -1.57941955e+00, -1.62385977e+00,\n",
       "       -1.32205695e+00, -1.39579842e+00, -1.33866099e+00, -1.31619670e+00,\n",
       "       -1.22975803e+00, -1.57404766e+00, -1.15308644e+00, -9.41629121e-01,\n",
       "       -1.10034420e+00, -1.81920141e+00, -1.07348472e+00, -9.34303810e-01,\n",
       "       -5.92455952e-01, -9.07932689e-01, -8.95723837e-01, -1.28787217e+00,\n",
       "       -1.01488223e+00, -5.27993213e-01, -9.15746354e-01, -7.00870558e-01,\n",
       "       -5.88060765e-01, -1.72641413e+00, -2.86257942e-01, -1.43658550e-01,\n",
       "       -6.79636669e-02,  4.79481260e-01, -4.78181096e-01,  1.87445518e-01,\n",
       "        1.38261286e-03, -4.49856560e-01,  1.08820511e-01,  7.20239823e-01,\n",
       "        1.61074398e-01,  2.08933098e-01,  2.23583720e-01, -1.13380597e-01,\n",
       "        4.94131882e-01,  2.81209502e-01,  3.10510747e-01,  6.34035814e-02,\n",
       "        3.85228922e-01,  2.02096141e-01,  4.25762311e-01,  4.76062781e-01,\n",
       "        3.85228922e-01,  1.55702503e-01,  8.36468094e-01,  4.91201758e-01,\n",
       "        2.69000650e-01,  7.77865604e-01,  4.74597719e-01, -5.10412466e-01,\n",
       "       -3.53650805e-01,  7.07288926e-02, -1.37563637e-02, -1.76631964e-02,\n",
       "       -2.66235424e-01, -8.79861843e-02, -2.49143032e-01,  4.20390416e-01,\n",
       "       -2.23260265e-01, -1.57014083e+00,  1.87096694e-03,  7.51240793e-02,\n",
       "        2.97813541e-01, -4.78181096e-01,  4.95596945e-01,  3.49579074e-01,\n",
       "        8.83096396e-02, -2.74302780e-02,  5.33688563e-01,  3.31998327e-01,\n",
       "       -9.28443561e-01, -6.89638414e-01,  5.26851606e-01,  5.76663722e-01,\n",
       "        3.84252214e-01,  4.33087622e-01,  3.47137303e-01, -1.08262392e-02,\n",
       "        2.48236088e-02, -1.80845762e+00, -4.87948178e-01, -1.97377499e-01,\n",
       "       -3.32651580e-01, -4.69879077e-01, -1.28519573e-01, -2.99443502e-01,\n",
       "       -3.25814623e-01, -3.95649256e-01, -1.38456627e+00, -6.16385302e-01,\n",
       "       -6.14920240e-01, -3.49743973e-01, -4.12741649e-01, -5.56806104e-01,\n",
       "       -7.75100379e-01, -7.77053795e-01, -9.27466852e-01, -1.62092965e+00,\n",
       "       -1.74643665e+00, -1.47149330e+00, -9.01095732e-01, -9.94371362e-01,\n",
       "       -1.16187681e+00,  9.31931804e-02, -4.42042894e-01, -8.97188899e-01,\n",
       "       -9.86069342e-01, -9.92417945e-01, -1.47930697e+00, -1.14917961e+00,\n",
       "       -1.50007153e-01, -5.30923337e-01, -7.31636865e-01, -6.75476146e-01,\n",
       "       -1.05541562e+00, -1.36796224e+00, -5.94269838e-03, -8.01471499e-01,\n",
       "       -5.86595703e-01, -7.80472274e-01, -4.59623641e-01, -1.29007927e-01,\n",
       "       -4.43019602e-01, -1.03613515e-01,  2.83651273e-01,  1.71208696e+00,\n",
       "        7.62726628e-01, -4.67925661e-01,  3.25161370e-01,  9.30232078e-01,\n",
       "        8.35491386e-01,  1.23398832e+00,  4.09646626e-01,  1.52846583e+00,\n",
       "        1.36828569e+00,  9.96159879e-01,  1.12020182e+00, -1.61311598e+00,\n",
       "       -5.38013985e-02,  9.63928510e-01,  1.24668552e+00,  9.90787984e-01,\n",
       "        1.51332685e+00,  8.73094650e-01,  1.93575313e+00,  1.36682063e+00,\n",
       "        1.07722666e+00,  1.10408613e+00,  8.36468094e-01,  1.85077952e+00,\n",
       "        1.61685792e+00,  1.54702328e+00,  1.10750461e+00,  1.64664752e+00,\n",
       "        1.29307916e+00,  1.52748912e+00,  1.25059236e+00,  6.62614041e-01,\n",
       "        5.86430804e-01,  1.50062965e+00,  2.48978133e-01,  1.66934647e-01,\n",
       "        1.28868397e+00,  8.30607845e-01,  6.29152273e-02,  1.50404813e+00,\n",
       "        1.14999142e+00,  1.10701626e+00,  1.21787263e+00,  5.53711080e-01,\n",
       "        9.61486739e-01,  1.08113349e+00,  1.72624923e+00,  1.06867095e-01,\n",
       "        8.41351635e-01,  4.51645077e-01,  8.83838440e-01,  7.22681593e-01,\n",
       "        8.32072908e-01,  8.03748371e-01,  1.90303341e+00,  2.14086185e+00,\n",
       "        1.46644486e+00,  1.98507690e+00,  1.74676010e+00,  2.06321355e+00,\n",
       "        1.24961565e+00,  1.77508464e+00, -4.00532797e-01,  5.60548038e-01,\n",
       "        1.35705355e+00,  1.12752713e+00,  1.83612890e+00,  1.21787263e+00,\n",
       "        1.71990063e+00,  6.29152273e-02,  3.94507649e-01,  3.79368673e-01,\n",
       "        1.07722666e+00,  1.23154655e+00,  9.46836117e-01,  6.34289504e-01,\n",
       "        1.65469585e-01, -9.30396977e-01, -1.00267338e+00, -9.30885331e-01,\n",
       "        4.20390416e-01,  1.55702503e-01,  6.11336862e-01, -5.38248649e-01,\n",
       "        3.50067428e-01, -2.65747070e-01, -1.26052434e+00, -1.24196688e+00,\n",
       "       -1.61995294e+00, -1.45977280e+00, -1.23757169e+00])"
      ]
     },
     "execution_count": 26,
     "metadata": {},
     "output_type": "execute_result"
    }
   ],
   "source": [
    "scale(np.array(sample_02['cnt'], dtype = np.float))"
   ]
  },
  {
   "cell_type": "markdown",
   "metadata": {},
   "source": [
    "The distribution of the residuals between the two groups should follow the **normal** distribution"
   ]
  },
  {
   "cell_type": "code",
   "execution_count": 27,
   "metadata": {},
   "outputs": [
    {
     "name": "stdout",
     "output_type": "stream",
     "text": [
      "[ 3.15817081e-01  1.28074084e+00  1.31424514e+00  1.30270477e+00\n",
      " -6.35260168e-02  1.45756907e+00  2.30448325e+00  7.83388161e-01\n",
      "  1.33509225e+00  1.53239534e+00  1.07301420e+00  1.17650525e+00\n",
      "  2.06325231e+00  8.70127063e-01 -2.51822101e-02  4.79615867e-01\n",
      "  5.54069860e-01  2.00257231e+00  1.11135800e+00  6.16238945e-01\n",
      "  1.15826402e+00  9.20755779e-01  9.04375900e-01  1.04099898e+00\n",
      " -6.61763856e-01 -8.43006149e-03  1.82164910e+00  1.50229465e-02\n",
      " -4.74512062e-01  5.56303480e-01  1.55138111e+00  1.32147781e-04\n",
      "  1.98624561e-02  2.43924498e+00  9.85158484e-01  2.54020266e-01\n",
      " -1.64038908e-01 -2.93961127e-01 -9.05228415e-01 -2.70435599e-02\n",
      "  1.63186394e-01  9.38252468e-01  5.20937833e-01 -8.86614916e-01\n",
      " -7.20582511e-01 -3.62458801e-01 -1.15539383e+00 -2.66040879e-01\n",
      " -5.58272804e-01 -1.05190278e+00  6.28523854e-01 -1.26111850e+00\n",
      " -4.99826419e-01  2.93108613e-01 -1.54106552e+00  7.03350118e-01\n",
      "  7.56212453e-01 -1.99032285e-01 -8.95177126e-01 -1.73645407e-02\n",
      " -3.15180515e-01  3.77986165e-01 -1.20111052e-01 -8.06949143e-01\n",
      " -5.15089488e-01  1.07748144e+00 -3.12946895e-01  3.35175119e-01\n",
      "  1.31647876e+00  1.03131996e+00  1.27820747e-01 -3.15552785e-01\n",
      " -1.16172242e+00  1.68539829e+00 -1.30876906e+00  6.71407421e-02\n",
      "  3.82825675e-01  3.48204568e-01 -7.86102025e-01  8.16147918e-01\n",
      " -9.84521918e-01  3.78358435e-01 -1.35269692e+00  8.25082397e-01\n",
      "  1.20003078e-01  1.12736561e+00 -6.16346920e-01  5.48485811e-01\n",
      "  1.00749468e+00  6.70962630e-01 -3.01406526e-01  5.29127773e-01\n",
      " -4.39518685e-01  1.56701644e+00  7.53234293e-01 -6.87450483e-01\n",
      "  4.71425927e-01 -2.96939287e-01  1.18432292e+00 -1.32328759e+00\n",
      "  6.85108889e-01  4.30476231e-01  1.36338477e+00 -5.93638451e-01\n",
      "  4.44250220e-01  1.10167898e+00  1.00563333e+00  8.16892458e-01\n",
      " -2.49661001e-01  8.13169758e-01  7.48394784e-01  1.26696685e+00\n",
      "  1.89617562e-01  9.94465233e-01  9.73990385e-01  1.13481101e+00\n",
      "  7.02605578e-01 -5.78747653e-01  5.34339552e-01  6.99999688e-01\n",
      "  8.42206816e-01  1.42034208e+00  6.13260785e-01  1.75687413e+00\n",
      " -1.02993885e+00  9.81116695e-03  6.83300721e-03 -5.87682132e-01\n",
      "  1.26287188e+00  1.84405782e-01  1.03578720e+00  1.17613298e+00\n",
      "  1.36755226e-01  1.16570942e+00  1.37083017e+00  3.03532172e-01\n",
      " -1.04103443e-01 -2.52266891e-01  5.67471579e-01 -1.60993546e+00\n",
      "  3.64956717e-01 -6.46428267e-02  5.73055629e-01  1.98552041e-01\n",
      " -1.47145104e+00 -1.59571669e-01  3.94366044e-01 -1.13194083e+00\n",
      " -8.46409760e-01 -8.84381297e-01 -7.83868405e-01  1.11359162e+00\n",
      " -8.36285951e-02 -1.54359889e-01 -1.26446893e+00 -1.98890629e+00\n",
      " -9.13418354e-01 -9.54687139e-03 -5.98477961e-01  4.92717836e-02\n",
      " -1.57084712e+00 -6.65858825e-01 -9.45805841e-01 -8.32635771e-01\n",
      " -1.47033423e+00 -1.17735776e+00 -2.41999492e+00 -2.31240889e+00\n",
      " -1.81090807e-02 -2.44376701e-02 -1.43645766e+00 -3.70648741e-01\n",
      " -1.09434156e+00 -1.48373595e+00  5.49602621e-01  2.86780023e-01\n",
      " -1.90626236e+00 -1.61142454e+00  6.30457724e-02 -1.18294181e+00\n",
      "  2.84246654e-02 -1.39841360e-01 -1.20155531e+00 -8.28840551e-02\n",
      " -6.62136126e-01 -7.06436252e-01 -1.96619782e+00 -6.03317471e-01\n",
      " -1.26484120e+00 -7.22071590e-01 -8.51993809e-01 -5.06899549e-01\n",
      " -6.65486555e-01 -5.56039185e-01 -1.99411807e+00 -1.06530450e+00\n",
      " -1.09880880e+00 -3.47940272e-01 -1.80791057e-01 -1.31658673e+00\n",
      " -1.86345131e+00 -1.47666282e+00  6.39691953e-01 -4.56643103e-01\n",
      " -1.76554431e+00 -2.00156347e+00 -2.88533238e+00 -5.79492193e-01\n",
      " -9.29798233e-01  1.32147781e-04  8.89112832e-01  2.54020266e-01\n",
      "  1.51273755e-01 -2.06447710e+00  3.08743951e-01 -1.49974355e+00\n",
      " -1.06120953e+00 -4.92381020e-01  1.63253596e+00  1.73342112e+00\n",
      " -1.32695711e-02 -5.97733421e-01  6.85481159e-01 -3.13691435e-01\n",
      " -3.68415121e-01  5.08280654e-01 -4.00730088e-02  7.94928530e-01\n",
      "  6.30457724e-02  8.93952341e-01  1.98284200e+00]\n"
     ]
    }
   ],
   "source": [
    "diff = scale(np.array(sample_01['cnt']) - np.array(sample_02['cnt'], dtype=np.float))\n",
    "print(diff)"
   ]
  },
  {
   "cell_type": "code",
   "execution_count": 28,
   "metadata": {},
   "outputs": [
    {
     "data": {
      "text/plain": [
       "(array([ 2.,  8., 15., 29., 39., 46., 41., 36., 10.,  5.]),\n",
       " array([-2.88533238, -2.35287464, -1.8204169 , -1.28795917, -0.75550143,\n",
       "        -0.2230437 ,  0.30941404,  0.84187177,  1.37432951,  1.90678724,\n",
       "         2.43924498]),\n",
       " <BarContainer object of 10 artists>)"
      ]
     },
     "execution_count": 28,
     "metadata": {},
     "output_type": "execute_result"
    },
    {
     "data": {
      "image/png": "[encoded data removed]",
      "text/plain": [
       "<Figure size 432x288 with 1 Axes>"
      ]
     },
     "metadata": {
      "needs_background": "light"
     },
     "output_type": "display_data"
    }
   ],
   "source": [
    "plt.hist(diff)"
   ]
  },
  {
   "cell_type": "markdown",
   "metadata": {},
   "source": [
    "Generating a probability plot of **sample data** against the quantiles of a **theoretical distribution**"
   ]
  },
  {
   "cell_type": "code",
   "execution_count": 29,
   "metadata": {},
   "outputs": [
    {
     "data": {
      "image/png": "[encoded data removed]",
      "text/plain": [
       "<Figure size 720x576 with 1 Axes>"
      ]
     },
     "metadata": {
      "needs_background": "light"
     },
     "output_type": "display_data"
    }
   ],
   "source": [
    "plt.figure(figsize=(10,8))\n",
    "stats.probplot(diff, plot=plt, dist='norm')\n",
    "plt.show()"
   ]
  },
  {
   "cell_type": "markdown",
   "metadata": {},
   "source": [
    "This shows our data is normalized, although, at two ends the data does not exactly fit the **red line**"
   ]
  },
  {
   "cell_type": "markdown",
   "metadata": {},
   "source": [
    "Another method to check for the normality is to use the Shapiro-Wilk test for normality. \n",
    "- If the test statistic is **not significant** then population is **normally distributed**"
   ]
  },
  {
   "cell_type": "code",
   "execution_count": 30,
   "metadata": {},
   "outputs": [
    {
     "data": {
      "text/plain": [
       "(0.9943041801452637, 0.5341091156005859)"
      ]
     },
     "execution_count": 30,
     "metadata": {},
     "output_type": "execute_result"
    }
   ],
   "source": [
    "stats.shapiro(diff)"
   ]
  },
  {
   "cell_type": "markdown",
   "metadata": {},
   "source": [
    "Here the p-value is 0.31426 i.e., is 31% which means the Shapirop test is not significant and our residual data is normally distributed"
   ]
  },
  {
   "cell_type": "markdown",
   "metadata": {},
   "source": [
    "<h3> Performing an independent T-test</h3"
   ]
  },
  {
   "cell_type": "code",
   "execution_count": 31,
   "metadata": {},
   "outputs": [
    {
     "data": {
      "text/plain": [
       "Ttest_indResult(statistic=1.87275393097813, pvalue=0.06173642682628088)"
      ]
     },
     "execution_count": 31,
     "metadata": {},
     "output_type": "execute_result"
    }
   ],
   "source": [
    "stats.ttest_ind(sample_01['cnt'], sample_02['cnt'])"
   ]
  },
  {
   "cell_type": "markdown",
   "metadata": {},
   "source": [
    "The p-value here is 0.14587637383743718 (which is > 0.05), so we can accept the null hypothesis (H0) and reject the alternative hypothesis.\n",
    "\n",
    "This illustrates that, whether it is a working day or not, this has no effect on the number of bikes shared."
   ]
  },
  {
   "cell_type": "code",
   "execution_count": 32,
   "metadata": {},
   "outputs": [],
   "source": [
    "descriptives, results = rp.ttest(sample_01['cnt'], sample_02['cnt'])"
   ]
  },
  {
   "cell_type": "markdown",
   "metadata": {},
   "source": [
    "Comparing the number of bikes shared on **working day vs non-working day** for equal number of data "
   ]
  },
  {
   "cell_type": "code",
   "execution_count": 33,
   "metadata": {},
   "outputs": [
    {
     "data": {
      "text/html": [
       "<div>\n",
       "<style scoped>\n",
       "    .dataframe tbody tr th:only-of-type {\n",
       "        vertical-align: middle;\n",
       "    }\n",
       "\n",
       "    .dataframe tbody tr th {\n",
       "        vertical-align: top;\n",
       "    }\n",
       "\n",
       "    .dataframe thead th {\n",
       "        text-align: right;\n",
       "    }\n",
       "</style>\n",
       "<table border=\"1\" class=\"dataframe\">\n",
       "  <thead>\n",
       "    <tr style=\"text-align: right;\">\n",
       "      <th></th>\n",
       "      <th>Variable</th>\n",
       "      <th>N</th>\n",
       "      <th>Mean</th>\n",
       "      <th>SD</th>\n",
       "      <th>SE</th>\n",
       "      <th>95% Conf.</th>\n",
       "      <th>Interval</th>\n",
       "    </tr>\n",
       "  </thead>\n",
       "  <tbody>\n",
       "    <tr>\n",
       "      <th>0</th>\n",
       "      <td>cnt</td>\n",
       "      <td>231.0</td>\n",
       "      <td>4673.813853</td>\n",
       "      <td>1888.588103</td>\n",
       "      <td>124.259974</td>\n",
       "      <td>4428.980477</td>\n",
       "      <td>4918.647228</td>\n",
       "    </tr>\n",
       "    <tr>\n",
       "      <th>1</th>\n",
       "      <td>cnt</td>\n",
       "      <td>231.0</td>\n",
       "      <td>4330.168831</td>\n",
       "      <td>2052.141245</td>\n",
       "      <td>135.020981</td>\n",
       "      <td>4064.132702</td>\n",
       "      <td>4596.204960</td>\n",
       "    </tr>\n",
       "    <tr>\n",
       "      <th>2</th>\n",
       "      <td>combined</td>\n",
       "      <td>462.0</td>\n",
       "      <td>4501.991342</td>\n",
       "      <td>1977.416322</td>\n",
       "      <td>91.997733</td>\n",
       "      <td>4321.204461</td>\n",
       "      <td>4682.778223</td>\n",
       "    </tr>\n",
       "  </tbody>\n",
       "</table>\n",
       "</div>"
      ],
      "text/plain": [
       "   Variable      N         Mean           SD          SE    95% Conf.  \\\n",
       "0       cnt  231.0  4673.813853  1888.588103  124.259974  4428.980477   \n",
       "1       cnt  231.0  4330.168831  2052.141245  135.020981  4064.132702   \n",
       "2  combined  462.0  4501.991342  1977.416322   91.997733  4321.204461   \n",
       "\n",
       "      Interval  \n",
       "0  4918.647228  \n",
       "1  4596.204960  \n",
       "2  4682.778223  "
      ]
     },
     "execution_count": 33,
     "metadata": {},
     "output_type": "execute_result"
    }
   ],
   "source": [
    "descriptives"
   ]
  },
  {
   "cell_type": "code",
   "execution_count": 34,
   "metadata": {},
   "outputs": [
    {
     "name": "stdout",
     "output_type": "stream",
     "text": [
      "          Independent t-test   results\n",
      "0  Difference (cnt - cnt) =   343.6450\n",
      "1      Degrees of freedom =   460.0000\n",
      "2                       t =     1.8728\n",
      "3   Two side test p value =     0.0617\n",
      "4  Difference < 0 p value =     0.9691\n",
      "5  Difference > 0 p value =     0.0309\n",
      "6               Cohen's d =     0.1743\n",
      "7               Hedge's g =     0.1740\n",
      "8           Glass's delta =     0.1820\n",
      "9             Pearson's r =     0.0870\n"
     ]
    }
   ],
   "source": [
    "print(results)"
   ]
  },
  {
   "cell_type": "markdown",
   "metadata": {},
   "source": [
    "Therefore, the number of bikes shared is not impacted by working day or not working day."
   ]
  },
  {
   "cell_type": "code",
   "execution_count": 35,
   "metadata": {},
   "outputs": [
    {
     "data": {
      "text/html": [
       "<div>\n",
       "<style scoped>\n",
       "    .dataframe tbody tr th:only-of-type {\n",
       "        vertical-align: middle;\n",
       "    }\n",
       "\n",
       "    .dataframe tbody tr th {\n",
       "        vertical-align: top;\n",
       "    }\n",
       "\n",
       "    .dataframe thead th {\n",
       "        text-align: right;\n",
       "    }\n",
       "</style>\n",
       "<table border=\"1\" class=\"dataframe\">\n",
       "  <thead>\n",
       "    <tr style=\"text-align: right;\">\n",
       "      <th></th>\n",
       "      <th>season</th>\n",
       "      <th>mnth</th>\n",
       "      <th>holiday</th>\n",
       "      <th>workingday</th>\n",
       "      <th>weathersit</th>\n",
       "      <th>temp</th>\n",
       "      <th>cnt</th>\n",
       "    </tr>\n",
       "  </thead>\n",
       "  <tbody>\n",
       "    <tr>\n",
       "      <th>0</th>\n",
       "      <td>1</td>\n",
       "      <td>1</td>\n",
       "      <td>0</td>\n",
       "      <td>0</td>\n",
       "      <td>2</td>\n",
       "      <td>0.344167</td>\n",
       "      <td>985</td>\n",
       "    </tr>\n",
       "    <tr>\n",
       "      <th>1</th>\n",
       "      <td>1</td>\n",
       "      <td>1</td>\n",
       "      <td>0</td>\n",
       "      <td>0</td>\n",
       "      <td>2</td>\n",
       "      <td>0.363478</td>\n",
       "      <td>801</td>\n",
       "    </tr>\n",
       "    <tr>\n",
       "      <th>2</th>\n",
       "      <td>1</td>\n",
       "      <td>1</td>\n",
       "      <td>0</td>\n",
       "      <td>1</td>\n",
       "      <td>1</td>\n",
       "      <td>0.196364</td>\n",
       "      <td>1349</td>\n",
       "    </tr>\n",
       "    <tr>\n",
       "      <th>3</th>\n",
       "      <td>1</td>\n",
       "      <td>1</td>\n",
       "      <td>0</td>\n",
       "      <td>1</td>\n",
       "      <td>1</td>\n",
       "      <td>0.200000</td>\n",
       "      <td>1562</td>\n",
       "    </tr>\n",
       "    <tr>\n",
       "      <th>4</th>\n",
       "      <td>1</td>\n",
       "      <td>1</td>\n",
       "      <td>0</td>\n",
       "      <td>1</td>\n",
       "      <td>1</td>\n",
       "      <td>0.226957</td>\n",
       "      <td>1600</td>\n",
       "    </tr>\n",
       "  </tbody>\n",
       "</table>\n",
       "</div>"
      ],
      "text/plain": [
       "   season  mnth  holiday  workingday  weathersit      temp   cnt\n",
       "0       1     1        0           0           2  0.344167   985\n",
       "1       1     1        0           0           2  0.363478   801\n",
       "2       1     1        0           1           1  0.196364  1349\n",
       "3       1     1        0           1           1  0.200000  1562\n",
       "4       1     1        0           1           1  0.226957  1600"
      ]
     },
     "execution_count": 35,
     "metadata": {},
     "output_type": "execute_result"
    }
   ],
   "source": [
    "bike_sharing_data_cols.head()"
   ]
  },
  {
   "cell_type": "markdown",
   "metadata": {},
   "source": [
    "Box plot visualization of 'temp' column. "
   ]
  },
  {
   "cell_type": "code",
   "execution_count": 36,
   "metadata": {},
   "outputs": [
    {
     "data": {
      "text/plain": [
       "<AxesSubplot:>"
      ]
     },
     "execution_count": 36,
     "metadata": {},
     "output_type": "execute_result"
    },
    {
     "data": {
      "image/png": "[encoded data removed]",
      "text/plain": [
       "<Figure size 864x576 with 1 Axes>"
      ]
     },
     "metadata": {
      "needs_background": "light"
     },
     "output_type": "display_data"
    }
   ],
   "source": [
    "bike_sharing_data_cols[['temp']].boxplot(figsize=(12, 8))"
   ]
  },
  {
   "cell_type": "markdown",
   "metadata": {},
   "source": [
    "The median temperature is around 0.5 and the minimum and maximum temperature are in the range 0 to 1."
   ]
  },
  {
   "cell_type": "markdown",
   "metadata": {},
   "source": [
    "Now creating a category one for temperature above the median and one below the median temperature."
   ]
  },
  {
   "cell_type": "code",
   "execution_count": 74,
   "metadata": {},
   "outputs": [
    {
     "name": "stderr",
     "output_type": "stream",
     "text": [
      "/home/bu113t/.local/lib/python3.8/site-packages/pandas/core/frame.py:3990: SettingWithCopyWarning: \n",
      "A value is trying to be set on a copy of a slice from a DataFrame\n",
      "\n",
      "See the caveats in the documentation: https://pandas.pydata.org/pandas-docs/stable/user_guide/indexing.html#returning-a-view-versus-a-copy\n",
      "  return super().drop(\n"
     ]
    }
   ],
   "source": [
    "bike_sharing_data_cols.drop('temp_category', inplace=True)"
   ]
  },
  {
   "cell_type": "code",
   "execution_count": 75,
   "metadata": {},
   "outputs": [
    {
     "data": {
      "text/html": [
       "<div>\n",
       "<style scoped>\n",
       "    .dataframe tbody tr th:only-of-type {\n",
       "        vertical-align: middle;\n",
       "    }\n",
       "\n",
       "    .dataframe tbody tr th {\n",
       "        vertical-align: top;\n",
       "    }\n",
       "\n",
       "    .dataframe thead th {\n",
       "        text-align: right;\n",
       "    }\n",
       "</style>\n",
       "<table border=\"1\" class=\"dataframe\">\n",
       "  <thead>\n",
       "    <tr style=\"text-align: right;\">\n",
       "      <th></th>\n",
       "      <th>season</th>\n",
       "      <th>mnth</th>\n",
       "      <th>holiday</th>\n",
       "      <th>workingday</th>\n",
       "      <th>weathersit</th>\n",
       "      <th>temp</th>\n",
       "      <th>cnt</th>\n",
       "      <th>temp_category</th>\n",
       "    </tr>\n",
       "  </thead>\n",
       "  <tbody>\n",
       "    <tr>\n",
       "      <th>0</th>\n",
       "      <td>1.0</td>\n",
       "      <td>1.0</td>\n",
       "      <td>0.0</td>\n",
       "      <td>0.0</td>\n",
       "      <td>2.0</td>\n",
       "      <td>0.344167</td>\n",
       "      <td>985.0</td>\n",
       "      <td>0</td>\n",
       "    </tr>\n",
       "    <tr>\n",
       "      <th>1</th>\n",
       "      <td>1.0</td>\n",
       "      <td>1.0</td>\n",
       "      <td>0.0</td>\n",
       "      <td>0.0</td>\n",
       "      <td>2.0</td>\n",
       "      <td>0.363478</td>\n",
       "      <td>801.0</td>\n",
       "      <td>0</td>\n",
       "    </tr>\n",
       "    <tr>\n",
       "      <th>2</th>\n",
       "      <td>1.0</td>\n",
       "      <td>1.0</td>\n",
       "      <td>0.0</td>\n",
       "      <td>1.0</td>\n",
       "      <td>1.0</td>\n",
       "      <td>0.196364</td>\n",
       "      <td>1349.0</td>\n",
       "      <td>0</td>\n",
       "    </tr>\n",
       "    <tr>\n",
       "      <th>3</th>\n",
       "      <td>1.0</td>\n",
       "      <td>1.0</td>\n",
       "      <td>0.0</td>\n",
       "      <td>1.0</td>\n",
       "      <td>1.0</td>\n",
       "      <td>0.200000</td>\n",
       "      <td>1562.0</td>\n",
       "      <td>0</td>\n",
       "    </tr>\n",
       "    <tr>\n",
       "      <th>4</th>\n",
       "      <td>1.0</td>\n",
       "      <td>1.0</td>\n",
       "      <td>0.0</td>\n",
       "      <td>1.0</td>\n",
       "      <td>1.0</td>\n",
       "      <td>0.226957</td>\n",
       "      <td>1600.0</td>\n",
       "      <td>0</td>\n",
       "    </tr>\n",
       "    <tr>\n",
       "      <th>...</th>\n",
       "      <td>...</td>\n",
       "      <td>...</td>\n",
       "      <td>...</td>\n",
       "      <td>...</td>\n",
       "      <td>...</td>\n",
       "      <td>...</td>\n",
       "      <td>...</td>\n",
       "      <td>...</td>\n",
       "    </tr>\n",
       "    <tr>\n",
       "      <th>726</th>\n",
       "      <td>1.0</td>\n",
       "      <td>12.0</td>\n",
       "      <td>0.0</td>\n",
       "      <td>1.0</td>\n",
       "      <td>2.0</td>\n",
       "      <td>0.254167</td>\n",
       "      <td>2114.0</td>\n",
       "      <td>0</td>\n",
       "    </tr>\n",
       "    <tr>\n",
       "      <th>727</th>\n",
       "      <td>1.0</td>\n",
       "      <td>12.0</td>\n",
       "      <td>0.0</td>\n",
       "      <td>1.0</td>\n",
       "      <td>2.0</td>\n",
       "      <td>0.253333</td>\n",
       "      <td>3095.0</td>\n",
       "      <td>0</td>\n",
       "    </tr>\n",
       "    <tr>\n",
       "      <th>728</th>\n",
       "      <td>1.0</td>\n",
       "      <td>12.0</td>\n",
       "      <td>0.0</td>\n",
       "      <td>0.0</td>\n",
       "      <td>2.0</td>\n",
       "      <td>0.253333</td>\n",
       "      <td>1341.0</td>\n",
       "      <td>0</td>\n",
       "    </tr>\n",
       "    <tr>\n",
       "      <th>729</th>\n",
       "      <td>1.0</td>\n",
       "      <td>12.0</td>\n",
       "      <td>0.0</td>\n",
       "      <td>0.0</td>\n",
       "      <td>1.0</td>\n",
       "      <td>0.255833</td>\n",
       "      <td>1796.0</td>\n",
       "      <td>0</td>\n",
       "    </tr>\n",
       "    <tr>\n",
       "      <th>730</th>\n",
       "      <td>1.0</td>\n",
       "      <td>12.0</td>\n",
       "      <td>0.0</td>\n",
       "      <td>1.0</td>\n",
       "      <td>2.0</td>\n",
       "      <td>0.215833</td>\n",
       "      <td>2729.0</td>\n",
       "      <td>0</td>\n",
       "    </tr>\n",
       "  </tbody>\n",
       "</table>\n",
       "<p>731 rows × 8 columns</p>\n",
       "</div>"
      ],
      "text/plain": [
       "     season  mnth  holiday  workingday  weathersit      temp     cnt  \\\n",
       "0       1.0   1.0      0.0         0.0         2.0  0.344167   985.0   \n",
       "1       1.0   1.0      0.0         0.0         2.0  0.363478   801.0   \n",
       "2       1.0   1.0      0.0         1.0         1.0  0.196364  1349.0   \n",
       "3       1.0   1.0      0.0         1.0         1.0  0.200000  1562.0   \n",
       "4       1.0   1.0      0.0         1.0         1.0  0.226957  1600.0   \n",
       "..      ...   ...      ...         ...         ...       ...     ...   \n",
       "726     1.0  12.0      0.0         1.0         2.0  0.254167  2114.0   \n",
       "727     1.0  12.0      0.0         1.0         2.0  0.253333  3095.0   \n",
       "728     1.0  12.0      0.0         0.0         2.0  0.253333  1341.0   \n",
       "729     1.0  12.0      0.0         0.0         1.0  0.255833  1796.0   \n",
       "730     1.0  12.0      0.0         1.0         2.0  0.215833  2729.0   \n",
       "\n",
       "    temp_category  \n",
       "0               0  \n",
       "1               0  \n",
       "2               0  \n",
       "3               0  \n",
       "4               0  \n",
       "..            ...  \n",
       "726             0  \n",
       "727             0  \n",
       "728             0  \n",
       "729             0  \n",
       "730             0  \n",
       "\n",
       "[731 rows x 8 columns]"
      ]
     },
     "execution_count": 75,
     "metadata": {},
     "output_type": "execute_result"
    }
   ],
   "source": [
    "bike_sharing_data_cols"
   ]
  },
  {
   "cell_type": "code",
   "execution_count": 77,
   "metadata": {},
   "outputs": [
    {
     "data": {
      "text/plain": [
       "Index(['season', 'mnth', 'holiday', 'workingday', 'weathersit', 'temp', 'cnt',\n",
       "       'temp_category'],\n",
       "      dtype='object')"
      ]
     },
     "execution_count": 77,
     "metadata": {},
     "output_type": "execute_result"
    }
   ],
   "source": [
    "bike_sharing_data_cols.columns"
   ]
  },
  {
   "cell_type": "code",
   "execution_count": 80,
   "metadata": {},
   "outputs": [
    {
     "ename": "TypeError",
     "evalue": "'method' object is not subscriptable",
     "output_type": "error",
     "traceback": [
      "\u001b[0;31m---------------------------------------------------------------------------\u001b[0m",
      "\u001b[0;31mTypeError\u001b[0m                                 Traceback (most recent call last)",
      "\u001b[0;32m<ipython-input-80-88787be961d6>\u001b[0m in \u001b[0;36m<module>\u001b[0;34m\u001b[0m\n\u001b[0;32m----> 1\u001b[0;31m \u001b[0mbike_sharing_data_cols\u001b[0m\u001b[0;34m.\u001b[0m\u001b[0mgroupby\u001b[0m\u001b[0;34m[\u001b[0m\u001b[0;34m'temp_category'\u001b[0m\u001b[0;34m,\u001b[0m \u001b[0;34m'cnt'\u001b[0m\u001b[0;34m]\u001b[0m\u001b[0;34m\u001b[0m\u001b[0;34m\u001b[0m\u001b[0m\n\u001b[0m",
      "\u001b[0;31mTypeError\u001b[0m: 'method' object is not subscriptable"
     ]
    }
   ],
   "source": [
    "bike_sharing_data_cols.groupby['temp_category', 'cnt']"
   ]
  },
  {
   "cell_type": "code",
   "execution_count": null,
   "metadata": {},
   "outputs": [],
   "source": []
  }
 ],
 "metadata": {
  "kernelspec": {
   "display_name": "Python 3",
   "language": "python",
   "name": "python3"
  },
  "language_info": {
   "codemirror_mode": {
    "name": "ipython",
    "version": 3
   },
   "file_extension": ".py",
   "mimetype": "text/x-python",
   "name": "python",
   "nbconvert_exporter": "python",
   "pygments_lexer": "ipython3",
   "version": "3.8.8"
  }
 },
 "nbformat": 4,
 "nbformat_minor": 4
}
