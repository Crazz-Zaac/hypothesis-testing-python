{
 "cells": [
  {
   "cell_type": "code",
   "execution_count": 1,
   "metadata": {},
   "outputs": [],
   "source": [
    "import statsmodels.api as sm\n",
    "import matplotlib.pyplot as plt\n",
    "import pandas as pd \n",
    "import numpy as np\n",
    "from sklearn.preprocessing import scale\n",
    "\n",
    "import researchpy as rp\n",
    "from scipy import stats"
   ]
  },
  {
   "cell_type": "code",
   "execution_count": 3,
   "metadata": {},
   "outputs": [
    {
     "data": {
      "text/html": [
       "<div>\n",
       "<style scoped>\n",
       "    .dataframe tbody tr th:only-of-type {\n",
       "        vertical-align: middle;\n",
       "    }\n",
       "\n",
       "    .dataframe tbody tr th {\n",
       "        vertical-align: top;\n",
       "    }\n",
       "\n",
       "    .dataframe thead th {\n",
       "        text-align: right;\n",
       "    }\n",
       "</style>\n",
       "<table border=\"1\" class=\"dataframe\">\n",
       "  <thead>\n",
       "    <tr style=\"text-align: right;\">\n",
       "      <th></th>\n",
       "      <th>instant</th>\n",
       "      <th>dteday</th>\n",
       "      <th>season</th>\n",
       "      <th>yr</th>\n",
       "      <th>mnth</th>\n",
       "      <th>holiday</th>\n",
       "      <th>weekday</th>\n",
       "      <th>workingday</th>\n",
       "      <th>weathersit</th>\n",
       "      <th>temp</th>\n",
       "      <th>atemp</th>\n",
       "      <th>hum</th>\n",
       "      <th>windspeed</th>\n",
       "      <th>casual</th>\n",
       "      <th>registered</th>\n",
       "      <th>cnt</th>\n",
       "    </tr>\n",
       "  </thead>\n",
       "  <tbody>\n",
       "    <tr>\n",
       "      <th>0</th>\n",
       "      <td>1</td>\n",
       "      <td>2011-01-01</td>\n",
       "      <td>1</td>\n",
       "      <td>0</td>\n",
       "      <td>1</td>\n",
       "      <td>0</td>\n",
       "      <td>6</td>\n",
       "      <td>0</td>\n",
       "      <td>2</td>\n",
       "      <td>0.344167</td>\n",
       "      <td>0.363625</td>\n",
       "      <td>0.805833</td>\n",
       "      <td>0.160446</td>\n",
       "      <td>331</td>\n",
       "      <td>654</td>\n",
       "      <td>985</td>\n",
       "    </tr>\n",
       "    <tr>\n",
       "      <th>1</th>\n",
       "      <td>2</td>\n",
       "      <td>2011-01-02</td>\n",
       "      <td>1</td>\n",
       "      <td>0</td>\n",
       "      <td>1</td>\n",
       "      <td>0</td>\n",
       "      <td>0</td>\n",
       "      <td>0</td>\n",
       "      <td>2</td>\n",
       "      <td>0.363478</td>\n",
       "      <td>0.353739</td>\n",
       "      <td>0.696087</td>\n",
       "      <td>0.248539</td>\n",
       "      <td>131</td>\n",
       "      <td>670</td>\n",
       "      <td>801</td>\n",
       "    </tr>\n",
       "    <tr>\n",
       "      <th>2</th>\n",
       "      <td>3</td>\n",
       "      <td>2011-01-03</td>\n",
       "      <td>1</td>\n",
       "      <td>0</td>\n",
       "      <td>1</td>\n",
       "      <td>0</td>\n",
       "      <td>1</td>\n",
       "      <td>1</td>\n",
       "      <td>1</td>\n",
       "      <td>0.196364</td>\n",
       "      <td>0.189405</td>\n",
       "      <td>0.437273</td>\n",
       "      <td>0.248309</td>\n",
       "      <td>120</td>\n",
       "      <td>1229</td>\n",
       "      <td>1349</td>\n",
       "    </tr>\n",
       "    <tr>\n",
       "      <th>3</th>\n",
       "      <td>4</td>\n",
       "      <td>2011-01-04</td>\n",
       "      <td>1</td>\n",
       "      <td>0</td>\n",
       "      <td>1</td>\n",
       "      <td>0</td>\n",
       "      <td>2</td>\n",
       "      <td>1</td>\n",
       "      <td>1</td>\n",
       "      <td>0.200000</td>\n",
       "      <td>0.212122</td>\n",
       "      <td>0.590435</td>\n",
       "      <td>0.160296</td>\n",
       "      <td>108</td>\n",
       "      <td>1454</td>\n",
       "      <td>1562</td>\n",
       "    </tr>\n",
       "    <tr>\n",
       "      <th>4</th>\n",
       "      <td>5</td>\n",
       "      <td>2011-01-05</td>\n",
       "      <td>1</td>\n",
       "      <td>0</td>\n",
       "      <td>1</td>\n",
       "      <td>0</td>\n",
       "      <td>3</td>\n",
       "      <td>1</td>\n",
       "      <td>1</td>\n",
       "      <td>0.226957</td>\n",
       "      <td>0.229270</td>\n",
       "      <td>0.436957</td>\n",
       "      <td>0.186900</td>\n",
       "      <td>82</td>\n",
       "      <td>1518</td>\n",
       "      <td>1600</td>\n",
       "    </tr>\n",
       "  </tbody>\n",
       "</table>\n",
       "</div>"
      ],
      "text/plain": [
       "   instant      dteday  season  yr  mnth  holiday  weekday  workingday  \\\n",
       "0        1  2011-01-01       1   0     1        0        6           0   \n",
       "1        2  2011-01-02       1   0     1        0        0           0   \n",
       "2        3  2011-01-03       1   0     1        0        1           1   \n",
       "3        4  2011-01-04       1   0     1        0        2           1   \n",
       "4        5  2011-01-05       1   0     1        0        3           1   \n",
       "\n",
       "   weathersit      temp     atemp       hum  windspeed  casual  registered  \\\n",
       "0           2  0.344167  0.363625  0.805833   0.160446     331         654   \n",
       "1           2  0.363478  0.353739  0.696087   0.248539     131         670   \n",
       "2           1  0.196364  0.189405  0.437273   0.248309     120        1229   \n",
       "3           1  0.200000  0.212122  0.590435   0.160296     108        1454   \n",
       "4           1  0.226957  0.229270  0.436957   0.186900      82        1518   \n",
       "\n",
       "    cnt  \n",
       "0   985  \n",
       "1   801  \n",
       "2  1349  \n",
       "3  1562  \n",
       "4  1600  "
      ]
     },
     "execution_count": 3,
     "metadata": {},
     "output_type": "execute_result"
    }
   ],
   "source": [
    "bike_sharing_data = pd.read_csv('datasets/day.csv')\n",
    "bike_sharing_data.head()"
   ]
  },
  {
   "cell_type": "code",
   "execution_count": 4,
   "metadata": {},
   "outputs": [
    {
     "data": {
      "text/plain": [
       "(731, 16)"
      ]
     },
     "execution_count": 4,
     "metadata": {},
     "output_type": "execute_result"
    }
   ],
   "source": [
    "bike_sharing_data.shape"
   ]
  },
  {
   "cell_type": "code",
   "execution_count": 5,
   "metadata": {},
   "outputs": [
    {
     "data": {
      "text/plain": [
       "Index(['instant', 'dteday', 'season', 'yr', 'mnth', 'holiday', 'weekday',\n",
       "       'workingday', 'weathersit', 'temp', 'atemp', 'hum', 'windspeed',\n",
       "       'casual', 'registered', 'cnt'],\n",
       "      dtype='object')"
      ]
     },
     "execution_count": 5,
     "metadata": {},
     "output_type": "execute_result"
    }
   ],
   "source": [
    "# Workingday and Temperature on number of bikes rented is significant \n",
    "# or not\n",
    "bike_sharing_data.columns"
   ]
  },
  {
   "cell_type": "code",
   "execution_count": 7,
   "metadata": {},
   "outputs": [],
   "source": [
    "bike_sharing_data_cols = bike_sharing_data[['season', 'mnth', 'holiday',\n",
    "       'workingday', 'weathersit', 'temp', 'cnt']]"
   ]
  },
  {
   "cell_type": "code",
   "execution_count": 8,
   "metadata": {},
   "outputs": [],
   "source": [
    "# saving into a csv file\n",
    "bike_sharing_data_cols.to_csv('datasets/bike_sharing_data_processed.csv', index=False)"
   ]
  },
  {
   "cell_type": "code",
   "execution_count": 9,
   "metadata": {},
   "outputs": [
    {
     "data": {
      "text/html": [
       "<div>\n",
       "<style scoped>\n",
       "    .dataframe tbody tr th:only-of-type {\n",
       "        vertical-align: middle;\n",
       "    }\n",
       "\n",
       "    .dataframe tbody tr th {\n",
       "        vertical-align: top;\n",
       "    }\n",
       "\n",
       "    .dataframe thead th {\n",
       "        text-align: right;\n",
       "    }\n",
       "</style>\n",
       "<table border=\"1\" class=\"dataframe\">\n",
       "  <thead>\n",
       "    <tr style=\"text-align: right;\">\n",
       "      <th></th>\n",
       "      <th>season</th>\n",
       "      <th>mnth</th>\n",
       "      <th>holiday</th>\n",
       "      <th>workingday</th>\n",
       "      <th>weathersit</th>\n",
       "      <th>temp</th>\n",
       "      <th>cnt</th>\n",
       "    </tr>\n",
       "  </thead>\n",
       "  <tbody>\n",
       "    <tr>\n",
       "      <th>0</th>\n",
       "      <td>1</td>\n",
       "      <td>1</td>\n",
       "      <td>0</td>\n",
       "      <td>0</td>\n",
       "      <td>2</td>\n",
       "      <td>0.344167</td>\n",
       "      <td>985</td>\n",
       "    </tr>\n",
       "    <tr>\n",
       "      <th>1</th>\n",
       "      <td>1</td>\n",
       "      <td>1</td>\n",
       "      <td>0</td>\n",
       "      <td>0</td>\n",
       "      <td>2</td>\n",
       "      <td>0.363478</td>\n",
       "      <td>801</td>\n",
       "    </tr>\n",
       "    <tr>\n",
       "      <th>2</th>\n",
       "      <td>1</td>\n",
       "      <td>1</td>\n",
       "      <td>0</td>\n",
       "      <td>1</td>\n",
       "      <td>1</td>\n",
       "      <td>0.196364</td>\n",
       "      <td>1349</td>\n",
       "    </tr>\n",
       "    <tr>\n",
       "      <th>3</th>\n",
       "      <td>1</td>\n",
       "      <td>1</td>\n",
       "      <td>0</td>\n",
       "      <td>1</td>\n",
       "      <td>1</td>\n",
       "      <td>0.200000</td>\n",
       "      <td>1562</td>\n",
       "    </tr>\n",
       "    <tr>\n",
       "      <th>4</th>\n",
       "      <td>1</td>\n",
       "      <td>1</td>\n",
       "      <td>0</td>\n",
       "      <td>1</td>\n",
       "      <td>1</td>\n",
       "      <td>0.226957</td>\n",
       "      <td>1600</td>\n",
       "    </tr>\n",
       "  </tbody>\n",
       "</table>\n",
       "</div>"
      ],
      "text/plain": [
       "   season  mnth  holiday  workingday  weathersit      temp   cnt\n",
       "0       1     1        0           0           2  0.344167   985\n",
       "1       1     1        0           0           2  0.363478   801\n",
       "2       1     1        0           1           1  0.196364  1349\n",
       "3       1     1        0           1           1  0.200000  1562\n",
       "4       1     1        0           1           1  0.226957  1600"
      ]
     },
     "execution_count": 9,
     "metadata": {},
     "output_type": "execute_result"
    }
   ],
   "source": [
    "bike_sharing_data_cols.head()"
   ]
  },
  {
   "cell_type": "code",
   "execution_count": 10,
   "metadata": {},
   "outputs": [
    {
     "data": {
      "text/html": [
       "<div>\n",
       "<style scoped>\n",
       "    .dataframe tbody tr th:only-of-type {\n",
       "        vertical-align: middle;\n",
       "    }\n",
       "\n",
       "    .dataframe tbody tr th {\n",
       "        vertical-align: top;\n",
       "    }\n",
       "\n",
       "    .dataframe thead th {\n",
       "        text-align: right;\n",
       "    }\n",
       "</style>\n",
       "<table border=\"1\" class=\"dataframe\">\n",
       "  <thead>\n",
       "    <tr style=\"text-align: right;\">\n",
       "      <th></th>\n",
       "      <th>season</th>\n",
       "      <th>mnth</th>\n",
       "      <th>holiday</th>\n",
       "      <th>workingday</th>\n",
       "      <th>weathersit</th>\n",
       "      <th>temp</th>\n",
       "      <th>cnt</th>\n",
       "    </tr>\n",
       "  </thead>\n",
       "  <tbody>\n",
       "    <tr>\n",
       "      <th>count</th>\n",
       "      <td>731.000000</td>\n",
       "      <td>731.000000</td>\n",
       "      <td>731.000000</td>\n",
       "      <td>731.000000</td>\n",
       "      <td>731.000000</td>\n",
       "      <td>731.000000</td>\n",
       "      <td>731.000000</td>\n",
       "    </tr>\n",
       "    <tr>\n",
       "      <th>mean</th>\n",
       "      <td>2.496580</td>\n",
       "      <td>6.519836</td>\n",
       "      <td>0.028728</td>\n",
       "      <td>0.683995</td>\n",
       "      <td>1.395349</td>\n",
       "      <td>0.495385</td>\n",
       "      <td>4504.348837</td>\n",
       "    </tr>\n",
       "    <tr>\n",
       "      <th>std</th>\n",
       "      <td>1.110807</td>\n",
       "      <td>3.451913</td>\n",
       "      <td>0.167155</td>\n",
       "      <td>0.465233</td>\n",
       "      <td>0.544894</td>\n",
       "      <td>0.183051</td>\n",
       "      <td>1937.211452</td>\n",
       "    </tr>\n",
       "    <tr>\n",
       "      <th>min</th>\n",
       "      <td>1.000000</td>\n",
       "      <td>1.000000</td>\n",
       "      <td>0.000000</td>\n",
       "      <td>0.000000</td>\n",
       "      <td>1.000000</td>\n",
       "      <td>0.059130</td>\n",
       "      <td>22.000000</td>\n",
       "    </tr>\n",
       "    <tr>\n",
       "      <th>25%</th>\n",
       "      <td>2.000000</td>\n",
       "      <td>4.000000</td>\n",
       "      <td>0.000000</td>\n",
       "      <td>0.000000</td>\n",
       "      <td>1.000000</td>\n",
       "      <td>0.337083</td>\n",
       "      <td>3152.000000</td>\n",
       "    </tr>\n",
       "    <tr>\n",
       "      <th>50%</th>\n",
       "      <td>3.000000</td>\n",
       "      <td>7.000000</td>\n",
       "      <td>0.000000</td>\n",
       "      <td>1.000000</td>\n",
       "      <td>1.000000</td>\n",
       "      <td>0.498333</td>\n",
       "      <td>4548.000000</td>\n",
       "    </tr>\n",
       "    <tr>\n",
       "      <th>75%</th>\n",
       "      <td>3.000000</td>\n",
       "      <td>10.000000</td>\n",
       "      <td>0.000000</td>\n",
       "      <td>1.000000</td>\n",
       "      <td>2.000000</td>\n",
       "      <td>0.655417</td>\n",
       "      <td>5956.000000</td>\n",
       "    </tr>\n",
       "    <tr>\n",
       "      <th>max</th>\n",
       "      <td>4.000000</td>\n",
       "      <td>12.000000</td>\n",
       "      <td>1.000000</td>\n",
       "      <td>1.000000</td>\n",
       "      <td>3.000000</td>\n",
       "      <td>0.861667</td>\n",
       "      <td>8714.000000</td>\n",
       "    </tr>\n",
       "  </tbody>\n",
       "</table>\n",
       "</div>"
      ],
      "text/plain": [
       "           season        mnth     holiday  workingday  weathersit        temp  \\\n",
       "count  731.000000  731.000000  731.000000  731.000000  731.000000  731.000000   \n",
       "mean     2.496580    6.519836    0.028728    0.683995    1.395349    0.495385   \n",
       "std      1.110807    3.451913    0.167155    0.465233    0.544894    0.183051   \n",
       "min      1.000000    1.000000    0.000000    0.000000    1.000000    0.059130   \n",
       "25%      2.000000    4.000000    0.000000    0.000000    1.000000    0.337083   \n",
       "50%      3.000000    7.000000    0.000000    1.000000    1.000000    0.498333   \n",
       "75%      3.000000   10.000000    0.000000    1.000000    2.000000    0.655417   \n",
       "max      4.000000   12.000000    1.000000    1.000000    3.000000    0.861667   \n",
       "\n",
       "               cnt  \n",
       "count   731.000000  \n",
       "mean   4504.348837  \n",
       "std    1937.211452  \n",
       "min      22.000000  \n",
       "25%    3152.000000  \n",
       "50%    4548.000000  \n",
       "75%    5956.000000  \n",
       "max    8714.000000  "
      ]
     },
     "execution_count": 10,
     "metadata": {},
     "output_type": "execute_result"
    }
   ],
   "source": [
    "bike_sharing_data_cols.describe()"
   ]
  },
  {
   "cell_type": "code",
   "execution_count": 12,
   "metadata": {},
   "outputs": [
    {
     "data": {
      "text/plain": [
       "array([ 1,  2,  3,  4,  5,  6,  7,  8,  9, 10, 11, 12])"
      ]
     },
     "execution_count": 12,
     "metadata": {},
     "output_type": "execute_result"
    }
   ],
   "source": [
    "bike_sharing_data_cols['mnth'].unique()"
   ]
  },
  {
   "cell_type": "code",
   "execution_count": 13,
   "metadata": {},
   "outputs": [
    {
     "data": {
      "text/plain": [
       "array([1, 2, 3, 4])"
      ]
     },
     "execution_count": 13,
     "metadata": {},
     "output_type": "execute_result"
    }
   ],
   "source": [
    "bike_sharing_data_cols['season'].unique()"
   ]
  },
  {
   "cell_type": "code",
   "execution_count": 14,
   "metadata": {},
   "outputs": [
    {
     "data": {
      "text/plain": [
       "array([0, 1])"
      ]
     },
     "execution_count": 14,
     "metadata": {},
     "output_type": "execute_result"
    }
   ],
   "source": [
    "bike_sharing_data_cols['holiday'].unique()"
   ]
  },
  {
   "cell_type": "code",
   "execution_count": 15,
   "metadata": {},
   "outputs": [
    {
     "data": {
      "text/plain": [
       "array([0, 1])"
      ]
     },
     "execution_count": 15,
     "metadata": {},
     "output_type": "execute_result"
    }
   ],
   "source": [
    "bike_sharing_data_cols['workingday'].unique()"
   ]
  },
  {
   "cell_type": "code",
   "execution_count": 16,
   "metadata": {
    "collapsed": true
   },
   "outputs": [
    {
     "data": {
      "text/plain": [
       "array([0.344167 , 0.363478 , 0.196364 , 0.2      , 0.226957 , 0.204348 ,\n",
       "       0.196522 , 0.165    , 0.138333 , 0.150833 , 0.169091 , 0.172727 ,\n",
       "       0.16087  , 0.233333 , 0.231667 , 0.175833 , 0.216667 , 0.292174 ,\n",
       "       0.261667 , 0.1775   , 0.0591304, 0.0965217, 0.0973913, 0.223478 ,\n",
       "       0.2175   , 0.195    , 0.203478 , 0.216522 , 0.180833 , 0.192174 ,\n",
       "       0.26     , 0.186957 , 0.211304 , 0.285833 , 0.271667 , 0.220833 ,\n",
       "       0.134783 , 0.144348 , 0.189091 , 0.2225   , 0.316522 , 0.415    ,\n",
       "       0.266087 , 0.318261 , 0.435833 , 0.521667 , 0.399167 , 0.285217 ,\n",
       "       0.303333 , 0.182222 , 0.221739 , 0.295652 , 0.364348 , 0.2825   ,\n",
       "       0.343478 , 0.407273 , 0.266667 , 0.335    , 0.198333 , 0.384167 ,\n",
       "       0.376522 , 0.261739 , 0.2925   , 0.295833 , 0.389091 , 0.329167 ,\n",
       "       0.384348 , 0.325217 , 0.317391 , 0.365217 , 0.54     , 0.4725   ,\n",
       "       0.3325   , 0.430435 , 0.441667 , 0.346957 , 0.285    , 0.264167 ,\n",
       "       0.265833 , 0.253043 , 0.264348 , 0.3025   , 0.3      , 0.268333 ,\n",
       "       0.315    , 0.378333 , 0.573333 , 0.414167 , 0.390833 , 0.4375   ,\n",
       "       0.335833 , 0.3425   , 0.426667 , 0.595652 , 0.5025   , 0.4125   ,\n",
       "       0.4675   , 0.446667 , 0.430833 , 0.456667 , 0.5125   , 0.505833 ,\n",
       "       0.595    , 0.459167 , 0.336667 , 0.46     , 0.581667 , 0.606667 ,\n",
       "       0.631667 , 0.62     , 0.6175   , 0.51     , 0.451667 , 0.549167 ,\n",
       "       0.616667 , 0.479167 , 0.52     , 0.528333 , 0.5325   , 0.5425   ,\n",
       "       0.535    , 0.520833 , 0.5625   , 0.5775   , 0.561667 , 0.55     ,\n",
       "       0.530833 , 0.536667 , 0.6025   , 0.604167 , 0.66     , 0.660833 ,\n",
       "       0.708333 , 0.681667 , 0.655833 , 0.6675   , 0.733333 , 0.775    ,\n",
       "       0.764167 , 0.715    , 0.635    , 0.648333 , 0.678333 , 0.7075   ,\n",
       "       0.775833 , 0.808333 , 0.755    , 0.725    , 0.6925   , 0.626667 ,\n",
       "       0.628333 , 0.649167 , 0.696667 , 0.699167 , 0.680833 , 0.728333 ,\n",
       "       0.724167 , 0.695    , 0.68     , 0.6825   , 0.744167 , 0.7225   ,\n",
       "       0.738333 , 0.716667 , 0.726667 , 0.746667 , 0.72     , 0.75     ,\n",
       "       0.709167 , 0.7475   , 0.7625   , 0.794167 , 0.663333 , 0.686667 ,\n",
       "       0.719167 , 0.776667 , 0.768333 , 0.815    , 0.848333 , 0.849167 ,\n",
       "       0.83     , 0.743333 , 0.771667 , 0.779167 , 0.838333 , 0.804167 ,\n",
       "       0.805833 , 0.783333 , 0.731667 , 0.71     , 0.710833 , 0.7425   ,\n",
       "       0.765    , 0.766667 , 0.7175   , 0.685833 , 0.676667 , 0.665833 ,\n",
       "       0.700833 , 0.723333 , 0.711667 , 0.685    , 0.6975   , 0.691667 ,\n",
       "       0.640833 , 0.673333 , 0.684167 , 0.7      , 0.707059 , 0.636667 ,\n",
       "       0.639167 , 0.656667 , 0.655    , 0.643333 , 0.669167 , 0.599167 ,\n",
       "       0.633913 , 0.65     , 0.653333 , 0.644348 , 0.650833 , 0.469167 ,\n",
       "       0.491667 , 0.5075   , 0.609167 , 0.634167 , 0.564167 , 0.41     ,\n",
       "       0.356667 , 0.484167 , 0.538333 , 0.494167 , 0.510833 , 0.540833 ,\n",
       "       0.570833 , 0.566667 , 0.543333 , 0.589167 , 0.550833 , 0.506667 ,\n",
       "       0.511667 , 0.534167 , 0.541739 , 0.475833 , 0.4275   , 0.4225   ,\n",
       "       0.421667 , 0.463333 , 0.471667 , 0.47     , 0.330833 , 0.254167 ,\n",
       "       0.319167 , 0.34     , 0.400833 , 0.3775   , 0.408333 , 0.403333 ,\n",
       "       0.326667 , 0.348333 , 0.395    , 0.4      , 0.38     , 0.324167 ,\n",
       "       0.440833 , 0.53     , 0.341667 , 0.274167 , 0.4475   , 0.416667 ,\n",
       "       0.373333 , 0.375    , 0.375833 , 0.503478 , 0.458333 , 0.325    ,\n",
       "       0.3125   , 0.314167 , 0.299167 , 0.385833 , 0.4625   , 0.290833 ,\n",
       "       0.275    , 0.238333 , 0.3175   , 0.258333 , 0.276667 , 0.428333 ,\n",
       "       0.423333 , 0.274783 , 0.321739 , 0.29913  , 0.248333 , 0.311667 ,\n",
       "       0.37     , 0.273043 , 0.15     , 0.1075   , 0.334167 , 0.393333 ,\n",
       "       0.3375   , 0.224167 , 0.308696 , 0.3825   , 0.18     , 0.166667 ,\n",
       "       0.19     , 0.373043 , 0.173333 , 0.1625   , 0.218333 , 0.294167 ,\n",
       "       0.425    , 0.315833 , 0.269167 , 0.39     , 0.313333 , 0.282609 ,\n",
       "       0.354167 , 0.256667 , 0.265    , 0.280833 , 0.1275   , 0.316667 ,\n",
       "       0.343333 , 0.346667 , 0.28     , 0.287826 , 0.395833 , 0.454167 ,\n",
       "       0.4075   , 0.279167 , 0.366667 , 0.359167 , 0.344348 , 0.485833 ,\n",
       "       0.353333 , 0.325833 , 0.243333 , 0.404167 , 0.5275   , 0.410833 ,\n",
       "       0.2875   , 0.361739 , 0.466667 , 0.565    , 0.5725   , 0.5575   ,\n",
       "       0.514167 , 0.545    , 0.560833 , 0.531667 , 0.554167 , 0.601667 ,\n",
       "       0.445833 , 0.323333 , 0.424167 , 0.425833 , 0.433913 , 0.541667 ,\n",
       "       0.435    , 0.5      , 0.489167 , 0.348696 , 0.3975   , 0.4425   ,\n",
       "       0.495    , 0.664167 , 0.608333 , 0.498333 , 0.526667 , 0.57     ,\n",
       "       0.396667 , 0.321667 , 0.413333 , 0.476667 , 0.4575   , 0.376667 ,\n",
       "       0.464167 , 0.613333 , 0.56     , 0.6275   , 0.621667 , 0.5375   ,\n",
       "       0.575    , 0.533333 , 0.6125   , 0.611667 , 0.593333 , 0.6      ,\n",
       "       0.620833 , 0.598333 , 0.615    , 0.69     , 0.7125   , 0.654167 ,\n",
       "       0.583333 , 0.5975   , 0.720833 , 0.5925   , 0.568333 , 0.688333 ,\n",
       "       0.7825   , 0.7775   , 0.715833 , 0.630833 , 0.749167 , 0.834167 ,\n",
       "       0.815833 , 0.781667 , 0.780833 , 0.789167 , 0.8275   , 0.828333 ,\n",
       "       0.861667 , 0.8225   , 0.703333 , 0.745833 , 0.763333 , 0.818333 ,\n",
       "       0.793333 , 0.77     , 0.595833 , 0.741667 , 0.750833 , 0.755833 ,\n",
       "       0.721667 , 0.730833 , 0.713333 , 0.7525   , 0.765833 , 0.769167 ,\n",
       "       0.735833 , 0.706667 , 0.635833 , 0.695833 , 0.7025   , 0.661667 ,\n",
       "       0.753333 , 0.725833 , 0.736667 , 0.659167 , 0.61     , 0.633333 ,\n",
       "       0.58     , 0.580833 , 0.623333 , 0.5525   , 0.546667 , 0.529167 ,\n",
       "       0.619167 , 0.590833 , 0.6575   , 0.415833 , 0.383333 , 0.468333 ,\n",
       "       0.455833 , 0.5225   , 0.563333 , 0.4875   , 0.544167 , 0.5875   ,\n",
       "       0.545833 , 0.4775   , 0.44     , 0.318182 , 0.3575   , 0.365833 ,\n",
       "       0.355    , 0.352174 , 0.361667 , 0.389167 , 0.420833 , 0.485    ,\n",
       "       0.289167 , 0.345    , 0.380833 , 0.374167 , 0.368333 , 0.278333 ,\n",
       "       0.245833 , 0.291667 , 0.296667 , 0.28087  , 0.298333 , 0.3475   ,\n",
       "       0.4525   , 0.438333 , 0.255833 , 0.320833 , 0.381667 , 0.2975   ,\n",
       "       0.281667 , 0.3625   , 0.33     , 0.231304 , 0.291304 , 0.253333 ,\n",
       "       0.215833 ])"
      ]
     },
     "execution_count": 16,
     "metadata": {},
     "output_type": "execute_result"
    }
   ],
   "source": [
    "bike_sharing_data_cols['temp'].unique()"
   ]
  },
  {
   "cell_type": "code",
   "execution_count": 17,
   "metadata": {},
   "outputs": [
    {
     "data": {
      "text/plain": [
       "array([2, 1, 3])"
      ]
     },
     "execution_count": 17,
     "metadata": {},
     "output_type": "execute_result"
    }
   ],
   "source": [
    "bike_sharing_data_cols['weathersit'].unique()"
   ]
  },
  {
   "cell_type": "code",
   "execution_count": 18,
   "metadata": {},
   "outputs": [
    {
     "data": {
      "text/plain": [
       "count    731.000000\n",
       "mean       0.495385\n",
       "std        0.183051\n",
       "min        0.059130\n",
       "25%        0.337083\n",
       "50%        0.498333\n",
       "75%        0.655417\n",
       "max        0.861667\n",
       "Name: temp, dtype: float64"
      ]
     },
     "execution_count": 18,
     "metadata": {},
     "output_type": "execute_result"
    }
   ],
   "source": [
    "bike_sharing_data_cols['temp'].describe()"
   ]
  },
  {
   "cell_type": "code",
   "execution_count": 20,
   "metadata": {},
   "outputs": [
    {
     "data": {
      "text/html": [
       "<div>\n",
       "<style scoped>\n",
       "    .dataframe tbody tr th:only-of-type {\n",
       "        vertical-align: middle;\n",
       "    }\n",
       "\n",
       "    .dataframe tbody tr th {\n",
       "        vertical-align: top;\n",
       "    }\n",
       "\n",
       "    .dataframe thead th {\n",
       "        text-align: right;\n",
       "    }\n",
       "</style>\n",
       "<table border=\"1\" class=\"dataframe\">\n",
       "  <thead>\n",
       "    <tr style=\"text-align: right;\">\n",
       "      <th></th>\n",
       "      <th>count</th>\n",
       "      <th>mean</th>\n",
       "      <th>std</th>\n",
       "      <th>min</th>\n",
       "      <th>25%</th>\n",
       "      <th>50%</th>\n",
       "      <th>75%</th>\n",
       "      <th>max</th>\n",
       "    </tr>\n",
       "    <tr>\n",
       "      <th>workingday</th>\n",
       "      <th></th>\n",
       "      <th></th>\n",
       "      <th></th>\n",
       "      <th></th>\n",
       "      <th></th>\n",
       "      <th></th>\n",
       "      <th></th>\n",
       "      <th></th>\n",
       "    </tr>\n",
       "  </thead>\n",
       "  <tbody>\n",
       "    <tr>\n",
       "      <th>0</th>\n",
       "      <td>231.0</td>\n",
       "      <td>4330.168831</td>\n",
       "      <td>2052.141245</td>\n",
       "      <td>605.0</td>\n",
       "      <td>2710.50</td>\n",
       "      <td>4459.0</td>\n",
       "      <td>5907.5</td>\n",
       "      <td>8714.0</td>\n",
       "    </tr>\n",
       "    <tr>\n",
       "      <th>1</th>\n",
       "      <td>500.0</td>\n",
       "      <td>4584.820000</td>\n",
       "      <td>1878.415583</td>\n",
       "      <td>22.0</td>\n",
       "      <td>3344.25</td>\n",
       "      <td>4582.0</td>\n",
       "      <td>5987.5</td>\n",
       "      <td>8362.0</td>\n",
       "    </tr>\n",
       "  </tbody>\n",
       "</table>\n",
       "</div>"
      ],
      "text/plain": [
       "            count         mean          std    min      25%     50%     75%  \\\n",
       "workingday                                                                    \n",
       "0           231.0  4330.168831  2052.141245  605.0  2710.50  4459.0  5907.5   \n",
       "1           500.0  4584.820000  1878.415583   22.0  3344.25  4582.0  5987.5   \n",
       "\n",
       "               max  \n",
       "workingday          \n",
       "0           8714.0  \n",
       "1           8362.0  "
      ]
     },
     "execution_count": 20,
     "metadata": {},
     "output_type": "execute_result"
    }
   ],
   "source": [
    " bike_sharing_data_cols.groupby('workingday')['cnt'].describe()"
   ]
  },
  {
   "cell_type": "code",
   "execution_count": 22,
   "metadata": {},
   "outputs": [
    {
     "data": {
      "text/plain": [
       "<AxesSubplot:title={'center':'cnt'}, xlabel='workingday'>"
      ]
     },
     "execution_count": 22,
     "metadata": {},
     "output_type": "execute_result"
    },
    {
     "data": {
      "image/png": "[encoded data removed]",
      "text/plain": [
       "<Figure size 720x576 with 1 Axes>"
      ]
     },
     "metadata": {
      "needs_background": "light"
     },
     "output_type": "display_data"
    }
   ],
   "source": [
    "bike_sharing_data_cols.boxplot(column=['cnt'], by='workingday', figsize=(10,8))"
   ]
  },
  {
   "cell_type": "code",
   "execution_count": 26,
   "metadata": {},
   "outputs": [],
   "source": [
    "# for working day\n",
    "sample_01 = bike_sharing_data_cols[(bike_sharing_data_cols['workingday'] == 1)]\n",
    "\n",
    "# for non-working day\n",
    "sample_02 = bike_sharing_data_cols[(bike_sharing_data_cols['workingday'] == 0)]"
   ]
  },
  {
   "cell_type": "code",
   "execution_count": 27,
   "metadata": {},
   "outputs": [
    {
     "data": {
      "text/plain": [
       "((500, 7), (231, 7))"
      ]
     },
     "execution_count": 27,
     "metadata": {},
     "output_type": "execute_result"
    }
   ],
   "source": [
    "sample_01.shape, sample_02.shape"
   ]
  },
  {
   "cell_type": "code",
   "execution_count": null,
   "metadata": {},
   "outputs": [],
   "source": []
  }
 ],
 "metadata": {
  "kernelspec": {
   "display_name": "Python 3",
   "language": "python",
   "name": "python3"
  },
  "language_info": {
   "codemirror_mode": {
    "name": "ipython",
    "version": 3
   },
   "file_extension": ".py",
   "mimetype": "text/x-python",
   "name": "python",
   "nbconvert_exporter": "python",
   "pygments_lexer": "ipython3",
   "version": "3.8.8"
  }
 },
 "nbformat": 4,
 "nbformat_minor": 4
}
