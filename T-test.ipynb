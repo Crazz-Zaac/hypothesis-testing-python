{
 "cells": [
  {
   "cell_type": "code",
   "execution_count": 1,
   "metadata": {},
   "outputs": [],
   "source": [
    "import statsmodels.api as sm\n",
    "import matplotlib.pyplot as plt\n",
    "import pandas as pd \n",
    "import numpy as np\n",
    "from sklearn.preprocessing import scale\n",
    "\n",
    "import researchpy as rp\n",
    "from scipy import stats"
   ]
  },
  {
   "cell_type": "code",
   "execution_count": 2,
   "metadata": {},
   "outputs": [
    {
     "data": {
      "text/html": [
       "<div>\n",
       "<style scoped>\n",
       "    .dataframe tbody tr th:only-of-type {\n",
       "        vertical-align: middle;\n",
       "    }\n",
       "\n",
       "    .dataframe tbody tr th {\n",
       "        vertical-align: top;\n",
       "    }\n",
       "\n",
       "    .dataframe thead th {\n",
       "        text-align: right;\n",
       "    }\n",
       "</style>\n",
       "<table border=\"1\" class=\"dataframe\">\n",
       "  <thead>\n",
       "    <tr style=\"text-align: right;\">\n",
       "      <th></th>\n",
       "      <th>instant</th>\n",
       "      <th>dteday</th>\n",
       "      <th>season</th>\n",
       "      <th>yr</th>\n",
       "      <th>mnth</th>\n",
       "      <th>holiday</th>\n",
       "      <th>weekday</th>\n",
       "      <th>workingday</th>\n",
       "      <th>weathersit</th>\n",
       "      <th>temp</th>\n",
       "      <th>atemp</th>\n",
       "      <th>hum</th>\n",
       "      <th>windspeed</th>\n",
       "      <th>casual</th>\n",
       "      <th>registered</th>\n",
       "      <th>cnt</th>\n",
       "    </tr>\n",
       "  </thead>\n",
       "  <tbody>\n",
       "    <tr>\n",
       "      <th>0</th>\n",
       "      <td>1</td>\n",
       "      <td>2011-01-01</td>\n",
       "      <td>1</td>\n",
       "      <td>0</td>\n",
       "      <td>1</td>\n",
       "      <td>0</td>\n",
       "      <td>6</td>\n",
       "      <td>0</td>\n",
       "      <td>2</td>\n",
       "      <td>0.344167</td>\n",
       "      <td>0.363625</td>\n",
       "      <td>0.805833</td>\n",
       "      <td>0.160446</td>\n",
       "      <td>331</td>\n",
       "      <td>654</td>\n",
       "      <td>985</td>\n",
       "    </tr>\n",
       "    <tr>\n",
       "      <th>1</th>\n",
       "      <td>2</td>\n",
       "      <td>2011-01-02</td>\n",
       "      <td>1</td>\n",
       "      <td>0</td>\n",
       "      <td>1</td>\n",
       "      <td>0</td>\n",
       "      <td>0</td>\n",
       "      <td>0</td>\n",
       "      <td>2</td>\n",
       "      <td>0.363478</td>\n",
       "      <td>0.353739</td>\n",
       "      <td>0.696087</td>\n",
       "      <td>0.248539</td>\n",
       "      <td>131</td>\n",
       "      <td>670</td>\n",
       "      <td>801</td>\n",
       "    </tr>\n",
       "    <tr>\n",
       "      <th>2</th>\n",
       "      <td>3</td>\n",
       "      <td>2011-01-03</td>\n",
       "      <td>1</td>\n",
       "      <td>0</td>\n",
       "      <td>1</td>\n",
       "      <td>0</td>\n",
       "      <td>1</td>\n",
       "      <td>1</td>\n",
       "      <td>1</td>\n",
       "      <td>0.196364</td>\n",
       "      <td>0.189405</td>\n",
       "      <td>0.437273</td>\n",
       "      <td>0.248309</td>\n",
       "      <td>120</td>\n",
       "      <td>1229</td>\n",
       "      <td>1349</td>\n",
       "    </tr>\n",
       "    <tr>\n",
       "      <th>3</th>\n",
       "      <td>4</td>\n",
       "      <td>2011-01-04</td>\n",
       "      <td>1</td>\n",
       "      <td>0</td>\n",
       "      <td>1</td>\n",
       "      <td>0</td>\n",
       "      <td>2</td>\n",
       "      <td>1</td>\n",
       "      <td>1</td>\n",
       "      <td>0.200000</td>\n",
       "      <td>0.212122</td>\n",
       "      <td>0.590435</td>\n",
       "      <td>0.160296</td>\n",
       "      <td>108</td>\n",
       "      <td>1454</td>\n",
       "      <td>1562</td>\n",
       "    </tr>\n",
       "    <tr>\n",
       "      <th>4</th>\n",
       "      <td>5</td>\n",
       "      <td>2011-01-05</td>\n",
       "      <td>1</td>\n",
       "      <td>0</td>\n",
       "      <td>1</td>\n",
       "      <td>0</td>\n",
       "      <td>3</td>\n",
       "      <td>1</td>\n",
       "      <td>1</td>\n",
       "      <td>0.226957</td>\n",
       "      <td>0.229270</td>\n",
       "      <td>0.436957</td>\n",
       "      <td>0.186900</td>\n",
       "      <td>82</td>\n",
       "      <td>1518</td>\n",
       "      <td>1600</td>\n",
       "    </tr>\n",
       "  </tbody>\n",
       "</table>\n",
       "</div>"
      ],
      "text/plain": [
       "   instant      dteday  season  yr  mnth  holiday  weekday  workingday  \\\n",
       "0        1  2011-01-01       1   0     1        0        6           0   \n",
       "1        2  2011-01-02       1   0     1        0        0           0   \n",
       "2        3  2011-01-03       1   0     1        0        1           1   \n",
       "3        4  2011-01-04       1   0     1        0        2           1   \n",
       "4        5  2011-01-05       1   0     1        0        3           1   \n",
       "\n",
       "   weathersit      temp     atemp       hum  windspeed  casual  registered  \\\n",
       "0           2  0.344167  0.363625  0.805833   0.160446     331         654   \n",
       "1           2  0.363478  0.353739  0.696087   0.248539     131         670   \n",
       "2           1  0.196364  0.189405  0.437273   0.248309     120        1229   \n",
       "3           1  0.200000  0.212122  0.590435   0.160296     108        1454   \n",
       "4           1  0.226957  0.229270  0.436957   0.186900      82        1518   \n",
       "\n",
       "    cnt  \n",
       "0   985  \n",
       "1   801  \n",
       "2  1349  \n",
       "3  1562  \n",
       "4  1600  "
      ]
     },
     "execution_count": 2,
     "metadata": {},
     "output_type": "execute_result"
    }
   ],
   "source": [
    "bike_sharing_data = pd.read_csv('datasets/day.csv')\n",
    "bike_sharing_data.head()"
   ]
  },
  {
   "cell_type": "code",
   "execution_count": 3,
   "metadata": {},
   "outputs": [
    {
     "data": {
      "text/plain": [
       "(731, 16)"
      ]
     },
     "execution_count": 3,
     "metadata": {},
     "output_type": "execute_result"
    }
   ],
   "source": [
    "bike_sharing_data.shape"
   ]
  },
  {
   "cell_type": "code",
   "execution_count": 4,
   "metadata": {},
   "outputs": [
    {
     "data": {
      "text/plain": [
       "Index(['instant', 'dteday', 'season', 'yr', 'mnth', 'holiday', 'weekday',\n",
       "       'workingday', 'weathersit', 'temp', 'atemp', 'hum', 'windspeed',\n",
       "       'casual', 'registered', 'cnt'],\n",
       "      dtype='object')"
      ]
     },
     "execution_count": 4,
     "metadata": {},
     "output_type": "execute_result"
    }
   ],
   "source": [
    "# Workingday and Temperature on number of bikes rented is significant \n",
    "# or not\n",
    "bike_sharing_data.columns"
   ]
  },
  {
   "cell_type": "code",
   "execution_count": 5,
   "metadata": {},
   "outputs": [],
   "source": [
    "bike_sharing_data_cols = bike_sharing_data[['season', 'mnth', 'holiday',\n",
    "       'workingday', 'weathersit', 'temp', 'cnt']]"
   ]
  },
  {
   "cell_type": "code",
   "execution_count": 6,
   "metadata": {},
   "outputs": [],
   "source": [
    "# saving into a csv file\n",
    "bike_sharing_data_cols.to_csv('datasets/bike_sharing_data_processed.csv', index=False)"
   ]
  },
  {
   "cell_type": "code",
   "execution_count": 7,
   "metadata": {},
   "outputs": [
    {
     "data": {
      "text/html": [
       "<div>\n",
       "<style scoped>\n",
       "    .dataframe tbody tr th:only-of-type {\n",
       "        vertical-align: middle;\n",
       "    }\n",
       "\n",
       "    .dataframe tbody tr th {\n",
       "        vertical-align: top;\n",
       "    }\n",
       "\n",
       "    .dataframe thead th {\n",
       "        text-align: right;\n",
       "    }\n",
       "</style>\n",
       "<table border=\"1\" class=\"dataframe\">\n",
       "  <thead>\n",
       "    <tr style=\"text-align: right;\">\n",
       "      <th></th>\n",
       "      <th>season</th>\n",
       "      <th>mnth</th>\n",
       "      <th>holiday</th>\n",
       "      <th>workingday</th>\n",
       "      <th>weathersit</th>\n",
       "      <th>temp</th>\n",
       "      <th>cnt</th>\n",
       "    </tr>\n",
       "  </thead>\n",
       "  <tbody>\n",
       "    <tr>\n",
       "      <th>0</th>\n",
       "      <td>1</td>\n",
       "      <td>1</td>\n",
       "      <td>0</td>\n",
       "      <td>0</td>\n",
       "      <td>2</td>\n",
       "      <td>0.344167</td>\n",
       "      <td>985</td>\n",
       "    </tr>\n",
       "    <tr>\n",
       "      <th>1</th>\n",
       "      <td>1</td>\n",
       "      <td>1</td>\n",
       "      <td>0</td>\n",
       "      <td>0</td>\n",
       "      <td>2</td>\n",
       "      <td>0.363478</td>\n",
       "      <td>801</td>\n",
       "    </tr>\n",
       "    <tr>\n",
       "      <th>2</th>\n",
       "      <td>1</td>\n",
       "      <td>1</td>\n",
       "      <td>0</td>\n",
       "      <td>1</td>\n",
       "      <td>1</td>\n",
       "      <td>0.196364</td>\n",
       "      <td>1349</td>\n",
       "    </tr>\n",
       "    <tr>\n",
       "      <th>3</th>\n",
       "      <td>1</td>\n",
       "      <td>1</td>\n",
       "      <td>0</td>\n",
       "      <td>1</td>\n",
       "      <td>1</td>\n",
       "      <td>0.200000</td>\n",
       "      <td>1562</td>\n",
       "    </tr>\n",
       "    <tr>\n",
       "      <th>4</th>\n",
       "      <td>1</td>\n",
       "      <td>1</td>\n",
       "      <td>0</td>\n",
       "      <td>1</td>\n",
       "      <td>1</td>\n",
       "      <td>0.226957</td>\n",
       "      <td>1600</td>\n",
       "    </tr>\n",
       "  </tbody>\n",
       "</table>\n",
       "</div>"
      ],
      "text/plain": [
       "   season  mnth  holiday  workingday  weathersit      temp   cnt\n",
       "0       1     1        0           0           2  0.344167   985\n",
       "1       1     1        0           0           2  0.363478   801\n",
       "2       1     1        0           1           1  0.196364  1349\n",
       "3       1     1        0           1           1  0.200000  1562\n",
       "4       1     1        0           1           1  0.226957  1600"
      ]
     },
     "execution_count": 7,
     "metadata": {},
     "output_type": "execute_result"
    }
   ],
   "source": [
    "bike_sharing_data_cols.head()"
   ]
  },
  {
   "cell_type": "code",
   "execution_count": 8,
   "metadata": {},
   "outputs": [
    {
     "data": {
      "text/html": [
       "<div>\n",
       "<style scoped>\n",
       "    .dataframe tbody tr th:only-of-type {\n",
       "        vertical-align: middle;\n",
       "    }\n",
       "\n",
       "    .dataframe tbody tr th {\n",
       "        vertical-align: top;\n",
       "    }\n",
       "\n",
       "    .dataframe thead th {\n",
       "        text-align: right;\n",
       "    }\n",
       "</style>\n",
       "<table border=\"1\" class=\"dataframe\">\n",
       "  <thead>\n",
       "    <tr style=\"text-align: right;\">\n",
       "      <th></th>\n",
       "      <th>season</th>\n",
       "      <th>mnth</th>\n",
       "      <th>holiday</th>\n",
       "      <th>workingday</th>\n",
       "      <th>weathersit</th>\n",
       "      <th>temp</th>\n",
       "      <th>cnt</th>\n",
       "    </tr>\n",
       "  </thead>\n",
       "  <tbody>\n",
       "    <tr>\n",
       "      <th>count</th>\n",
       "      <td>731.000000</td>\n",
       "      <td>731.000000</td>\n",
       "      <td>731.000000</td>\n",
       "      <td>731.000000</td>\n",
       "      <td>731.000000</td>\n",
       "      <td>731.000000</td>\n",
       "      <td>731.000000</td>\n",
       "    </tr>\n",
       "    <tr>\n",
       "      <th>mean</th>\n",
       "      <td>2.496580</td>\n",
       "      <td>6.519836</td>\n",
       "      <td>0.028728</td>\n",
       "      <td>0.683995</td>\n",
       "      <td>1.395349</td>\n",
       "      <td>0.495385</td>\n",
       "      <td>4504.348837</td>\n",
       "    </tr>\n",
       "    <tr>\n",
       "      <th>std</th>\n",
       "      <td>1.110807</td>\n",
       "      <td>3.451913</td>\n",
       "      <td>0.167155</td>\n",
       "      <td>0.465233</td>\n",
       "      <td>0.544894</td>\n",
       "      <td>0.183051</td>\n",
       "      <td>1937.211452</td>\n",
       "    </tr>\n",
       "    <tr>\n",
       "      <th>min</th>\n",
       "      <td>1.000000</td>\n",
       "      <td>1.000000</td>\n",
       "      <td>0.000000</td>\n",
       "      <td>0.000000</td>\n",
       "      <td>1.000000</td>\n",
       "      <td>0.059130</td>\n",
       "      <td>22.000000</td>\n",
       "    </tr>\n",
       "    <tr>\n",
       "      <th>25%</th>\n",
       "      <td>2.000000</td>\n",
       "      <td>4.000000</td>\n",
       "      <td>0.000000</td>\n",
       "      <td>0.000000</td>\n",
       "      <td>1.000000</td>\n",
       "      <td>0.337083</td>\n",
       "      <td>3152.000000</td>\n",
       "    </tr>\n",
       "    <tr>\n",
       "      <th>50%</th>\n",
       "      <td>3.000000</td>\n",
       "      <td>7.000000</td>\n",
       "      <td>0.000000</td>\n",
       "      <td>1.000000</td>\n",
       "      <td>1.000000</td>\n",
       "      <td>0.498333</td>\n",
       "      <td>4548.000000</td>\n",
       "    </tr>\n",
       "    <tr>\n",
       "      <th>75%</th>\n",
       "      <td>3.000000</td>\n",
       "      <td>10.000000</td>\n",
       "      <td>0.000000</td>\n",
       "      <td>1.000000</td>\n",
       "      <td>2.000000</td>\n",
       "      <td>0.655417</td>\n",
       "      <td>5956.000000</td>\n",
       "    </tr>\n",
       "    <tr>\n",
       "      <th>max</th>\n",
       "      <td>4.000000</td>\n",
       "      <td>12.000000</td>\n",
       "      <td>1.000000</td>\n",
       "      <td>1.000000</td>\n",
       "      <td>3.000000</td>\n",
       "      <td>0.861667</td>\n",
       "      <td>8714.000000</td>\n",
       "    </tr>\n",
       "  </tbody>\n",
       "</table>\n",
       "</div>"
      ],
      "text/plain": [
       "           season        mnth     holiday  workingday  weathersit        temp  \\\n",
       "count  731.000000  731.000000  731.000000  731.000000  731.000000  731.000000   \n",
       "mean     2.496580    6.519836    0.028728    0.683995    1.395349    0.495385   \n",
       "std      1.110807    3.451913    0.167155    0.465233    0.544894    0.183051   \n",
       "min      1.000000    1.000000    0.000000    0.000000    1.000000    0.059130   \n",
       "25%      2.000000    4.000000    0.000000    0.000000    1.000000    0.337083   \n",
       "50%      3.000000    7.000000    0.000000    1.000000    1.000000    0.498333   \n",
       "75%      3.000000   10.000000    0.000000    1.000000    2.000000    0.655417   \n",
       "max      4.000000   12.000000    1.000000    1.000000    3.000000    0.861667   \n",
       "\n",
       "               cnt  \n",
       "count   731.000000  \n",
       "mean   4504.348837  \n",
       "std    1937.211452  \n",
       "min      22.000000  \n",
       "25%    3152.000000  \n",
       "50%    4548.000000  \n",
       "75%    5956.000000  \n",
       "max    8714.000000  "
      ]
     },
     "execution_count": 8,
     "metadata": {},
     "output_type": "execute_result"
    }
   ],
   "source": [
    "bike_sharing_data_cols.describe()"
   ]
  },
  {
   "cell_type": "code",
   "execution_count": 9,
   "metadata": {},
   "outputs": [
    {
     "data": {
      "text/plain": [
       "array([ 1,  2,  3,  4,  5,  6,  7,  8,  9, 10, 11, 12])"
      ]
     },
     "execution_count": 9,
     "metadata": {},
     "output_type": "execute_result"
    }
   ],
   "source": [
    "bike_sharing_data_cols['mnth'].unique()"
   ]
  },
  {
   "cell_type": "code",
   "execution_count": 10,
   "metadata": {},
   "outputs": [
    {
     "data": {
      "text/plain": [
       "array([1, 2, 3, 4])"
      ]
     },
     "execution_count": 10,
     "metadata": {},
     "output_type": "execute_result"
    }
   ],
   "source": [
    "bike_sharing_data_cols['season'].unique()"
   ]
  },
  {
   "cell_type": "code",
   "execution_count": 11,
   "metadata": {},
   "outputs": [
    {
     "data": {
      "text/plain": [
       "array([0, 1])"
      ]
     },
     "execution_count": 11,
     "metadata": {},
     "output_type": "execute_result"
    }
   ],
   "source": [
    "bike_sharing_data_cols['holiday'].unique()"
   ]
  },
  {
   "cell_type": "code",
   "execution_count": 12,
   "metadata": {},
   "outputs": [
    {
     "data": {
      "text/plain": [
       "array([0, 1])"
      ]
     },
     "execution_count": 12,
     "metadata": {},
     "output_type": "execute_result"
    }
   ],
   "source": [
    "bike_sharing_data_cols['workingday'].unique()"
   ]
  },
  {
   "cell_type": "code",
   "execution_count": 13,
   "metadata": {},
   "outputs": [
    {
     "data": {
      "text/plain": [
       "array([0.344167 , 0.363478 , 0.196364 , 0.2      , 0.226957 , 0.204348 ,\n",
       "       0.196522 , 0.165    , 0.138333 , 0.150833 , 0.169091 , 0.172727 ,\n",
       "       0.16087  , 0.233333 , 0.231667 , 0.175833 , 0.216667 , 0.292174 ,\n",
       "       0.261667 , 0.1775   , 0.0591304, 0.0965217, 0.0973913, 0.223478 ,\n",
       "       0.2175   , 0.195    , 0.203478 , 0.216522 , 0.180833 , 0.192174 ,\n",
       "       0.26     , 0.186957 , 0.211304 , 0.285833 , 0.271667 , 0.220833 ,\n",
       "       0.134783 , 0.144348 , 0.189091 , 0.2225   , 0.316522 , 0.415    ,\n",
       "       0.266087 , 0.318261 , 0.435833 , 0.521667 , 0.399167 , 0.285217 ,\n",
       "       0.303333 , 0.182222 , 0.221739 , 0.295652 , 0.364348 , 0.2825   ,\n",
       "       0.343478 , 0.407273 , 0.266667 , 0.335    , 0.198333 , 0.384167 ,\n",
       "       0.376522 , 0.261739 , 0.2925   , 0.295833 , 0.389091 , 0.329167 ,\n",
       "       0.384348 , 0.325217 , 0.317391 , 0.365217 , 0.54     , 0.4725   ,\n",
       "       0.3325   , 0.430435 , 0.441667 , 0.346957 , 0.285    , 0.264167 ,\n",
       "       0.265833 , 0.253043 , 0.264348 , 0.3025   , 0.3      , 0.268333 ,\n",
       "       0.315    , 0.378333 , 0.573333 , 0.414167 , 0.390833 , 0.4375   ,\n",
       "       0.335833 , 0.3425   , 0.426667 , 0.595652 , 0.5025   , 0.4125   ,\n",
       "       0.4675   , 0.446667 , 0.430833 , 0.456667 , 0.5125   , 0.505833 ,\n",
       "       0.595    , 0.459167 , 0.336667 , 0.46     , 0.581667 , 0.606667 ,\n",
       "       0.631667 , 0.62     , 0.6175   , 0.51     , 0.451667 , 0.549167 ,\n",
       "       0.616667 , 0.479167 , 0.52     , 0.528333 , 0.5325   , 0.5425   ,\n",
       "       0.535    , 0.520833 , 0.5625   , 0.5775   , 0.561667 , 0.55     ,\n",
       "       0.530833 , 0.536667 , 0.6025   , 0.604167 , 0.66     , 0.660833 ,\n",
       "       0.708333 , 0.681667 , 0.655833 , 0.6675   , 0.733333 , 0.775    ,\n",
       "       0.764167 , 0.715    , 0.635    , 0.648333 , 0.678333 , 0.7075   ,\n",
       "       0.775833 , 0.808333 , 0.755    , 0.725    , 0.6925   , 0.626667 ,\n",
       "       0.628333 , 0.649167 , 0.696667 , 0.699167 , 0.680833 , 0.728333 ,\n",
       "       0.724167 , 0.695    , 0.68     , 0.6825   , 0.744167 , 0.7225   ,\n",
       "       0.738333 , 0.716667 , 0.726667 , 0.746667 , 0.72     , 0.75     ,\n",
       "       0.709167 , 0.7475   , 0.7625   , 0.794167 , 0.663333 , 0.686667 ,\n",
       "       0.719167 , 0.776667 , 0.768333 , 0.815    , 0.848333 , 0.849167 ,\n",
       "       0.83     , 0.743333 , 0.771667 , 0.779167 , 0.838333 , 0.804167 ,\n",
       "       0.805833 , 0.783333 , 0.731667 , 0.71     , 0.710833 , 0.7425   ,\n",
       "       0.765    , 0.766667 , 0.7175   , 0.685833 , 0.676667 , 0.665833 ,\n",
       "       0.700833 , 0.723333 , 0.711667 , 0.685    , 0.6975   , 0.691667 ,\n",
       "       0.640833 , 0.673333 , 0.684167 , 0.7      , 0.707059 , 0.636667 ,\n",
       "       0.639167 , 0.656667 , 0.655    , 0.643333 , 0.669167 , 0.599167 ,\n",
       "       0.633913 , 0.65     , 0.653333 , 0.644348 , 0.650833 , 0.469167 ,\n",
       "       0.491667 , 0.5075   , 0.609167 , 0.634167 , 0.564167 , 0.41     ,\n",
       "       0.356667 , 0.484167 , 0.538333 , 0.494167 , 0.510833 , 0.540833 ,\n",
       "       0.570833 , 0.566667 , 0.543333 , 0.589167 , 0.550833 , 0.506667 ,\n",
       "       0.511667 , 0.534167 , 0.541739 , 0.475833 , 0.4275   , 0.4225   ,\n",
       "       0.421667 , 0.463333 , 0.471667 , 0.47     , 0.330833 , 0.254167 ,\n",
       "       0.319167 , 0.34     , 0.400833 , 0.3775   , 0.408333 , 0.403333 ,\n",
       "       0.326667 , 0.348333 , 0.395    , 0.4      , 0.38     , 0.324167 ,\n",
       "       0.440833 , 0.53     , 0.341667 , 0.274167 , 0.4475   , 0.416667 ,\n",
       "       0.373333 , 0.375    , 0.375833 , 0.503478 , 0.458333 , 0.325    ,\n",
       "       0.3125   , 0.314167 , 0.299167 , 0.385833 , 0.4625   , 0.290833 ,\n",
       "       0.275    , 0.238333 , 0.3175   , 0.258333 , 0.276667 , 0.428333 ,\n",
       "       0.423333 , 0.274783 , 0.321739 , 0.29913  , 0.248333 , 0.311667 ,\n",
       "       0.37     , 0.273043 , 0.15     , 0.1075   , 0.334167 , 0.393333 ,\n",
       "       0.3375   , 0.224167 , 0.308696 , 0.3825   , 0.18     , 0.166667 ,\n",
       "       0.19     , 0.373043 , 0.173333 , 0.1625   , 0.218333 , 0.294167 ,\n",
       "       0.425    , 0.315833 , 0.269167 , 0.39     , 0.313333 , 0.282609 ,\n",
       "       0.354167 , 0.256667 , 0.265    , 0.280833 , 0.1275   , 0.316667 ,\n",
       "       0.343333 , 0.346667 , 0.28     , 0.287826 , 0.395833 , 0.454167 ,\n",
       "       0.4075   , 0.279167 , 0.366667 , 0.359167 , 0.344348 , 0.485833 ,\n",
       "       0.353333 , 0.325833 , 0.243333 , 0.404167 , 0.5275   , 0.410833 ,\n",
       "       0.2875   , 0.361739 , 0.466667 , 0.565    , 0.5725   , 0.5575   ,\n",
       "       0.514167 , 0.545    , 0.560833 , 0.531667 , 0.554167 , 0.601667 ,\n",
       "       0.445833 , 0.323333 , 0.424167 , 0.425833 , 0.433913 , 0.541667 ,\n",
       "       0.435    , 0.5      , 0.489167 , 0.348696 , 0.3975   , 0.4425   ,\n",
       "       0.495    , 0.664167 , 0.608333 , 0.498333 , 0.526667 , 0.57     ,\n",
       "       0.396667 , 0.321667 , 0.413333 , 0.476667 , 0.4575   , 0.376667 ,\n",
       "       0.464167 , 0.613333 , 0.56     , 0.6275   , 0.621667 , 0.5375   ,\n",
       "       0.575    , 0.533333 , 0.6125   , 0.611667 , 0.593333 , 0.6      ,\n",
       "       0.620833 , 0.598333 , 0.615    , 0.69     , 0.7125   , 0.654167 ,\n",
       "       0.583333 , 0.5975   , 0.720833 , 0.5925   , 0.568333 , 0.688333 ,\n",
       "       0.7825   , 0.7775   , 0.715833 , 0.630833 , 0.749167 , 0.834167 ,\n",
       "       0.815833 , 0.781667 , 0.780833 , 0.789167 , 0.8275   , 0.828333 ,\n",
       "       0.861667 , 0.8225   , 0.703333 , 0.745833 , 0.763333 , 0.818333 ,\n",
       "       0.793333 , 0.77     , 0.595833 , 0.741667 , 0.750833 , 0.755833 ,\n",
       "       0.721667 , 0.730833 , 0.713333 , 0.7525   , 0.765833 , 0.769167 ,\n",
       "       0.735833 , 0.706667 , 0.635833 , 0.695833 , 0.7025   , 0.661667 ,\n",
       "       0.753333 , 0.725833 , 0.736667 , 0.659167 , 0.61     , 0.633333 ,\n",
       "       0.58     , 0.580833 , 0.623333 , 0.5525   , 0.546667 , 0.529167 ,\n",
       "       0.619167 , 0.590833 , 0.6575   , 0.415833 , 0.383333 , 0.468333 ,\n",
       "       0.455833 , 0.5225   , 0.563333 , 0.4875   , 0.544167 , 0.5875   ,\n",
       "       0.545833 , 0.4775   , 0.44     , 0.318182 , 0.3575   , 0.365833 ,\n",
       "       0.355    , 0.352174 , 0.361667 , 0.389167 , 0.420833 , 0.485    ,\n",
       "       0.289167 , 0.345    , 0.380833 , 0.374167 , 0.368333 , 0.278333 ,\n",
       "       0.245833 , 0.291667 , 0.296667 , 0.28087  , 0.298333 , 0.3475   ,\n",
       "       0.4525   , 0.438333 , 0.255833 , 0.320833 , 0.381667 , 0.2975   ,\n",
       "       0.281667 , 0.3625   , 0.33     , 0.231304 , 0.291304 , 0.253333 ,\n",
       "       0.215833 ])"
      ]
     },
     "execution_count": 13,
     "metadata": {},
     "output_type": "execute_result"
    }
   ],
   "source": [
    "bike_sharing_data_cols['temp'].unique()"
   ]
  },
  {
   "cell_type": "code",
   "execution_count": 14,
   "metadata": {},
   "outputs": [
    {
     "data": {
      "text/plain": [
       "array([2, 1, 3])"
      ]
     },
     "execution_count": 14,
     "metadata": {},
     "output_type": "execute_result"
    }
   ],
   "source": [
    "bike_sharing_data_cols['weathersit'].unique()"
   ]
  },
  {
   "cell_type": "code",
   "execution_count": 15,
   "metadata": {},
   "outputs": [
    {
     "data": {
      "text/plain": [
       "count    731.000000\n",
       "mean       0.495385\n",
       "std        0.183051\n",
       "min        0.059130\n",
       "25%        0.337083\n",
       "50%        0.498333\n",
       "75%        0.655417\n",
       "max        0.861667\n",
       "Name: temp, dtype: float64"
      ]
     },
     "execution_count": 15,
     "metadata": {},
     "output_type": "execute_result"
    }
   ],
   "source": [
    "bike_sharing_data_cols['temp'].describe()"
   ]
  },
  {
   "cell_type": "code",
   "execution_count": 16,
   "metadata": {},
   "outputs": [
    {
     "data": {
      "text/html": [
       "<div>\n",
       "<style scoped>\n",
       "    .dataframe tbody tr th:only-of-type {\n",
       "        vertical-align: middle;\n",
       "    }\n",
       "\n",
       "    .dataframe tbody tr th {\n",
       "        vertical-align: top;\n",
       "    }\n",
       "\n",
       "    .dataframe thead th {\n",
       "        text-align: right;\n",
       "    }\n",
       "</style>\n",
       "<table border=\"1\" class=\"dataframe\">\n",
       "  <thead>\n",
       "    <tr style=\"text-align: right;\">\n",
       "      <th></th>\n",
       "      <th>count</th>\n",
       "      <th>mean</th>\n",
       "      <th>std</th>\n",
       "      <th>min</th>\n",
       "      <th>25%</th>\n",
       "      <th>50%</th>\n",
       "      <th>75%</th>\n",
       "      <th>max</th>\n",
       "    </tr>\n",
       "    <tr>\n",
       "      <th>workingday</th>\n",
       "      <th></th>\n",
       "      <th></th>\n",
       "      <th></th>\n",
       "      <th></th>\n",
       "      <th></th>\n",
       "      <th></th>\n",
       "      <th></th>\n",
       "      <th></th>\n",
       "    </tr>\n",
       "  </thead>\n",
       "  <tbody>\n",
       "    <tr>\n",
       "      <th>0</th>\n",
       "      <td>231.0</td>\n",
       "      <td>4330.168831</td>\n",
       "      <td>2052.141245</td>\n",
       "      <td>605.0</td>\n",
       "      <td>2710.50</td>\n",
       "      <td>4459.0</td>\n",
       "      <td>5907.5</td>\n",
       "      <td>8714.0</td>\n",
       "    </tr>\n",
       "    <tr>\n",
       "      <th>1</th>\n",
       "      <td>500.0</td>\n",
       "      <td>4584.820000</td>\n",
       "      <td>1878.415583</td>\n",
       "      <td>22.0</td>\n",
       "      <td>3344.25</td>\n",
       "      <td>4582.0</td>\n",
       "      <td>5987.5</td>\n",
       "      <td>8362.0</td>\n",
       "    </tr>\n",
       "  </tbody>\n",
       "</table>\n",
       "</div>"
      ],
      "text/plain": [
       "            count         mean          std    min      25%     50%     75%  \\\n",
       "workingday                                                                    \n",
       "0           231.0  4330.168831  2052.141245  605.0  2710.50  4459.0  5907.5   \n",
       "1           500.0  4584.820000  1878.415583   22.0  3344.25  4582.0  5987.5   \n",
       "\n",
       "               max  \n",
       "workingday          \n",
       "0           8714.0  \n",
       "1           8362.0  "
      ]
     },
     "execution_count": 16,
     "metadata": {},
     "output_type": "execute_result"
    }
   ],
   "source": [
    " bike_sharing_data_cols.groupby('workingday')['cnt'].describe()"
   ]
  },
  {
   "cell_type": "code",
   "execution_count": 17,
   "metadata": {},
   "outputs": [
    {
     "data": {
      "text/plain": [
       "<AxesSubplot:title={'center':'cnt'}, xlabel='workingday'>"
      ]
     },
     "execution_count": 17,
     "metadata": {},
     "output_type": "execute_result"
    },
    {
     "data": {
      "image/png": "[encoded data removed]",
      "text/plain": [
       "<Figure size 720x576 with 1 Axes>"
      ]
     },
     "metadata": {
      "needs_background": "light"
     },
     "output_type": "display_data"
    }
   ],
   "source": [
    "bike_sharing_data_cols.boxplot(column=['cnt'], by='workingday', figsize=(10,8))"
   ]
  },
  {
   "cell_type": "code",
   "execution_count": 18,
   "metadata": {},
   "outputs": [],
   "source": [
    "# for working day\n",
    "sample_01 = bike_sharing_data_cols[(bike_sharing_data_cols['workingday'] == 1)]\n",
    "\n",
    "# for non-working day\n",
    "sample_02 = bike_sharing_data_cols[(bike_sharing_data_cols['workingday'] == 0)]"
   ]
  },
  {
   "cell_type": "code",
   "execution_count": 19,
   "metadata": {},
   "outputs": [
    {
     "data": {
      "text/plain": [
       "((500, 7), (231, 7))"
      ]
     },
     "execution_count": 19,
     "metadata": {},
     "output_type": "execute_result"
    }
   ],
   "source": [
    "sample_01.shape, sample_02.shape"
   ]
  },
  {
   "cell_type": "code",
   "execution_count": 20,
   "metadata": {
    "scrolled": false
   },
   "outputs": [
    {
     "data": {
      "text/html": [
       "<div>\n",
       "<style scoped>\n",
       "    .dataframe tbody tr th:only-of-type {\n",
       "        vertical-align: middle;\n",
       "    }\n",
       "\n",
       "    .dataframe tbody tr th {\n",
       "        vertical-align: top;\n",
       "    }\n",
       "\n",
       "    .dataframe thead th {\n",
       "        text-align: right;\n",
       "    }\n",
       "</style>\n",
       "<table border=\"1\" class=\"dataframe\">\n",
       "  <thead>\n",
       "    <tr style=\"text-align: right;\">\n",
       "      <th></th>\n",
       "      <th>season</th>\n",
       "      <th>mnth</th>\n",
       "      <th>holiday</th>\n",
       "      <th>workingday</th>\n",
       "      <th>weathersit</th>\n",
       "      <th>temp</th>\n",
       "      <th>cnt</th>\n",
       "    </tr>\n",
       "  </thead>\n",
       "  <tbody>\n",
       "    <tr>\n",
       "      <th>2</th>\n",
       "      <td>1</td>\n",
       "      <td>1</td>\n",
       "      <td>0</td>\n",
       "      <td>1</td>\n",
       "      <td>1</td>\n",
       "      <td>0.196364</td>\n",
       "      <td>1349</td>\n",
       "    </tr>\n",
       "    <tr>\n",
       "      <th>3</th>\n",
       "      <td>1</td>\n",
       "      <td>1</td>\n",
       "      <td>0</td>\n",
       "      <td>1</td>\n",
       "      <td>1</td>\n",
       "      <td>0.200000</td>\n",
       "      <td>1562</td>\n",
       "    </tr>\n",
       "    <tr>\n",
       "      <th>4</th>\n",
       "      <td>1</td>\n",
       "      <td>1</td>\n",
       "      <td>0</td>\n",
       "      <td>1</td>\n",
       "      <td>1</td>\n",
       "      <td>0.226957</td>\n",
       "      <td>1600</td>\n",
       "    </tr>\n",
       "    <tr>\n",
       "      <th>5</th>\n",
       "      <td>1</td>\n",
       "      <td>1</td>\n",
       "      <td>0</td>\n",
       "      <td>1</td>\n",
       "      <td>1</td>\n",
       "      <td>0.204348</td>\n",
       "      <td>1606</td>\n",
       "    </tr>\n",
       "    <tr>\n",
       "      <th>6</th>\n",
       "      <td>1</td>\n",
       "      <td>1</td>\n",
       "      <td>0</td>\n",
       "      <td>1</td>\n",
       "      <td>2</td>\n",
       "      <td>0.196522</td>\n",
       "      <td>1510</td>\n",
       "    </tr>\n",
       "    <tr>\n",
       "      <th>...</th>\n",
       "      <td>...</td>\n",
       "      <td>...</td>\n",
       "      <td>...</td>\n",
       "      <td>...</td>\n",
       "      <td>...</td>\n",
       "      <td>...</td>\n",
       "      <td>...</td>\n",
       "    </tr>\n",
       "    <tr>\n",
       "      <th>723</th>\n",
       "      <td>1</td>\n",
       "      <td>12</td>\n",
       "      <td>0</td>\n",
       "      <td>1</td>\n",
       "      <td>2</td>\n",
       "      <td>0.231304</td>\n",
       "      <td>920</td>\n",
       "    </tr>\n",
       "    <tr>\n",
       "      <th>725</th>\n",
       "      <td>1</td>\n",
       "      <td>12</td>\n",
       "      <td>0</td>\n",
       "      <td>1</td>\n",
       "      <td>3</td>\n",
       "      <td>0.243333</td>\n",
       "      <td>441</td>\n",
       "    </tr>\n",
       "    <tr>\n",
       "      <th>726</th>\n",
       "      <td>1</td>\n",
       "      <td>12</td>\n",
       "      <td>0</td>\n",
       "      <td>1</td>\n",
       "      <td>2</td>\n",
       "      <td>0.254167</td>\n",
       "      <td>2114</td>\n",
       "    </tr>\n",
       "    <tr>\n",
       "      <th>727</th>\n",
       "      <td>1</td>\n",
       "      <td>12</td>\n",
       "      <td>0</td>\n",
       "      <td>1</td>\n",
       "      <td>2</td>\n",
       "      <td>0.253333</td>\n",
       "      <td>3095</td>\n",
       "    </tr>\n",
       "    <tr>\n",
       "      <th>730</th>\n",
       "      <td>1</td>\n",
       "      <td>12</td>\n",
       "      <td>0</td>\n",
       "      <td>1</td>\n",
       "      <td>2</td>\n",
       "      <td>0.215833</td>\n",
       "      <td>2729</td>\n",
       "    </tr>\n",
       "  </tbody>\n",
       "</table>\n",
       "<p>500 rows × 7 columns</p>\n",
       "</div>"
      ],
      "text/plain": [
       "     season  mnth  holiday  workingday  weathersit      temp   cnt\n",
       "2         1     1        0           1           1  0.196364  1349\n",
       "3         1     1        0           1           1  0.200000  1562\n",
       "4         1     1        0           1           1  0.226957  1600\n",
       "5         1     1        0           1           1  0.204348  1606\n",
       "6         1     1        0           1           2  0.196522  1510\n",
       "..      ...   ...      ...         ...         ...       ...   ...\n",
       "723       1    12        0           1           2  0.231304   920\n",
       "725       1    12        0           1           3  0.243333   441\n",
       "726       1    12        0           1           2  0.254167  2114\n",
       "727       1    12        0           1           2  0.253333  3095\n",
       "730       1    12        0           1           2  0.215833  2729\n",
       "\n",
       "[500 rows x 7 columns]"
      ]
     },
     "execution_count": 20,
     "metadata": {},
     "output_type": "execute_result"
    }
   ],
   "source": [
    "bike_sharing_data_cols[(bike_sharing_data_cols['workingday'] == 1)]"
   ]
  },
  {
   "cell_type": "code",
   "execution_count": 21,
   "metadata": {},
   "outputs": [
    {
     "data": {
      "text/html": [
       "<div>\n",
       "<style scoped>\n",
       "    .dataframe tbody tr th:only-of-type {\n",
       "        vertical-align: middle;\n",
       "    }\n",
       "\n",
       "    .dataframe tbody tr th {\n",
       "        vertical-align: top;\n",
       "    }\n",
       "\n",
       "    .dataframe thead th {\n",
       "        text-align: right;\n",
       "    }\n",
       "</style>\n",
       "<table border=\"1\" class=\"dataframe\">\n",
       "  <thead>\n",
       "    <tr style=\"text-align: right;\">\n",
       "      <th></th>\n",
       "      <th>season</th>\n",
       "      <th>mnth</th>\n",
       "      <th>holiday</th>\n",
       "      <th>workingday</th>\n",
       "      <th>weathersit</th>\n",
       "      <th>temp</th>\n",
       "      <th>cnt</th>\n",
       "    </tr>\n",
       "  </thead>\n",
       "  <tbody>\n",
       "    <tr>\n",
       "      <th>0</th>\n",
       "      <td>1</td>\n",
       "      <td>1</td>\n",
       "      <td>0</td>\n",
       "      <td>0</td>\n",
       "      <td>2</td>\n",
       "      <td>0.344167</td>\n",
       "      <td>985</td>\n",
       "    </tr>\n",
       "    <tr>\n",
       "      <th>1</th>\n",
       "      <td>1</td>\n",
       "      <td>1</td>\n",
       "      <td>0</td>\n",
       "      <td>0</td>\n",
       "      <td>2</td>\n",
       "      <td>0.363478</td>\n",
       "      <td>801</td>\n",
       "    </tr>\n",
       "    <tr>\n",
       "      <th>7</th>\n",
       "      <td>1</td>\n",
       "      <td>1</td>\n",
       "      <td>0</td>\n",
       "      <td>0</td>\n",
       "      <td>2</td>\n",
       "      <td>0.165000</td>\n",
       "      <td>959</td>\n",
       "    </tr>\n",
       "    <tr>\n",
       "      <th>8</th>\n",
       "      <td>1</td>\n",
       "      <td>1</td>\n",
       "      <td>0</td>\n",
       "      <td>0</td>\n",
       "      <td>1</td>\n",
       "      <td>0.138333</td>\n",
       "      <td>822</td>\n",
       "    </tr>\n",
       "    <tr>\n",
       "      <th>14</th>\n",
       "      <td>1</td>\n",
       "      <td>1</td>\n",
       "      <td>0</td>\n",
       "      <td>0</td>\n",
       "      <td>2</td>\n",
       "      <td>0.233333</td>\n",
       "      <td>1248</td>\n",
       "    </tr>\n",
       "    <tr>\n",
       "      <th>...</th>\n",
       "      <td>...</td>\n",
       "      <td>...</td>\n",
       "      <td>...</td>\n",
       "      <td>...</td>\n",
       "      <td>...</td>\n",
       "      <td>...</td>\n",
       "      <td>...</td>\n",
       "    </tr>\n",
       "    <tr>\n",
       "      <th>721</th>\n",
       "      <td>1</td>\n",
       "      <td>12</td>\n",
       "      <td>0</td>\n",
       "      <td>0</td>\n",
       "      <td>1</td>\n",
       "      <td>0.265833</td>\n",
       "      <td>1749</td>\n",
       "    </tr>\n",
       "    <tr>\n",
       "      <th>722</th>\n",
       "      <td>1</td>\n",
       "      <td>12</td>\n",
       "      <td>0</td>\n",
       "      <td>0</td>\n",
       "      <td>1</td>\n",
       "      <td>0.245833</td>\n",
       "      <td>1787</td>\n",
       "    </tr>\n",
       "    <tr>\n",
       "      <th>724</th>\n",
       "      <td>1</td>\n",
       "      <td>12</td>\n",
       "      <td>1</td>\n",
       "      <td>0</td>\n",
       "      <td>2</td>\n",
       "      <td>0.291304</td>\n",
       "      <td>1013</td>\n",
       "    </tr>\n",
       "    <tr>\n",
       "      <th>728</th>\n",
       "      <td>1</td>\n",
       "      <td>12</td>\n",
       "      <td>0</td>\n",
       "      <td>0</td>\n",
       "      <td>2</td>\n",
       "      <td>0.253333</td>\n",
       "      <td>1341</td>\n",
       "    </tr>\n",
       "    <tr>\n",
       "      <th>729</th>\n",
       "      <td>1</td>\n",
       "      <td>12</td>\n",
       "      <td>0</td>\n",
       "      <td>0</td>\n",
       "      <td>1</td>\n",
       "      <td>0.255833</td>\n",
       "      <td>1796</td>\n",
       "    </tr>\n",
       "  </tbody>\n",
       "</table>\n",
       "<p>231 rows × 7 columns</p>\n",
       "</div>"
      ],
      "text/plain": [
       "     season  mnth  holiday  workingday  weathersit      temp   cnt\n",
       "0         1     1        0           0           2  0.344167   985\n",
       "1         1     1        0           0           2  0.363478   801\n",
       "7         1     1        0           0           2  0.165000   959\n",
       "8         1     1        0           0           1  0.138333   822\n",
       "14        1     1        0           0           2  0.233333  1248\n",
       "..      ...   ...      ...         ...         ...       ...   ...\n",
       "721       1    12        0           0           1  0.265833  1749\n",
       "722       1    12        0           0           1  0.245833  1787\n",
       "724       1    12        1           0           2  0.291304  1013\n",
       "728       1    12        0           0           2  0.253333  1341\n",
       "729       1    12        0           0           1  0.255833  1796\n",
       "\n",
       "[231 rows x 7 columns]"
      ]
     },
     "execution_count": 21,
     "metadata": {},
     "output_type": "execute_result"
    }
   ],
   "source": [
    "bike_sharing_data_cols[(bike_sharing_data_cols['workingday'] == 0)]"
   ]
  },
  {
   "cell_type": "code",
   "execution_count": 22,
   "metadata": {},
   "outputs": [],
   "source": [
    "sample_01 = sample_01.sample(231)"
   ]
  },
  {
   "cell_type": "code",
   "execution_count": 23,
   "metadata": {},
   "outputs": [
    {
     "data": {
      "text/plain": [
       "((231, 7), (231, 7))"
      ]
     },
     "execution_count": 23,
     "metadata": {},
     "output_type": "execute_result"
    }
   ],
   "source": [
    "sample_01.shape, sample_02.shape"
   ]
  },
  {
   "cell_type": "markdown",
   "metadata": {},
   "source": [
    "Leven's test to check whether the **variance** of the two groups are the same, like the t-test but for **variance** rather than the mean"
   ]
  },
  {
   "cell_type": "code",
   "execution_count": 24,
   "metadata": {},
   "outputs": [
    {
     "data": {
      "text/plain": [
       "LeveneResult(statistic=3.5308617987485493, pvalue=0.06086849542785594)"
      ]
     },
     "execution_count": 24,
     "metadata": {},
     "output_type": "execute_result"
    }
   ],
   "source": [
    "stats.levene(sample_01['cnt'], sample_02['cnt'])"
   ]
  },
  {
   "cell_type": "code",
   "execution_count": 25,
   "metadata": {},
   "outputs": [
    {
     "data": {
      "text/plain": [
       "array([ 0.64816451,  1.57407705, -0.30801007,  0.16821903,  0.28130353,\n",
       "       -0.71203498,  0.66993195,  0.45862852,  1.41905041,  0.82602042,\n",
       "        1.62557562, -0.18165274, -0.58408491, -0.26128971,  0.19157921,\n",
       "        0.20379021, -1.58697985,  1.17058305,  1.43391598, -0.0590118 ,\n",
       "        1.12014631, -0.38764704, -0.21456935,  1.60487001, -1.5285794 ,\n",
       "       -1.33373427,  1.46948716, -1.99312841,  1.23535446,  0.52764723,\n",
       "       -0.08874294, -0.11475768, -0.32181381, -0.16731808, -1.51796114,\n",
       "       -0.25757332, -0.2124457 , -1.34859984, -1.463808  ,  0.06840735,\n",
       "        1.42754502, -1.67139504,  1.85758467, -0.25438784,  0.44641752,\n",
       "       -0.04733171,  1.38878836,  1.51833117, -0.68920571,  0.26325248,\n",
       "        1.66167772, -0.09670663,  0.81168577, -0.18483822, -0.0186624 ,\n",
       "        0.18361551, -1.71174444,  0.12840054,  0.18680099,  1.47054898,\n",
       "       -0.56337929,  0.09973123,  0.09070571,  0.46924678, -0.00963688,\n",
       "        1.37976284, -1.02474282, -0.30004637, -1.29922492,  0.69966309,\n",
       "        1.00599998, -2.25274494, -1.65228216,  0.62268068, -1.50787379,\n",
       "        0.08752023,  0.15813168,  1.40896306, -1.49884826,  0.55153832,\n",
       "        0.17724455,  0.16131716,  0.06256731, -1.50362648, -0.39932713,\n",
       "        1.4386942 ,  0.47349409, -1.22011886, -0.77521364, -0.92758571,\n",
       "       -1.46593165, -1.63210746,  1.543815  , -1.86199286, -1.4277059 ,\n",
       "        1.50240377, -0.55807016, -1.66927139,  1.41427219, -0.08768111,\n",
       "        1.12120813, -1.19463503, -0.17846726,  0.83186046,  0.31475106,\n",
       "       -0.43967653, -2.11895482,  1.49709464, -0.16519443,  0.05619635,\n",
       "       -0.02131697,  1.25606007, -1.78023223, -0.11847407, -0.16572534,\n",
       "        0.80796937,  0.23405226,  1.54912413, -0.71787502, -0.47259315,\n",
       "        0.02274882, -1.30825044, -1.31780688, -1.47761174, -1.16755846,\n",
       "       -0.15085978,  1.17270671,  0.08433475,  0.41881003, -0.57134299,\n",
       "       -0.05529541, -0.17793635,  0.01053782, -1.70059526, -0.31915924,\n",
       "        0.02805796, -1.55459414, -1.68466787,  0.85787521, -0.0669755 ,\n",
       "        0.65347365, -0.73380241, -1.40169116, -0.58249217, -0.29048993,\n",
       "       -0.53364816,  0.37208968,  0.63754625,  0.74266706,  1.29428582,\n",
       "       -0.03830619,  0.91521383, -1.30878136, -0.72424598,  1.14456831,\n",
       "       -0.04361532,  1.25075094,  0.22555765,  0.04717083, -0.36747234,\n",
       "        0.00682143, -1.72979548,  0.16768811,  1.50505834,  0.54357462,\n",
       "       -1.08367418, -0.97218242,  1.26402377, -0.17103448,  1.05643673,\n",
       "        1.16527392,  1.23800902,  0.81593307,  0.69647761, -0.6807111 ,\n",
       "       -0.54851373, -0.86069066, -1.10437979, -0.02344062, -0.99925899,\n",
       "       -1.04279387,  0.92742483,  1.64203393,  1.47161081,  0.43898473,\n",
       "       -2.21292645,  0.34023489,  1.45993072,  1.45833798, -0.46144397,\n",
       "        1.46630168,  0.81380942, -0.04202258,  1.37339188,  0.26856161,\n",
       "        0.49738518,  0.82814407, -0.44286201,  1.52045482,  1.14191374,\n",
       "        0.06150548,  1.84855915,  0.21759395,  0.02062517, -1.32577058,\n",
       "        1.11271352, -0.07175372, -0.38977069, -0.25438784, -0.05264084,\n",
       "       -0.27774802,  0.2924527 ,  1.11377535, -0.05051719, -0.64673266,\n",
       "       -0.14501973,  0.50906527,  1.42064315, -0.47259315,  1.24172542,\n",
       "       -0.7858319 , -0.61116148, -1.57476884, -0.5596629 ,  0.08061836,\n",
       "        0.03920713,  0.05885092,  1.37498462, -1.75952662, -1.06933953,\n",
       "       -2.10727473])"
      ]
     },
     "execution_count": 25,
     "metadata": {},
     "output_type": "execute_result"
    }
   ],
   "source": [
    "scale(np.array(sample_01['cnt']))"
   ]
  },
  {
   "cell_type": "code",
   "execution_count": 26,
   "metadata": {},
   "outputs": [
    {
     "data": {
      "text/plain": [
       "array([-1.63362686e+00, -1.72348401e+00, -1.64632406e+00, -1.71322857e+00,\n",
       "       -1.50518973e+00, -1.52667731e+00, -1.62630154e+00, -1.63558027e+00,\n",
       "       -1.63313850e+00, -1.57844284e+00, -1.57941955e+00, -1.62385977e+00,\n",
       "       -1.32205695e+00, -1.39579842e+00, -1.33866099e+00, -1.31619670e+00,\n",
       "       -1.22975803e+00, -1.57404766e+00, -1.15308644e+00, -9.41629121e-01,\n",
       "       -1.10034420e+00, -1.81920141e+00, -1.07348472e+00, -9.34303810e-01,\n",
       "       -5.92455952e-01, -9.07932689e-01, -8.95723837e-01, -1.28787217e+00,\n",
       "       -1.01488223e+00, -5.27993213e-01, -9.15746354e-01, -7.00870558e-01,\n",
       "       -5.88060765e-01, -1.72641413e+00, -2.86257942e-01, -1.43658550e-01,\n",
       "       -6.79636669e-02,  4.79481260e-01, -4.78181096e-01,  1.87445518e-01,\n",
       "        1.38261286e-03, -4.49856560e-01,  1.08820511e-01,  7.20239823e-01,\n",
       "        1.61074398e-01,  2.08933098e-01,  2.23583720e-01, -1.13380597e-01,\n",
       "        4.94131882e-01,  2.81209502e-01,  3.10510747e-01,  6.34035814e-02,\n",
       "        3.85228922e-01,  2.02096141e-01,  4.25762311e-01,  4.76062781e-01,\n",
       "        3.85228922e-01,  1.55702503e-01,  8.36468094e-01,  4.91201758e-01,\n",
       "        2.69000650e-01,  7.77865604e-01,  4.74597719e-01, -5.10412466e-01,\n",
       "       -3.53650805e-01,  7.07288926e-02, -1.37563637e-02, -1.76631964e-02,\n",
       "       -2.66235424e-01, -8.79861843e-02, -2.49143032e-01,  4.20390416e-01,\n",
       "       -2.23260265e-01, -1.57014083e+00,  1.87096694e-03,  7.51240793e-02,\n",
       "        2.97813541e-01, -4.78181096e-01,  4.95596945e-01,  3.49579074e-01,\n",
       "        8.83096396e-02, -2.74302780e-02,  5.33688563e-01,  3.31998327e-01,\n",
       "       -9.28443561e-01, -6.89638414e-01,  5.26851606e-01,  5.76663722e-01,\n",
       "        3.84252214e-01,  4.33087622e-01,  3.47137303e-01, -1.08262392e-02,\n",
       "        2.48236088e-02, -1.80845762e+00, -4.87948178e-01, -1.97377499e-01,\n",
       "       -3.32651580e-01, -4.69879077e-01, -1.28519573e-01, -2.99443502e-01,\n",
       "       -3.25814623e-01, -3.95649256e-01, -1.38456627e+00, -6.16385302e-01,\n",
       "       -6.14920240e-01, -3.49743973e-01, -4.12741649e-01, -5.56806104e-01,\n",
       "       -7.75100379e-01, -7.77053795e-01, -9.27466852e-01, -1.62092965e+00,\n",
       "       -1.74643665e+00, -1.47149330e+00, -9.01095732e-01, -9.94371362e-01,\n",
       "       -1.16187681e+00,  9.31931804e-02, -4.42042894e-01, -8.97188899e-01,\n",
       "       -9.86069342e-01, -9.92417945e-01, -1.47930697e+00, -1.14917961e+00,\n",
       "       -1.50007153e-01, -5.30923337e-01, -7.31636865e-01, -6.75476146e-01,\n",
       "       -1.05541562e+00, -1.36796224e+00, -5.94269838e-03, -8.01471499e-01,\n",
       "       -5.86595703e-01, -7.80472274e-01, -4.59623641e-01, -1.29007927e-01,\n",
       "       -4.43019602e-01, -1.03613515e-01,  2.83651273e-01,  1.71208696e+00,\n",
       "        7.62726628e-01, -4.67925661e-01,  3.25161370e-01,  9.30232078e-01,\n",
       "        8.35491386e-01,  1.23398832e+00,  4.09646626e-01,  1.52846583e+00,\n",
       "        1.36828569e+00,  9.96159879e-01,  1.12020182e+00, -1.61311598e+00,\n",
       "       -5.38013985e-02,  9.63928510e-01,  1.24668552e+00,  9.90787984e-01,\n",
       "        1.51332685e+00,  8.73094650e-01,  1.93575313e+00,  1.36682063e+00,\n",
       "        1.07722666e+00,  1.10408613e+00,  8.36468094e-01,  1.85077952e+00,\n",
       "        1.61685792e+00,  1.54702328e+00,  1.10750461e+00,  1.64664752e+00,\n",
       "        1.29307916e+00,  1.52748912e+00,  1.25059236e+00,  6.62614041e-01,\n",
       "        5.86430804e-01,  1.50062965e+00,  2.48978133e-01,  1.66934647e-01,\n",
       "        1.28868397e+00,  8.30607845e-01,  6.29152273e-02,  1.50404813e+00,\n",
       "        1.14999142e+00,  1.10701626e+00,  1.21787263e+00,  5.53711080e-01,\n",
       "        9.61486739e-01,  1.08113349e+00,  1.72624923e+00,  1.06867095e-01,\n",
       "        8.41351635e-01,  4.51645077e-01,  8.83838440e-01,  7.22681593e-01,\n",
       "        8.32072908e-01,  8.03748371e-01,  1.90303341e+00,  2.14086185e+00,\n",
       "        1.46644486e+00,  1.98507690e+00,  1.74676010e+00,  2.06321355e+00,\n",
       "        1.24961565e+00,  1.77508464e+00, -4.00532797e-01,  5.60548038e-01,\n",
       "        1.35705355e+00,  1.12752713e+00,  1.83612890e+00,  1.21787263e+00,\n",
       "        1.71990063e+00,  6.29152273e-02,  3.94507649e-01,  3.79368673e-01,\n",
       "        1.07722666e+00,  1.23154655e+00,  9.46836117e-01,  6.34289504e-01,\n",
       "        1.65469585e-01, -9.30396977e-01, -1.00267338e+00, -9.30885331e-01,\n",
       "        4.20390416e-01,  1.55702503e-01,  6.11336862e-01, -5.38248649e-01,\n",
       "        3.50067428e-01, -2.65747070e-01, -1.26052434e+00, -1.24196688e+00,\n",
       "       -1.61995294e+00, -1.45977280e+00, -1.23757169e+00])"
      ]
     },
     "execution_count": 26,
     "metadata": {},
     "output_type": "execute_result"
    }
   ],
   "source": [
    "scale(np.array(sample_02['cnt'], dtype = np.float))"
   ]
  },
  {
   "cell_type": "markdown",
   "metadata": {},
   "source": [
    "The distribution of the residuals between the two groups should follow the **normal** distribution"
   ]
  },
  {
   "cell_type": "code",
   "execution_count": 27,
   "metadata": {},
   "outputs": [
    {
     "name": "stdout",
     "output_type": "stream",
     "text": [
      "[ 1.72322468e+00  2.45085599e+00  1.05333589e+00  1.44356970e+00\n",
      "  1.36318304e+00  6.73669343e-01  1.73303713e+00  1.59000172e+00\n",
      "  2.27083517e+00  1.80700795e+00  2.37613037e+00  1.12579710e+00\n",
      "  6.06491763e-01  8.92939983e-01  1.17070795e+00  1.16202770e+00\n",
      " -1.77749870e-01  2.04854531e+00  1.91041613e+00  6.85746211e-01\n",
      "  1.64661204e+00  1.13032592e+00  6.77065962e-01  1.86286347e+00\n",
      " -6.28745419e-01 -2.46437058e-01  1.73681115e+00 -4.21551648e-01\n",
      "  1.66246293e+00  7.83115962e-01  6.44609379e-01  4.60059736e-01\n",
      "  2.25693011e-01  1.21524140e+00 -8.57828514e-01 -7.20772724e-02\n",
      " -9.84954217e-02 -1.32920378e+00 -6.71014458e-01 -9.62310089e-02\n",
      "  1.01370867e+00 -8.40468016e-01  1.23637592e+00 -7.37437233e-01\n",
      "  1.92859025e-01 -1.95110368e-01  8.14440339e-01  1.16693393e+00\n",
      " -8.71792393e-01 -3.01856356e-02  9.41247456e-01 -1.17742931e-01\n",
      "  2.79284114e-01 -2.87573891e-01 -3.42297200e-01 -2.37379407e-01\n",
      " -1.51450823e+00 -2.90534292e-02 -5.13637768e-01  6.65743898e-01\n",
      " -6.08365704e-01 -5.30243462e-01 -3.02292574e-01  7.28015250e-01\n",
      "  2.66452441e-01  9.26151370e-01 -7.17812323e-01 -1.99639193e-01\n",
      " -7.17812323e-01  5.65354931e-01  9.07658666e-01 -1.92625395e+00\n",
      " -1.00199613e+00  1.65604710e+00 -1.07332513e+00  4.15795857e-03\n",
      " -1.17742931e-01  1.37110849e+00 -1.44846285e+00  1.21907424e-01\n",
      "  5.77490615e-02  1.35871303e-01 -3.67960545e-01 -1.32542976e+00\n",
      "  4.33641586e-01  1.55565813e+00 -7.05676638e-02 -1.31297549e+00\n",
      " -8.48016059e-01 -9.94070684e-01 -1.31033367e+00 -1.15182478e+00\n",
      "  1.07824443e+00  7.39773532e-02 -6.37803070e-01  1.22052503e+00\n",
      " -1.39632254e-01 -8.23484920e-01  1.10466258e+00  1.69082691e-01\n",
      "  1.04880706e+00 -5.43452537e-01  9.43134466e-01  1.06767717e+00\n",
      "  6.98955286e-01 -4.22625038e-02 -1.18730058e+00  1.49451898e+00\n",
      "  4.81571657e-01  6.40457955e-01  7.01597101e-01  2.14553766e+00\n",
      "  8.41672108e-02  1.05295849e+00  5.78564006e-01  1.34280333e+00\n",
      "  1.06428055e+00  1.02918215e+00 -1.68692219e-01  3.57406355e-01\n",
      "  7.78209734e-01 -1.63031187e-01  2.06445502e-01 -1.62276382e-01\n",
      " -7.14038301e-01  3.03060448e-01  1.39903624e+00  5.81960625e-01\n",
      "  1.11334283e+00  6.51025215e-01 -3.47144612e-02  4.92893721e-01\n",
      "  4.60814540e-01 -6.05723889e-01  1.28323260e-01  1.19643011e-01\n",
      " -7.62723176e-01 -1.11748118e+00  3.90617743e-01 -1.37071801e+00\n",
      " -1.24913571e-01 -1.60011969e-01 -1.24768492e+00 -1.13295467e+00\n",
      " -8.52167482e-01 -1.33297780e+00 -5.20749593e-02 -7.28002180e-01\n",
      " -5.29488658e-01  1.50212584e-01 -8.92926912e-01  1.89720706e+00\n",
      " -8.88775489e-01 -1.25976179e+00 -1.49822112e-01 -7.96689368e-01\n",
      " -2.80403250e-01 -5.14392573e-01 -1.46242673e+00 -1.31750431e+00\n",
      " -8.27636343e-01 -2.08287584e+00 -5.27224245e-01 -3.60412502e-01\n",
      " -8.63112144e-01 -1.96588118e+00 -1.54696481e+00 -3.73998979e-01\n",
      " -1.12087780e+00 -4.29477093e-01 -1.38122646e-01  3.67973615e-01\n",
      "  1.26813652e-01 -6.64598622e-01 -6.76298088e-01 -5.18921398e-01\n",
      " -1.60772655e+00 -1.42695093e+00 -6.52840340e-02 -1.87266285e+00\n",
      " -1.62999328e+00 -1.96242574e-01  2.26070413e-01  6.18191230e-01\n",
      " -4.30986701e-01 -2.40857388e+00 -1.09219524e+00  9.55211335e-01\n",
      "  3.86466320e-01 -6.77052892e-01  3.59293366e-01  2.00088482e-02\n",
      " -6.72901469e-01  3.55141943e-01 -1.27976410e+00 -1.30089862e+00\n",
      " -5.44584743e-01 -1.84888652e+00 -2.69081186e-01 -7.82725489e-01\n",
      " -9.21986877e-01 -5.77359913e-02  4.64211159e-01 -4.18532431e-01\n",
      " -1.99116712e+00 -8.03801193e-02 -1.46997477e+00 -1.21824755e+00\n",
      " -1.50997940e+00 -8.60411513e-02 -5.02315704e-01 -8.52863470e-02\n",
      " -4.07528953e-02 -9.87654848e-01 -1.19145200e+00 -5.93269619e-01\n",
      "  2.33995858e-01  1.72888571e+00  4.38925216e-01  1.60207859e+00\n",
      " -8.83491859e-01 -5.54774601e-01 -1.59187566e+00  1.81218375e-02\n",
      " -2.13225670e-01  2.33241054e-01  1.01597308e+00  1.93721169e+00\n",
      "  1.13874150e-03  3.67973615e-01 -5.41565526e-01]\n"
     ]
    }
   ],
   "source": [
    "diff = scale(np.array(sample_01['cnt']) - np.array(sample_02['cnt'], dtype=np.float))\n",
    "print(diff)"
   ]
  },
  {
   "cell_type": "code",
   "execution_count": 28,
   "metadata": {},
   "outputs": [
    {
     "data": {
      "text/plain": [
       "(array([ 5., 11., 24., 41., 48., 33., 24., 24., 16.,  5.]),\n",
       " array([-2.40857388, -1.92263089, -1.43668791, -0.95074492, -0.46480193,\n",
       "         0.02114105,  0.50708404,  0.99302703,  1.47897002,  1.964913  ,\n",
       "         2.45085599]),\n",
       " <BarContainer object of 10 artists>)"
      ]
     },
     "execution_count": 28,
     "metadata": {},
     "output_type": "execute_result"
    },
    {
     "data": {
      "image/png": "[encoded data removed]",
      "text/plain": [
       "<Figure size 432x288 with 1 Axes>"
      ]
     },
     "metadata": {
      "needs_background": "light"
     },
     "output_type": "display_data"
    }
   ],
   "source": [
    "plt.hist(diff)"
   ]
  },
  {
   "cell_type": "markdown",
   "metadata": {},
   "source": [
    "Generating a probability plot of **sample data** against the quantiles of a **theoretical distribution**"
   ]
  },
  {
   "cell_type": "code",
   "execution_count": 29,
   "metadata": {},
   "outputs": [
    {
     "data": {
      "image/png": "[encoded data removed]",
      "text/plain": [
       "<Figure size 720x576 with 1 Axes>"
      ]
     },
     "metadata": {
      "needs_background": "light"
     },
     "output_type": "display_data"
    }
   ],
   "source": [
    "plt.figure(figsize=(10,8))\n",
    "stats.probplot(diff, plot=plt, dist='norm')\n",
    "plt.show()"
   ]
  },
  {
   "cell_type": "markdown",
   "metadata": {},
   "source": [
    "This shows our data is normalized, although, at two ends the data does not exactly fit the **red line**"
   ]
  },
  {
   "cell_type": "markdown",
   "metadata": {},
   "source": [
    "Another method to check for the normality is to use the Shapiro-Wilk test for normality. \n",
    "- If the test statistic is **not significant** then population is **normally distributed**"
   ]
  },
  {
   "cell_type": "code",
   "execution_count": 30,
   "metadata": {},
   "outputs": [
    {
     "data": {
      "text/plain": [
       "(0.9901477098464966, 0.11814028769731522)"
      ]
     },
     "execution_count": 30,
     "metadata": {},
     "output_type": "execute_result"
    }
   ],
   "source": [
    "stats.shapiro(diff)"
   ]
  },
  {
   "cell_type": "markdown",
   "metadata": {},
   "source": [
    "Here the p-value is 0.31426 i.e., is 31% which means the Shapirop test is not significant and our residual data is normally distributed"
   ]
  },
  {
   "cell_type": "markdown",
   "metadata": {},
   "source": [
    "<h3> Performing an independent T-test</h3"
   ]
  },
  {
   "cell_type": "code",
   "execution_count": 31,
   "metadata": {},
   "outputs": [
    {
     "data": {
      "text/plain": [
       "Ttest_indResult(statistic=1.8750268220631077, pvalue=0.06142235989719987)"
      ]
     },
     "execution_count": 31,
     "metadata": {},
     "output_type": "execute_result"
    }
   ],
   "source": [
    "stats.ttest_ind(sample_01['cnt'], sample_02['cnt'])"
   ]
  },
  {
   "cell_type": "markdown",
   "metadata": {},
   "source": [
    "The p-value here is 0.14587637383743718 (which is > 0.05), so we can accept the null hypothesis (H0) and reject the alternative hypothesis.\n",
    "\n",
    "This illustrates that, whether it is a working day or not, this has no effect on the number of bikes shared."
   ]
  },
  {
   "cell_type": "code",
   "execution_count": 32,
   "metadata": {},
   "outputs": [],
   "source": [
    "descriptives, results = rp.ttest(sample_01['cnt'], sample_02['cnt'])"
   ]
  },
  {
   "cell_type": "markdown",
   "metadata": {},
   "source": [
    "Comparing the number of bikes shared on **working day vs non-working day** for equal number of data "
   ]
  },
  {
   "cell_type": "code",
   "execution_count": 33,
   "metadata": {},
   "outputs": [
    {
     "data": {
      "text/html": [
       "<div>\n",
       "<style scoped>\n",
       "    .dataframe tbody tr th:only-of-type {\n",
       "        vertical-align: middle;\n",
       "    }\n",
       "\n",
       "    .dataframe tbody tr th {\n",
       "        vertical-align: top;\n",
       "    }\n",
       "\n",
       "    .dataframe thead th {\n",
       "        text-align: right;\n",
       "    }\n",
       "</style>\n",
       "<table border=\"1\" class=\"dataframe\">\n",
       "  <thead>\n",
       "    <tr style=\"text-align: right;\">\n",
       "      <th></th>\n",
       "      <th>Variable</th>\n",
       "      <th>N</th>\n",
       "      <th>Mean</th>\n",
       "      <th>SD</th>\n",
       "      <th>SE</th>\n",
       "      <th>95% Conf.</th>\n",
       "      <th>Interval</th>\n",
       "    </tr>\n",
       "  </thead>\n",
       "  <tbody>\n",
       "    <tr>\n",
       "      <th>0</th>\n",
       "      <td>cnt</td>\n",
       "      <td>231.0</td>\n",
       "      <td>4674.151515</td>\n",
       "      <td>1887.637469</td>\n",
       "      <td>124.197427</td>\n",
       "      <td>4429.441378</td>\n",
       "      <td>4918.861652</td>\n",
       "    </tr>\n",
       "    <tr>\n",
       "      <th>1</th>\n",
       "      <td>cnt</td>\n",
       "      <td>231.0</td>\n",
       "      <td>4330.168831</td>\n",
       "      <td>2052.141245</td>\n",
       "      <td>135.020981</td>\n",
       "      <td>4064.132702</td>\n",
       "      <td>4596.204960</td>\n",
       "    </tr>\n",
       "    <tr>\n",
       "      <th>2</th>\n",
       "      <td>combined</td>\n",
       "      <td>462.0</td>\n",
       "      <td>4502.160173</td>\n",
       "      <td>1976.978117</td>\n",
       "      <td>91.977346</td>\n",
       "      <td>4321.413355</td>\n",
       "      <td>4682.906991</td>\n",
       "    </tr>\n",
       "  </tbody>\n",
       "</table>\n",
       "</div>"
      ],
      "text/plain": [
       "   Variable      N         Mean           SD          SE    95% Conf.  \\\n",
       "0       cnt  231.0  4674.151515  1887.637469  124.197427  4429.441378   \n",
       "1       cnt  231.0  4330.168831  2052.141245  135.020981  4064.132702   \n",
       "2  combined  462.0  4502.160173  1976.978117   91.977346  4321.413355   \n",
       "\n",
       "      Interval  \n",
       "0  4918.861652  \n",
       "1  4596.204960  \n",
       "2  4682.906991  "
      ]
     },
     "execution_count": 33,
     "metadata": {},
     "output_type": "execute_result"
    }
   ],
   "source": [
    "descriptives"
   ]
  },
  {
   "cell_type": "code",
   "execution_count": 34,
   "metadata": {},
   "outputs": [
    {
     "name": "stdout",
     "output_type": "stream",
     "text": [
      "          Independent t-test   results\n",
      "0  Difference (cnt - cnt) =   343.9827\n",
      "1      Degrees of freedom =   460.0000\n",
      "2                       t =     1.8750\n",
      "3   Two side test p value =     0.0614\n",
      "4  Difference < 0 p value =     0.9693\n",
      "5  Difference > 0 p value =     0.0307\n",
      "6               Cohen's d =     0.1745\n",
      "7               Hedge's g =     0.1742\n",
      "8           Glass's delta =     0.1822\n",
      "9             Pearson's r =     0.0871\n"
     ]
    }
   ],
   "source": [
    "print(results)"
   ]
  },
  {
   "cell_type": "markdown",
   "metadata": {},
   "source": [
    "Therefore, the number of bikes shared is not impacted by working day or not working day."
   ]
  },
  {
   "cell_type": "code",
   "execution_count": 35,
   "metadata": {},
   "outputs": [
    {
     "data": {
      "text/html": [
       "<div>\n",
       "<style scoped>\n",
       "    .dataframe tbody tr th:only-of-type {\n",
       "        vertical-align: middle;\n",
       "    }\n",
       "\n",
       "    .dataframe tbody tr th {\n",
       "        vertical-align: top;\n",
       "    }\n",
       "\n",
       "    .dataframe thead th {\n",
       "        text-align: right;\n",
       "    }\n",
       "</style>\n",
       "<table border=\"1\" class=\"dataframe\">\n",
       "  <thead>\n",
       "    <tr style=\"text-align: right;\">\n",
       "      <th></th>\n",
       "      <th>season</th>\n",
       "      <th>mnth</th>\n",
       "      <th>holiday</th>\n",
       "      <th>workingday</th>\n",
       "      <th>weathersit</th>\n",
       "      <th>temp</th>\n",
       "      <th>cnt</th>\n",
       "    </tr>\n",
       "  </thead>\n",
       "  <tbody>\n",
       "    <tr>\n",
       "      <th>0</th>\n",
       "      <td>1</td>\n",
       "      <td>1</td>\n",
       "      <td>0</td>\n",
       "      <td>0</td>\n",
       "      <td>2</td>\n",
       "      <td>0.344167</td>\n",
       "      <td>985</td>\n",
       "    </tr>\n",
       "    <tr>\n",
       "      <th>1</th>\n",
       "      <td>1</td>\n",
       "      <td>1</td>\n",
       "      <td>0</td>\n",
       "      <td>0</td>\n",
       "      <td>2</td>\n",
       "      <td>0.363478</td>\n",
       "      <td>801</td>\n",
       "    </tr>\n",
       "    <tr>\n",
       "      <th>2</th>\n",
       "      <td>1</td>\n",
       "      <td>1</td>\n",
       "      <td>0</td>\n",
       "      <td>1</td>\n",
       "      <td>1</td>\n",
       "      <td>0.196364</td>\n",
       "      <td>1349</td>\n",
       "    </tr>\n",
       "    <tr>\n",
       "      <th>3</th>\n",
       "      <td>1</td>\n",
       "      <td>1</td>\n",
       "      <td>0</td>\n",
       "      <td>1</td>\n",
       "      <td>1</td>\n",
       "      <td>0.200000</td>\n",
       "      <td>1562</td>\n",
       "    </tr>\n",
       "    <tr>\n",
       "      <th>4</th>\n",
       "      <td>1</td>\n",
       "      <td>1</td>\n",
       "      <td>0</td>\n",
       "      <td>1</td>\n",
       "      <td>1</td>\n",
       "      <td>0.226957</td>\n",
       "      <td>1600</td>\n",
       "    </tr>\n",
       "  </tbody>\n",
       "</table>\n",
       "</div>"
      ],
      "text/plain": [
       "   season  mnth  holiday  workingday  weathersit      temp   cnt\n",
       "0       1     1        0           0           2  0.344167   985\n",
       "1       1     1        0           0           2  0.363478   801\n",
       "2       1     1        0           1           1  0.196364  1349\n",
       "3       1     1        0           1           1  0.200000  1562\n",
       "4       1     1        0           1           1  0.226957  1600"
      ]
     },
     "execution_count": 35,
     "metadata": {},
     "output_type": "execute_result"
    }
   ],
   "source": [
    "bike_sharing_data_cols.head()"
   ]
  },
  {
   "cell_type": "markdown",
   "metadata": {},
   "source": [
    "Box plot visualization of 'temp' column. "
   ]
  },
  {
   "cell_type": "code",
   "execution_count": 36,
   "metadata": {},
   "outputs": [
    {
     "data": {
      "text/plain": [
       "<AxesSubplot:>"
      ]
     },
     "execution_count": 36,
     "metadata": {},
     "output_type": "execute_result"
    },
    {
     "data": {
      "image/png": "[encoded data removed]",
      "text/plain": [
       "<Figure size 864x576 with 1 Axes>"
      ]
     },
     "metadata": {
      "needs_background": "light"
     },
     "output_type": "display_data"
    }
   ],
   "source": [
    "bike_sharing_data_cols[['temp']].boxplot(figsize=(12, 8))"
   ]
  },
  {
   "cell_type": "markdown",
   "metadata": {},
   "source": [
    "The median temperature is around 0.5 and the minimum and maximum temperature are in the range 0 to 1."
   ]
  },
  {
   "cell_type": "markdown",
   "metadata": {},
   "source": [
    "Now creating a category one for temperature above the median and one below the median temperature."
   ]
  },
  {
   "cell_type": "code",
   "execution_count": 39,
   "metadata": {},
   "outputs": [
    {
     "data": {
      "text/plain": [
       "0.49833299999999997"
      ]
     },
     "execution_count": 39,
     "metadata": {},
     "output_type": "execute_result"
    }
   ],
   "source": [
    "bike_sharing_data_cols['temp'].median()"
   ]
  },
  {
   "cell_type": "code",
   "execution_count": 40,
   "metadata": {},
   "outputs": [
    {
     "name": "stderr",
     "output_type": "stream",
     "text": [
      "<ipython-input-40-5e2bedd4235c>:1: SettingWithCopyWarning: \n",
      "A value is trying to be set on a copy of a slice from a DataFrame.\n",
      "Try using .loc[row_indexer,col_indexer] = value instead\n",
      "\n",
      "See the caveats in the documentation: https://pandas.pydata.org/pandas-docs/stable/user_guide/indexing.html#returning-a-view-versus-a-copy\n",
      "  bike_sharing_data_cols['temp_category'] = bike_sharing_data_cols['temp'] > bike_sharing_data_cols['temp'].median()\n"
     ]
    }
   ],
   "source": [
    "bike_sharing_data_cols['temp_category'] = bike_sharing_data_cols['temp'] > bike_sharing_data_cols['temp'].median()"
   ]
  },
  {
   "cell_type": "code",
   "execution_count": 41,
   "metadata": {},
   "outputs": [
    {
     "data": {
      "text/html": [
       "<div>\n",
       "<style scoped>\n",
       "    .dataframe tbody tr th:only-of-type {\n",
       "        vertical-align: middle;\n",
       "    }\n",
       "\n",
       "    .dataframe tbody tr th {\n",
       "        vertical-align: top;\n",
       "    }\n",
       "\n",
       "    .dataframe thead th {\n",
       "        text-align: right;\n",
       "    }\n",
       "</style>\n",
       "<table border=\"1\" class=\"dataframe\">\n",
       "  <thead>\n",
       "    <tr style=\"text-align: right;\">\n",
       "      <th></th>\n",
       "      <th>season</th>\n",
       "      <th>mnth</th>\n",
       "      <th>holiday</th>\n",
       "      <th>workingday</th>\n",
       "      <th>weathersit</th>\n",
       "      <th>temp</th>\n",
       "      <th>cnt</th>\n",
       "      <th>temp_category</th>\n",
       "    </tr>\n",
       "  </thead>\n",
       "  <tbody>\n",
       "    <tr>\n",
       "      <th>0</th>\n",
       "      <td>1</td>\n",
       "      <td>1</td>\n",
       "      <td>0</td>\n",
       "      <td>0</td>\n",
       "      <td>2</td>\n",
       "      <td>0.344167</td>\n",
       "      <td>985</td>\n",
       "      <td>False</td>\n",
       "    </tr>\n",
       "    <tr>\n",
       "      <th>1</th>\n",
       "      <td>1</td>\n",
       "      <td>1</td>\n",
       "      <td>0</td>\n",
       "      <td>0</td>\n",
       "      <td>2</td>\n",
       "      <td>0.363478</td>\n",
       "      <td>801</td>\n",
       "      <td>False</td>\n",
       "    </tr>\n",
       "    <tr>\n",
       "      <th>2</th>\n",
       "      <td>1</td>\n",
       "      <td>1</td>\n",
       "      <td>0</td>\n",
       "      <td>1</td>\n",
       "      <td>1</td>\n",
       "      <td>0.196364</td>\n",
       "      <td>1349</td>\n",
       "      <td>False</td>\n",
       "    </tr>\n",
       "    <tr>\n",
       "      <th>3</th>\n",
       "      <td>1</td>\n",
       "      <td>1</td>\n",
       "      <td>0</td>\n",
       "      <td>1</td>\n",
       "      <td>1</td>\n",
       "      <td>0.200000</td>\n",
       "      <td>1562</td>\n",
       "      <td>False</td>\n",
       "    </tr>\n",
       "    <tr>\n",
       "      <th>4</th>\n",
       "      <td>1</td>\n",
       "      <td>1</td>\n",
       "      <td>0</td>\n",
       "      <td>1</td>\n",
       "      <td>1</td>\n",
       "      <td>0.226957</td>\n",
       "      <td>1600</td>\n",
       "      <td>False</td>\n",
       "    </tr>\n",
       "    <tr>\n",
       "      <th>...</th>\n",
       "      <td>...</td>\n",
       "      <td>...</td>\n",
       "      <td>...</td>\n",
       "      <td>...</td>\n",
       "      <td>...</td>\n",
       "      <td>...</td>\n",
       "      <td>...</td>\n",
       "      <td>...</td>\n",
       "    </tr>\n",
       "    <tr>\n",
       "      <th>726</th>\n",
       "      <td>1</td>\n",
       "      <td>12</td>\n",
       "      <td>0</td>\n",
       "      <td>1</td>\n",
       "      <td>2</td>\n",
       "      <td>0.254167</td>\n",
       "      <td>2114</td>\n",
       "      <td>False</td>\n",
       "    </tr>\n",
       "    <tr>\n",
       "      <th>727</th>\n",
       "      <td>1</td>\n",
       "      <td>12</td>\n",
       "      <td>0</td>\n",
       "      <td>1</td>\n",
       "      <td>2</td>\n",
       "      <td>0.253333</td>\n",
       "      <td>3095</td>\n",
       "      <td>False</td>\n",
       "    </tr>\n",
       "    <tr>\n",
       "      <th>728</th>\n",
       "      <td>1</td>\n",
       "      <td>12</td>\n",
       "      <td>0</td>\n",
       "      <td>0</td>\n",
       "      <td>2</td>\n",
       "      <td>0.253333</td>\n",
       "      <td>1341</td>\n",
       "      <td>False</td>\n",
       "    </tr>\n",
       "    <tr>\n",
       "      <th>729</th>\n",
       "      <td>1</td>\n",
       "      <td>12</td>\n",
       "      <td>0</td>\n",
       "      <td>0</td>\n",
       "      <td>1</td>\n",
       "      <td>0.255833</td>\n",
       "      <td>1796</td>\n",
       "      <td>False</td>\n",
       "    </tr>\n",
       "    <tr>\n",
       "      <th>730</th>\n",
       "      <td>1</td>\n",
       "      <td>12</td>\n",
       "      <td>0</td>\n",
       "      <td>1</td>\n",
       "      <td>2</td>\n",
       "      <td>0.215833</td>\n",
       "      <td>2729</td>\n",
       "      <td>False</td>\n",
       "    </tr>\n",
       "  </tbody>\n",
       "</table>\n",
       "<p>731 rows × 8 columns</p>\n",
       "</div>"
      ],
      "text/plain": [
       "     season  mnth  holiday  workingday  weathersit      temp   cnt  \\\n",
       "0         1     1        0           0           2  0.344167   985   \n",
       "1         1     1        0           0           2  0.363478   801   \n",
       "2         1     1        0           1           1  0.196364  1349   \n",
       "3         1     1        0           1           1  0.200000  1562   \n",
       "4         1     1        0           1           1  0.226957  1600   \n",
       "..      ...   ...      ...         ...         ...       ...   ...   \n",
       "726       1    12        0           1           2  0.254167  2114   \n",
       "727       1    12        0           1           2  0.253333  3095   \n",
       "728       1    12        0           0           2  0.253333  1341   \n",
       "729       1    12        0           0           1  0.255833  1796   \n",
       "730       1    12        0           1           2  0.215833  2729   \n",
       "\n",
       "     temp_category  \n",
       "0            False  \n",
       "1            False  \n",
       "2            False  \n",
       "3            False  \n",
       "4            False  \n",
       "..             ...  \n",
       "726          False  \n",
       "727          False  \n",
       "728          False  \n",
       "729          False  \n",
       "730          False  \n",
       "\n",
       "[731 rows x 8 columns]"
      ]
     },
     "execution_count": 41,
     "metadata": {},
     "output_type": "execute_result"
    }
   ],
   "source": [
    "bike_sharing_data_cols"
   ]
  },
  {
   "cell_type": "code",
   "execution_count": 42,
   "metadata": {},
   "outputs": [
    {
     "data": {
      "text/plain": [
       "Index(['season', 'mnth', 'holiday', 'workingday', 'weathersit', 'temp', 'cnt',\n",
       "       'temp_category'],\n",
       "      dtype='object')"
      ]
     },
     "execution_count": 42,
     "metadata": {},
     "output_type": "execute_result"
    }
   ],
   "source": [
    "bike_sharing_data_cols.columns"
   ]
  },
  {
   "cell_type": "code",
   "execution_count": 43,
   "metadata": {},
   "outputs": [
    {
     "data": {
      "text/html": [
       "<div>\n",
       "<style scoped>\n",
       "    .dataframe tbody tr th:only-of-type {\n",
       "        vertical-align: middle;\n",
       "    }\n",
       "\n",
       "    .dataframe tbody tr th {\n",
       "        vertical-align: top;\n",
       "    }\n",
       "\n",
       "    .dataframe thead th {\n",
       "        text-align: right;\n",
       "    }\n",
       "</style>\n",
       "<table border=\"1\" class=\"dataframe\">\n",
       "  <thead>\n",
       "    <tr style=\"text-align: right;\">\n",
       "      <th></th>\n",
       "      <th>count</th>\n",
       "      <th>mean</th>\n",
       "      <th>std</th>\n",
       "      <th>min</th>\n",
       "      <th>25%</th>\n",
       "      <th>50%</th>\n",
       "      <th>75%</th>\n",
       "      <th>max</th>\n",
       "    </tr>\n",
       "    <tr>\n",
       "      <th>temp_category</th>\n",
       "      <th></th>\n",
       "      <th></th>\n",
       "      <th></th>\n",
       "      <th></th>\n",
       "      <th></th>\n",
       "      <th></th>\n",
       "      <th></th>\n",
       "      <th></th>\n",
       "    </tr>\n",
       "  </thead>\n",
       "  <tbody>\n",
       "    <tr>\n",
       "      <th>False</th>\n",
       "      <td>366.0</td>\n",
       "      <td>3400.822404</td>\n",
       "      <td>1696.99610</td>\n",
       "      <td>22.0</td>\n",
       "      <td>1971.0</td>\n",
       "      <td>3316.0</td>\n",
       "      <td>4557.0</td>\n",
       "      <td>8090.0</td>\n",
       "    </tr>\n",
       "    <tr>\n",
       "      <th>True</th>\n",
       "      <td>365.0</td>\n",
       "      <td>5610.898630</td>\n",
       "      <td>1478.58408</td>\n",
       "      <td>1115.0</td>\n",
       "      <td>4548.0</td>\n",
       "      <td>5336.0</td>\n",
       "      <td>6904.0</td>\n",
       "      <td>8714.0</td>\n",
       "    </tr>\n",
       "  </tbody>\n",
       "</table>\n",
       "</div>"
      ],
      "text/plain": [
       "               count         mean         std     min     25%     50%     75%  \\\n",
       "temp_category                                                                   \n",
       "False          366.0  3400.822404  1696.99610    22.0  1971.0  3316.0  4557.0   \n",
       "True           365.0  5610.898630  1478.58408  1115.0  4548.0  5336.0  6904.0   \n",
       "\n",
       "                  max  \n",
       "temp_category          \n",
       "False          8090.0  \n",
       "True           8714.0  "
      ]
     },
     "execution_count": 43,
     "metadata": {},
     "output_type": "execute_result"
    }
   ],
   "source": [
    "bike_sharing_data_cols.groupby('temp_category')['cnt'].describe()"
   ]
  },
  {
   "cell_type": "code",
   "execution_count": 44,
   "metadata": {},
   "outputs": [
    {
     "data": {
      "text/html": [
       "<div>\n",
       "<style scoped>\n",
       "    .dataframe tbody tr th:only-of-type {\n",
       "        vertical-align: middle;\n",
       "    }\n",
       "\n",
       "    .dataframe tbody tr th {\n",
       "        vertical-align: top;\n",
       "    }\n",
       "\n",
       "    .dataframe thead th {\n",
       "        text-align: right;\n",
       "    }\n",
       "</style>\n",
       "<table border=\"1\" class=\"dataframe\">\n",
       "  <thead>\n",
       "    <tr style=\"text-align: right;\">\n",
       "      <th></th>\n",
       "      <th>season</th>\n",
       "      <th>mnth</th>\n",
       "      <th>holiday</th>\n",
       "      <th>workingday</th>\n",
       "      <th>weathersit</th>\n",
       "      <th>temp</th>\n",
       "      <th>cnt</th>\n",
       "      <th>temp_category</th>\n",
       "    </tr>\n",
       "  </thead>\n",
       "  <tbody>\n",
       "    <tr>\n",
       "      <th>601</th>\n",
       "      <td>3</td>\n",
       "      <td>8</td>\n",
       "      <td>0</td>\n",
       "      <td>1</td>\n",
       "      <td>2</td>\n",
       "      <td>0.702500</td>\n",
       "      <td>7582</td>\n",
       "      <td>True</td>\n",
       "    </tr>\n",
       "    <tr>\n",
       "      <th>449</th>\n",
       "      <td>2</td>\n",
       "      <td>3</td>\n",
       "      <td>0</td>\n",
       "      <td>0</td>\n",
       "      <td>2</td>\n",
       "      <td>0.437500</td>\n",
       "      <td>4996</td>\n",
       "      <td>False</td>\n",
       "    </tr>\n",
       "    <tr>\n",
       "      <th>118</th>\n",
       "      <td>2</td>\n",
       "      <td>4</td>\n",
       "      <td>0</td>\n",
       "      <td>1</td>\n",
       "      <td>1</td>\n",
       "      <td>0.510000</td>\n",
       "      <td>4595</td>\n",
       "      <td>True</td>\n",
       "    </tr>\n",
       "    <tr>\n",
       "      <th>591</th>\n",
       "      <td>3</td>\n",
       "      <td>8</td>\n",
       "      <td>0</td>\n",
       "      <td>1</td>\n",
       "      <td>1</td>\n",
       "      <td>0.726667</td>\n",
       "      <td>6784</td>\n",
       "      <td>True</td>\n",
       "    </tr>\n",
       "    <tr>\n",
       "      <th>288</th>\n",
       "      <td>4</td>\n",
       "      <td>10</td>\n",
       "      <td>0</td>\n",
       "      <td>0</td>\n",
       "      <td>1</td>\n",
       "      <td>0.511667</td>\n",
       "      <td>5041</td>\n",
       "      <td>True</td>\n",
       "    </tr>\n",
       "    <tr>\n",
       "      <th>86</th>\n",
       "      <td>2</td>\n",
       "      <td>3</td>\n",
       "      <td>0</td>\n",
       "      <td>1</td>\n",
       "      <td>1</td>\n",
       "      <td>0.264348</td>\n",
       "      <td>2028</td>\n",
       "      <td>False</td>\n",
       "    </tr>\n",
       "    <tr>\n",
       "      <th>159</th>\n",
       "      <td>2</td>\n",
       "      <td>6</td>\n",
       "      <td>0</td>\n",
       "      <td>1</td>\n",
       "      <td>2</td>\n",
       "      <td>0.808333</td>\n",
       "      <td>3915</td>\n",
       "      <td>True</td>\n",
       "    </tr>\n",
       "    <tr>\n",
       "      <th>416</th>\n",
       "      <td>1</td>\n",
       "      <td>2</td>\n",
       "      <td>0</td>\n",
       "      <td>1</td>\n",
       "      <td>1</td>\n",
       "      <td>0.287826</td>\n",
       "      <td>3777</td>\n",
       "      <td>False</td>\n",
       "    </tr>\n",
       "    <tr>\n",
       "      <th>128</th>\n",
       "      <td>2</td>\n",
       "      <td>5</td>\n",
       "      <td>0</td>\n",
       "      <td>1</td>\n",
       "      <td>1</td>\n",
       "      <td>0.532500</td>\n",
       "      <td>4362</td>\n",
       "      <td>True</td>\n",
       "    </tr>\n",
       "    <tr>\n",
       "      <th>681</th>\n",
       "      <td>4</td>\n",
       "      <td>11</td>\n",
       "      <td>1</td>\n",
       "      <td>0</td>\n",
       "      <td>1</td>\n",
       "      <td>0.485000</td>\n",
       "      <td>6269</td>\n",
       "      <td>False</td>\n",
       "    </tr>\n",
       "  </tbody>\n",
       "</table>\n",
       "</div>"
      ],
      "text/plain": [
       "     season  mnth  holiday  workingday  weathersit      temp   cnt  \\\n",
       "601       3     8        0           1           2  0.702500  7582   \n",
       "449       2     3        0           0           2  0.437500  4996   \n",
       "118       2     4        0           1           1  0.510000  4595   \n",
       "591       3     8        0           1           1  0.726667  6784   \n",
       "288       4    10        0           0           1  0.511667  5041   \n",
       "86        2     3        0           1           1  0.264348  2028   \n",
       "159       2     6        0           1           2  0.808333  3915   \n",
       "416       1     2        0           1           1  0.287826  3777   \n",
       "128       2     5        0           1           1  0.532500  4362   \n",
       "681       4    11        1           0           1  0.485000  6269   \n",
       "\n",
       "     temp_category  \n",
       "601           True  \n",
       "449          False  \n",
       "118           True  \n",
       "591           True  \n",
       "288           True  \n",
       "86           False  \n",
       "159           True  \n",
       "416          False  \n",
       "128           True  \n",
       "681          False  "
      ]
     },
     "execution_count": 44,
     "metadata": {},
     "output_type": "execute_result"
    }
   ],
   "source": [
    "bike_sharing_data_cols.sample(10)"
   ]
  },
  {
   "cell_type": "markdown",
   "metadata": {},
   "source": [
    "<h4> Boxplot visualization of number of bikes rentals with the temperature </h4>"
   ]
  },
  {
   "cell_type": "code",
   "execution_count": 46,
   "metadata": {},
   "outputs": [
    {
     "data": {
      "text/plain": [
       "<AxesSubplot:title={'center':'cnt'}, xlabel='temp_category'>"
      ]
     },
     "execution_count": 46,
     "metadata": {},
     "output_type": "execute_result"
    },
    {
     "data": {
      "image/png": "[encoded data removed]",
      "text/plain": [
       "<Figure size 864x576 with 1 Axes>"
      ]
     },
     "metadata": {
      "needs_background": "light"
     },
     "output_type": "display_data"
    }
   ],
   "source": [
    "bike_sharing_data_cols.boxplot(column=['cnt'], by='temp_category', figsize=(12, 8))"
   ]
  },
  {
   "cell_type": "markdown",
   "metadata": {},
   "source": [
    "<h4> Splitting our dataset into two samples </h4>"
   ]
  },
  {
   "cell_type": "code",
   "execution_count": 53,
   "metadata": {},
   "outputs": [],
   "source": [
    "## Days that were warm\n",
    "sample_01 = bike_sharing_data_cols[(bike_sharing_data_cols['temp_category'] == True)]"
   ]
  },
  {
   "cell_type": "code",
   "execution_count": 54,
   "metadata": {},
   "outputs": [],
   "source": [
    "## Days that were cooler\n",
    "sample_02 = bike_sharing_data_cols[(bike_sharing_data_cols['temp_category'] == False)]"
   ]
  },
  {
   "cell_type": "markdown",
   "metadata": {},
   "source": [
    "Checking if the number of samples in both data set have same number of data or not. For T-test their numbers have to be same. Otherwise we'll drop some data and make it same"
   ]
  },
  {
   "cell_type": "code",
   "execution_count": 55,
   "metadata": {},
   "outputs": [
    {
     "data": {
      "text/plain": [
       "((365, 8), (366, 8))"
      ]
     },
     "execution_count": 55,
     "metadata": {},
     "output_type": "execute_result"
    }
   ],
   "source": [
    "sample_01.shape, sample_02.shape"
   ]
  },
  {
   "cell_type": "code",
   "execution_count": 56,
   "metadata": {},
   "outputs": [
    {
     "data": {
      "text/plain": [
       "((365, 8), (365, 8))"
      ]
     },
     "execution_count": 56,
     "metadata": {},
     "output_type": "execute_result"
    }
   ],
   "source": [
    "sample_02 = sample_02.sample(365)\n",
    "sample_01.shape, sample_02.shape"
   ]
  },
  {
   "cell_type": "markdown",
   "metadata": {},
   "source": [
    "**Testing the assumptions**\n",
    "\n",
    "Running Levene's test to see if there's a significant difference of the variances between these two samples of data "
   ]
  },
  {
   "cell_type": "code",
   "execution_count": 57,
   "metadata": {},
   "outputs": [
    {
     "data": {
      "text/plain": [
       "LeveneResult(statistic=4.711899226737707, pvalue=0.030277035939752086)"
      ]
     },
     "execution_count": 57,
     "metadata": {},
     "output_type": "execute_result"
    }
   ],
   "source": [
    "stats.levene(sample_01['cnt'], sample_02['cnt'])"
   ]
  },
  {
   "cell_type": "markdown",
   "metadata": {},
   "source": [
    "This shows that Levene's test is significant, i.e., the variances between these two samples are different. This means that we reject Null hypothesis and accept the alternative hypothesis. So if we run independent T-test on these two samples, we can't rely on the result."
   ]
  },
  {
   "cell_type": "code",
   "execution_count": 59,
   "metadata": {},
   "outputs": [
    {
     "data": {
      "text/plain": [
       "(array([ 8., 10., 25., 38., 64., 70., 48., 55., 30., 17.]),\n",
       " array([-2.67277258, -2.1920586 , -1.71134462, -1.23063064, -0.74991666,\n",
       "        -0.26920268,  0.21151129,  0.69222527,  1.17293925,  1.65365323,\n",
       "         2.13436721]),\n",
       " <BarContainer object of 10 artists>)"
      ]
     },
     "execution_count": 59,
     "metadata": {},
     "output_type": "execute_result"
    },
    {
     "data": {
      "image/png": "[encoded data removed]",
      "text/plain": [
       "<Figure size 432x288 with 1 Axes>"
      ]
     },
     "metadata": {
      "needs_background": "light"
     },
     "output_type": "display_data"
    }
   ],
   "source": [
    "diff = scale(np.array(sample_01['cnt']) - np.array(sample_02['cnt']))\n",
    "plt.hist(diff)"
   ]
  },
  {
   "cell_type": "code",
   "execution_count": 60,
   "metadata": {},
   "outputs": [
    {
     "data": {
      "image/png": "[encoded data removed]",
      "text/plain": [
       "<Figure size 864x576 with 1 Axes>"
      ]
     },
     "metadata": {
      "needs_background": "light"
     },
     "output_type": "display_data"
    }
   ],
   "source": [
    "plt.figure(figsize=(12, 8))\n",
    "stats.probplot(diff, plot=plt)\n",
    "plt.show()"
   ]
  },
  {
   "cell_type": "markdown",
   "metadata": {},
   "source": [
    "This shows that the residuals between the two groups are normally distributed"
   ]
  },
  {
   "cell_type": "markdown",
   "metadata": {},
   "source": [
    "Again, using Shapiro test for normality"
   ]
  },
  {
   "cell_type": "code",
   "execution_count": 61,
   "metadata": {},
   "outputs": [
    {
     "data": {
      "text/plain": [
       "(0.9915180206298828, 0.034738507121801376)"
      ]
     },
     "execution_count": 61,
     "metadata": {},
     "output_type": "execute_result"
    }
   ],
   "source": [
    "stats.shapiro(diff)"
   ]
  },
  {
   "cell_type": "markdown",
   "metadata": {},
   "source": [
    "<h4>Performing the T-test</h4>"
   ]
  },
  {
   "cell_type": "code",
   "execution_count": 62,
   "metadata": {},
   "outputs": [
    {
     "data": {
      "text/plain": [
       "Ttest_indResult(statistic=18.719173097585546, pvalue=3.948733767840886e-64)"
      ]
     },
     "execution_count": 62,
     "metadata": {},
     "output_type": "execute_result"
    }
   ],
   "source": [
    "stats.ttest_ind(sample_01['cnt'], sample_02['cnt'])"
   ]
  },
  {
   "cell_type": "markdown",
   "metadata": {},
   "source": [
    "The P-value is found to be really really tiny."
   ]
  },
  {
   "cell_type": "markdown",
   "metadata": {},
   "source": [
    "**T-test using the researchpy library**"
   ]
  },
  {
   "cell_type": "code",
   "execution_count": 64,
   "metadata": {},
   "outputs": [],
   "source": [
    "descriptives, results = rp.ttest(sample_01['cnt'], sample_02['cnt'], equal_variances=False)"
   ]
  },
  {
   "cell_type": "code",
   "execution_count": 65,
   "metadata": {},
   "outputs": [
    {
     "data": {
      "text/html": [
       "<div>\n",
       "<style scoped>\n",
       "    .dataframe tbody tr th:only-of-type {\n",
       "        vertical-align: middle;\n",
       "    }\n",
       "\n",
       "    .dataframe tbody tr th {\n",
       "        vertical-align: top;\n",
       "    }\n",
       "\n",
       "    .dataframe thead th {\n",
       "        text-align: right;\n",
       "    }\n",
       "</style>\n",
       "<table border=\"1\" class=\"dataframe\">\n",
       "  <thead>\n",
       "    <tr style=\"text-align: right;\">\n",
       "      <th></th>\n",
       "      <th>Variable</th>\n",
       "      <th>N</th>\n",
       "      <th>Mean</th>\n",
       "      <th>SD</th>\n",
       "      <th>SE</th>\n",
       "      <th>95% Conf.</th>\n",
       "      <th>Interval</th>\n",
       "    </tr>\n",
       "  </thead>\n",
       "  <tbody>\n",
       "    <tr>\n",
       "      <th>0</th>\n",
       "      <td>cnt</td>\n",
       "      <td>365.0</td>\n",
       "      <td>5610.898630</td>\n",
       "      <td>1478.584080</td>\n",
       "      <td>77.392628</td>\n",
       "      <td>5458.705829</td>\n",
       "      <td>5763.091432</td>\n",
       "    </tr>\n",
       "    <tr>\n",
       "      <th>1</th>\n",
       "      <td>cnt</td>\n",
       "      <td>365.0</td>\n",
       "      <td>3408.208219</td>\n",
       "      <td>1693.424650</td>\n",
       "      <td>88.637897</td>\n",
       "      <td>3233.901566</td>\n",
       "      <td>3582.514872</td>\n",
       "    </tr>\n",
       "    <tr>\n",
       "      <th>2</th>\n",
       "      <td>combined</td>\n",
       "      <td>730.0</td>\n",
       "      <td>4509.553425</td>\n",
       "      <td>1933.418675</td>\n",
       "      <td>71.559036</td>\n",
       "      <td>4369.067048</td>\n",
       "      <td>4650.039801</td>\n",
       "    </tr>\n",
       "  </tbody>\n",
       "</table>\n",
       "</div>"
      ],
      "text/plain": [
       "   Variable      N         Mean           SD         SE    95% Conf.  \\\n",
       "0       cnt  365.0  5610.898630  1478.584080  77.392628  5458.705829   \n",
       "1       cnt  365.0  3408.208219  1693.424650  88.637897  3233.901566   \n",
       "2  combined  730.0  4509.553425  1933.418675  71.559036  4369.067048   \n",
       "\n",
       "      Interval  \n",
       "0  5763.091432  \n",
       "1  3582.514872  \n",
       "2  4650.039801  "
      ]
     },
     "execution_count": 65,
     "metadata": {},
     "output_type": "execute_result"
    }
   ],
   "source": [
    "descriptives"
   ]
  },
  {
   "cell_type": "markdown",
   "metadata": {},
   "source": [
    "<h4> Checking for the significance </h4>"
   ]
  },
  {
   "cell_type": "code",
   "execution_count": 66,
   "metadata": {},
   "outputs": [
    {
     "name": "stdout",
     "output_type": "stream",
     "text": [
      "              Welch's t-test    results\n",
      "0  Difference (cnt - cnt) =   2202.6904\n",
      "1      Degrees of freedom =    716.9282\n",
      "2                       t =     18.7192\n",
      "3   Two side test p value =      0.0000\n",
      "4  Difference < 0 p value =      1.0000\n",
      "5  Difference > 0 p value =      0.0000\n",
      "6               Cohen's d =      1.3857\n",
      "7               Hedge's g =      1.3842\n",
      "8           Glass's delta =      1.4897\n",
      "9             Pearson's r =      0.5730\n"
     ]
    }
   ],
   "source": [
    "print(results)"
   ]
  },
  {
   "cell_type": "markdown",
   "metadata": {},
   "source": [
    "**Conclusion**\n",
    "\n",
    "P-value is almost 0 and the test is significant. Thererfore, we can conclude that, whether it's a hot day or cooler day, this has a significant impact on the number of bikes rented."
   ]
  },
  {
   "cell_type": "code",
   "execution_count": null,
   "metadata": {},
   "outputs": [],
   "source": []
  }
 ],
 "metadata": {
  "kernelspec": {
   "display_name": "Python 3",
   "language": "python",
   "name": "python3"
  },
  "language_info": {
   "codemirror_mode": {
    "name": "ipython",
    "version": 3
   },
   "file_extension": ".py",
   "mimetype": "text/x-python",
   "name": "python",
   "nbconvert_exporter": "python",
   "pygments_lexer": "ipython3",
   "version": "3.8.8"
  }
 },
 "nbformat": 4,
 "nbformat_minor": 4
}
