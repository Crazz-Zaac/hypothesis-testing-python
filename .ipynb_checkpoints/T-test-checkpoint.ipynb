{
 "cells": [
  {
   "cell_type": "code",
   "execution_count": 1,
   "metadata": {},
   "outputs": [],
   "source": [
    "import statsmodels.api as sm\n",
    "import matplotlib.pyplot as plt\n",
    "import pandas as pd \n",
    "import numpy as np\n",
    "from sklearn.preprocessing import scale\n",
    "\n",
    "import researchpy as rp\n",
    "from scipy import stats"
   ]
  },
  {
   "cell_type": "code",
   "execution_count": 2,
   "metadata": {},
   "outputs": [
    {
     "data": {
      "text/html": [
       "<div>\n",
       "<style scoped>\n",
       "    .dataframe tbody tr th:only-of-type {\n",
       "        vertical-align: middle;\n",
       "    }\n",
       "\n",
       "    .dataframe tbody tr th {\n",
       "        vertical-align: top;\n",
       "    }\n",
       "\n",
       "    .dataframe thead th {\n",
       "        text-align: right;\n",
       "    }\n",
       "</style>\n",
       "<table border=\"1\" class=\"dataframe\">\n",
       "  <thead>\n",
       "    <tr style=\"text-align: right;\">\n",
       "      <th></th>\n",
       "      <th>instant</th>\n",
       "      <th>dteday</th>\n",
       "      <th>season</th>\n",
       "      <th>yr</th>\n",
       "      <th>mnth</th>\n",
       "      <th>holiday</th>\n",
       "      <th>weekday</th>\n",
       "      <th>workingday</th>\n",
       "      <th>weathersit</th>\n",
       "      <th>temp</th>\n",
       "      <th>atemp</th>\n",
       "      <th>hum</th>\n",
       "      <th>windspeed</th>\n",
       "      <th>casual</th>\n",
       "      <th>registered</th>\n",
       "      <th>cnt</th>\n",
       "    </tr>\n",
       "  </thead>\n",
       "  <tbody>\n",
       "    <tr>\n",
       "      <th>0</th>\n",
       "      <td>1</td>\n",
       "      <td>2011-01-01</td>\n",
       "      <td>1</td>\n",
       "      <td>0</td>\n",
       "      <td>1</td>\n",
       "      <td>0</td>\n",
       "      <td>6</td>\n",
       "      <td>0</td>\n",
       "      <td>2</td>\n",
       "      <td>0.344167</td>\n",
       "      <td>0.363625</td>\n",
       "      <td>0.805833</td>\n",
       "      <td>0.160446</td>\n",
       "      <td>331</td>\n",
       "      <td>654</td>\n",
       "      <td>985</td>\n",
       "    </tr>\n",
       "    <tr>\n",
       "      <th>1</th>\n",
       "      <td>2</td>\n",
       "      <td>2011-01-02</td>\n",
       "      <td>1</td>\n",
       "      <td>0</td>\n",
       "      <td>1</td>\n",
       "      <td>0</td>\n",
       "      <td>0</td>\n",
       "      <td>0</td>\n",
       "      <td>2</td>\n",
       "      <td>0.363478</td>\n",
       "      <td>0.353739</td>\n",
       "      <td>0.696087</td>\n",
       "      <td>0.248539</td>\n",
       "      <td>131</td>\n",
       "      <td>670</td>\n",
       "      <td>801</td>\n",
       "    </tr>\n",
       "    <tr>\n",
       "      <th>2</th>\n",
       "      <td>3</td>\n",
       "      <td>2011-01-03</td>\n",
       "      <td>1</td>\n",
       "      <td>0</td>\n",
       "      <td>1</td>\n",
       "      <td>0</td>\n",
       "      <td>1</td>\n",
       "      <td>1</td>\n",
       "      <td>1</td>\n",
       "      <td>0.196364</td>\n",
       "      <td>0.189405</td>\n",
       "      <td>0.437273</td>\n",
       "      <td>0.248309</td>\n",
       "      <td>120</td>\n",
       "      <td>1229</td>\n",
       "      <td>1349</td>\n",
       "    </tr>\n",
       "    <tr>\n",
       "      <th>3</th>\n",
       "      <td>4</td>\n",
       "      <td>2011-01-04</td>\n",
       "      <td>1</td>\n",
       "      <td>0</td>\n",
       "      <td>1</td>\n",
       "      <td>0</td>\n",
       "      <td>2</td>\n",
       "      <td>1</td>\n",
       "      <td>1</td>\n",
       "      <td>0.200000</td>\n",
       "      <td>0.212122</td>\n",
       "      <td>0.590435</td>\n",
       "      <td>0.160296</td>\n",
       "      <td>108</td>\n",
       "      <td>1454</td>\n",
       "      <td>1562</td>\n",
       "    </tr>\n",
       "    <tr>\n",
       "      <th>4</th>\n",
       "      <td>5</td>\n",
       "      <td>2011-01-05</td>\n",
       "      <td>1</td>\n",
       "      <td>0</td>\n",
       "      <td>1</td>\n",
       "      <td>0</td>\n",
       "      <td>3</td>\n",
       "      <td>1</td>\n",
       "      <td>1</td>\n",
       "      <td>0.226957</td>\n",
       "      <td>0.229270</td>\n",
       "      <td>0.436957</td>\n",
       "      <td>0.186900</td>\n",
       "      <td>82</td>\n",
       "      <td>1518</td>\n",
       "      <td>1600</td>\n",
       "    </tr>\n",
       "  </tbody>\n",
       "</table>\n",
       "</div>"
      ],
      "text/plain": [
       "   instant      dteday  season  yr  mnth  holiday  weekday  workingday  \\\n",
       "0        1  2011-01-01       1   0     1        0        6           0   \n",
       "1        2  2011-01-02       1   0     1        0        0           0   \n",
       "2        3  2011-01-03       1   0     1        0        1           1   \n",
       "3        4  2011-01-04       1   0     1        0        2           1   \n",
       "4        5  2011-01-05       1   0     1        0        3           1   \n",
       "\n",
       "   weathersit      temp     atemp       hum  windspeed  casual  registered  \\\n",
       "0           2  0.344167  0.363625  0.805833   0.160446     331         654   \n",
       "1           2  0.363478  0.353739  0.696087   0.248539     131         670   \n",
       "2           1  0.196364  0.189405  0.437273   0.248309     120        1229   \n",
       "3           1  0.200000  0.212122  0.590435   0.160296     108        1454   \n",
       "4           1  0.226957  0.229270  0.436957   0.186900      82        1518   \n",
       "\n",
       "    cnt  \n",
       "0   985  \n",
       "1   801  \n",
       "2  1349  \n",
       "3  1562  \n",
       "4  1600  "
      ]
     },
     "execution_count": 2,
     "metadata": {},
     "output_type": "execute_result"
    }
   ],
   "source": [
    "bike_sharing_data = pd.read_csv('datasets/day.csv')\n",
    "bike_sharing_data.head()"
   ]
  },
  {
   "cell_type": "code",
   "execution_count": 3,
   "metadata": {},
   "outputs": [
    {
     "data": {
      "text/plain": [
       "(731, 16)"
      ]
     },
     "execution_count": 3,
     "metadata": {},
     "output_type": "execute_result"
    }
   ],
   "source": [
    "bike_sharing_data.shape"
   ]
  },
  {
   "cell_type": "code",
   "execution_count": 4,
   "metadata": {},
   "outputs": [
    {
     "data": {
      "text/plain": [
       "Index(['instant', 'dteday', 'season', 'yr', 'mnth', 'holiday', 'weekday',\n",
       "       'workingday', 'weathersit', 'temp', 'atemp', 'hum', 'windspeed',\n",
       "       'casual', 'registered', 'cnt'],\n",
       "      dtype='object')"
      ]
     },
     "execution_count": 4,
     "metadata": {},
     "output_type": "execute_result"
    }
   ],
   "source": [
    "# Workingday and Temperature on number of bikes rented is significant \n",
    "# or not\n",
    "bike_sharing_data.columns"
   ]
  },
  {
   "cell_type": "code",
   "execution_count": 5,
   "metadata": {},
   "outputs": [],
   "source": [
    "bike_sharing_data_cols = bike_sharing_data[['season', 'mnth', 'holiday',\n",
    "       'workingday', 'weathersit', 'temp', 'cnt']]"
   ]
  },
  {
   "cell_type": "code",
   "execution_count": 6,
   "metadata": {},
   "outputs": [],
   "source": [
    "# saving into a csv file\n",
    "bike_sharing_data_cols.to_csv('datasets/bike_sharing_data_processed.csv', index=False)"
   ]
  },
  {
   "cell_type": "code",
   "execution_count": 7,
   "metadata": {},
   "outputs": [
    {
     "data": {
      "text/html": [
       "<div>\n",
       "<style scoped>\n",
       "    .dataframe tbody tr th:only-of-type {\n",
       "        vertical-align: middle;\n",
       "    }\n",
       "\n",
       "    .dataframe tbody tr th {\n",
       "        vertical-align: top;\n",
       "    }\n",
       "\n",
       "    .dataframe thead th {\n",
       "        text-align: right;\n",
       "    }\n",
       "</style>\n",
       "<table border=\"1\" class=\"dataframe\">\n",
       "  <thead>\n",
       "    <tr style=\"text-align: right;\">\n",
       "      <th></th>\n",
       "      <th>season</th>\n",
       "      <th>mnth</th>\n",
       "      <th>holiday</th>\n",
       "      <th>workingday</th>\n",
       "      <th>weathersit</th>\n",
       "      <th>temp</th>\n",
       "      <th>cnt</th>\n",
       "    </tr>\n",
       "  </thead>\n",
       "  <tbody>\n",
       "    <tr>\n",
       "      <th>0</th>\n",
       "      <td>1</td>\n",
       "      <td>1</td>\n",
       "      <td>0</td>\n",
       "      <td>0</td>\n",
       "      <td>2</td>\n",
       "      <td>0.344167</td>\n",
       "      <td>985</td>\n",
       "    </tr>\n",
       "    <tr>\n",
       "      <th>1</th>\n",
       "      <td>1</td>\n",
       "      <td>1</td>\n",
       "      <td>0</td>\n",
       "      <td>0</td>\n",
       "      <td>2</td>\n",
       "      <td>0.363478</td>\n",
       "      <td>801</td>\n",
       "    </tr>\n",
       "    <tr>\n",
       "      <th>2</th>\n",
       "      <td>1</td>\n",
       "      <td>1</td>\n",
       "      <td>0</td>\n",
       "      <td>1</td>\n",
       "      <td>1</td>\n",
       "      <td>0.196364</td>\n",
       "      <td>1349</td>\n",
       "    </tr>\n",
       "    <tr>\n",
       "      <th>3</th>\n",
       "      <td>1</td>\n",
       "      <td>1</td>\n",
       "      <td>0</td>\n",
       "      <td>1</td>\n",
       "      <td>1</td>\n",
       "      <td>0.200000</td>\n",
       "      <td>1562</td>\n",
       "    </tr>\n",
       "    <tr>\n",
       "      <th>4</th>\n",
       "      <td>1</td>\n",
       "      <td>1</td>\n",
       "      <td>0</td>\n",
       "      <td>1</td>\n",
       "      <td>1</td>\n",
       "      <td>0.226957</td>\n",
       "      <td>1600</td>\n",
       "    </tr>\n",
       "  </tbody>\n",
       "</table>\n",
       "</div>"
      ],
      "text/plain": [
       "   season  mnth  holiday  workingday  weathersit      temp   cnt\n",
       "0       1     1        0           0           2  0.344167   985\n",
       "1       1     1        0           0           2  0.363478   801\n",
       "2       1     1        0           1           1  0.196364  1349\n",
       "3       1     1        0           1           1  0.200000  1562\n",
       "4       1     1        0           1           1  0.226957  1600"
      ]
     },
     "execution_count": 7,
     "metadata": {},
     "output_type": "execute_result"
    }
   ],
   "source": [
    "bike_sharing_data_cols.head()"
   ]
  },
  {
   "cell_type": "code",
   "execution_count": 8,
   "metadata": {},
   "outputs": [
    {
     "data": {
      "text/html": [
       "<div>\n",
       "<style scoped>\n",
       "    .dataframe tbody tr th:only-of-type {\n",
       "        vertical-align: middle;\n",
       "    }\n",
       "\n",
       "    .dataframe tbody tr th {\n",
       "        vertical-align: top;\n",
       "    }\n",
       "\n",
       "    .dataframe thead th {\n",
       "        text-align: right;\n",
       "    }\n",
       "</style>\n",
       "<table border=\"1\" class=\"dataframe\">\n",
       "  <thead>\n",
       "    <tr style=\"text-align: right;\">\n",
       "      <th></th>\n",
       "      <th>season</th>\n",
       "      <th>mnth</th>\n",
       "      <th>holiday</th>\n",
       "      <th>workingday</th>\n",
       "      <th>weathersit</th>\n",
       "      <th>temp</th>\n",
       "      <th>cnt</th>\n",
       "    </tr>\n",
       "  </thead>\n",
       "  <tbody>\n",
       "    <tr>\n",
       "      <th>count</th>\n",
       "      <td>731.000000</td>\n",
       "      <td>731.000000</td>\n",
       "      <td>731.000000</td>\n",
       "      <td>731.000000</td>\n",
       "      <td>731.000000</td>\n",
       "      <td>731.000000</td>\n",
       "      <td>731.000000</td>\n",
       "    </tr>\n",
       "    <tr>\n",
       "      <th>mean</th>\n",
       "      <td>2.496580</td>\n",
       "      <td>6.519836</td>\n",
       "      <td>0.028728</td>\n",
       "      <td>0.683995</td>\n",
       "      <td>1.395349</td>\n",
       "      <td>0.495385</td>\n",
       "      <td>4504.348837</td>\n",
       "    </tr>\n",
       "    <tr>\n",
       "      <th>std</th>\n",
       "      <td>1.110807</td>\n",
       "      <td>3.451913</td>\n",
       "      <td>0.167155</td>\n",
       "      <td>0.465233</td>\n",
       "      <td>0.544894</td>\n",
       "      <td>0.183051</td>\n",
       "      <td>1937.211452</td>\n",
       "    </tr>\n",
       "    <tr>\n",
       "      <th>min</th>\n",
       "      <td>1.000000</td>\n",
       "      <td>1.000000</td>\n",
       "      <td>0.000000</td>\n",
       "      <td>0.000000</td>\n",
       "      <td>1.000000</td>\n",
       "      <td>0.059130</td>\n",
       "      <td>22.000000</td>\n",
       "    </tr>\n",
       "    <tr>\n",
       "      <th>25%</th>\n",
       "      <td>2.000000</td>\n",
       "      <td>4.000000</td>\n",
       "      <td>0.000000</td>\n",
       "      <td>0.000000</td>\n",
       "      <td>1.000000</td>\n",
       "      <td>0.337083</td>\n",
       "      <td>3152.000000</td>\n",
       "    </tr>\n",
       "    <tr>\n",
       "      <th>50%</th>\n",
       "      <td>3.000000</td>\n",
       "      <td>7.000000</td>\n",
       "      <td>0.000000</td>\n",
       "      <td>1.000000</td>\n",
       "      <td>1.000000</td>\n",
       "      <td>0.498333</td>\n",
       "      <td>4548.000000</td>\n",
       "    </tr>\n",
       "    <tr>\n",
       "      <th>75%</th>\n",
       "      <td>3.000000</td>\n",
       "      <td>10.000000</td>\n",
       "      <td>0.000000</td>\n",
       "      <td>1.000000</td>\n",
       "      <td>2.000000</td>\n",
       "      <td>0.655417</td>\n",
       "      <td>5956.000000</td>\n",
       "    </tr>\n",
       "    <tr>\n",
       "      <th>max</th>\n",
       "      <td>4.000000</td>\n",
       "      <td>12.000000</td>\n",
       "      <td>1.000000</td>\n",
       "      <td>1.000000</td>\n",
       "      <td>3.000000</td>\n",
       "      <td>0.861667</td>\n",
       "      <td>8714.000000</td>\n",
       "    </tr>\n",
       "  </tbody>\n",
       "</table>\n",
       "</div>"
      ],
      "text/plain": [
       "           season        mnth     holiday  workingday  weathersit        temp  \\\n",
       "count  731.000000  731.000000  731.000000  731.000000  731.000000  731.000000   \n",
       "mean     2.496580    6.519836    0.028728    0.683995    1.395349    0.495385   \n",
       "std      1.110807    3.451913    0.167155    0.465233    0.544894    0.183051   \n",
       "min      1.000000    1.000000    0.000000    0.000000    1.000000    0.059130   \n",
       "25%      2.000000    4.000000    0.000000    0.000000    1.000000    0.337083   \n",
       "50%      3.000000    7.000000    0.000000    1.000000    1.000000    0.498333   \n",
       "75%      3.000000   10.000000    0.000000    1.000000    2.000000    0.655417   \n",
       "max      4.000000   12.000000    1.000000    1.000000    3.000000    0.861667   \n",
       "\n",
       "               cnt  \n",
       "count   731.000000  \n",
       "mean   4504.348837  \n",
       "std    1937.211452  \n",
       "min      22.000000  \n",
       "25%    3152.000000  \n",
       "50%    4548.000000  \n",
       "75%    5956.000000  \n",
       "max    8714.000000  "
      ]
     },
     "execution_count": 8,
     "metadata": {},
     "output_type": "execute_result"
    }
   ],
   "source": [
    "bike_sharing_data_cols.describe()"
   ]
  },
  {
   "cell_type": "code",
   "execution_count": 9,
   "metadata": {},
   "outputs": [
    {
     "data": {
      "text/plain": [
       "array([ 1,  2,  3,  4,  5,  6,  7,  8,  9, 10, 11, 12])"
      ]
     },
     "execution_count": 9,
     "metadata": {},
     "output_type": "execute_result"
    }
   ],
   "source": [
    "bike_sharing_data_cols['mnth'].unique()"
   ]
  },
  {
   "cell_type": "code",
   "execution_count": 10,
   "metadata": {},
   "outputs": [
    {
     "data": {
      "text/plain": [
       "array([1, 2, 3, 4])"
      ]
     },
     "execution_count": 10,
     "metadata": {},
     "output_type": "execute_result"
    }
   ],
   "source": [
    "bike_sharing_data_cols['season'].unique()"
   ]
  },
  {
   "cell_type": "code",
   "execution_count": 11,
   "metadata": {},
   "outputs": [
    {
     "data": {
      "text/plain": [
       "array([0, 1])"
      ]
     },
     "execution_count": 11,
     "metadata": {},
     "output_type": "execute_result"
    }
   ],
   "source": [
    "bike_sharing_data_cols['holiday'].unique()"
   ]
  },
  {
   "cell_type": "code",
   "execution_count": 12,
   "metadata": {},
   "outputs": [
    {
     "data": {
      "text/plain": [
       "array([0, 1])"
      ]
     },
     "execution_count": 12,
     "metadata": {},
     "output_type": "execute_result"
    }
   ],
   "source": [
    "bike_sharing_data_cols['workingday'].unique()"
   ]
  },
  {
   "cell_type": "code",
   "execution_count": 13,
   "metadata": {
    "collapsed": true
   },
   "outputs": [
    {
     "data": {
      "text/plain": [
       "array([0.344167 , 0.363478 , 0.196364 , 0.2      , 0.226957 , 0.204348 ,\n",
       "       0.196522 , 0.165    , 0.138333 , 0.150833 , 0.169091 , 0.172727 ,\n",
       "       0.16087  , 0.233333 , 0.231667 , 0.175833 , 0.216667 , 0.292174 ,\n",
       "       0.261667 , 0.1775   , 0.0591304, 0.0965217, 0.0973913, 0.223478 ,\n",
       "       0.2175   , 0.195    , 0.203478 , 0.216522 , 0.180833 , 0.192174 ,\n",
       "       0.26     , 0.186957 , 0.211304 , 0.285833 , 0.271667 , 0.220833 ,\n",
       "       0.134783 , 0.144348 , 0.189091 , 0.2225   , 0.316522 , 0.415    ,\n",
       "       0.266087 , 0.318261 , 0.435833 , 0.521667 , 0.399167 , 0.285217 ,\n",
       "       0.303333 , 0.182222 , 0.221739 , 0.295652 , 0.364348 , 0.2825   ,\n",
       "       0.343478 , 0.407273 , 0.266667 , 0.335    , 0.198333 , 0.384167 ,\n",
       "       0.376522 , 0.261739 , 0.2925   , 0.295833 , 0.389091 , 0.329167 ,\n",
       "       0.384348 , 0.325217 , 0.317391 , 0.365217 , 0.54     , 0.4725   ,\n",
       "       0.3325   , 0.430435 , 0.441667 , 0.346957 , 0.285    , 0.264167 ,\n",
       "       0.265833 , 0.253043 , 0.264348 , 0.3025   , 0.3      , 0.268333 ,\n",
       "       0.315    , 0.378333 , 0.573333 , 0.414167 , 0.390833 , 0.4375   ,\n",
       "       0.335833 , 0.3425   , 0.426667 , 0.595652 , 0.5025   , 0.4125   ,\n",
       "       0.4675   , 0.446667 , 0.430833 , 0.456667 , 0.5125   , 0.505833 ,\n",
       "       0.595    , 0.459167 , 0.336667 , 0.46     , 0.581667 , 0.606667 ,\n",
       "       0.631667 , 0.62     , 0.6175   , 0.51     , 0.451667 , 0.549167 ,\n",
       "       0.616667 , 0.479167 , 0.52     , 0.528333 , 0.5325   , 0.5425   ,\n",
       "       0.535    , 0.520833 , 0.5625   , 0.5775   , 0.561667 , 0.55     ,\n",
       "       0.530833 , 0.536667 , 0.6025   , 0.604167 , 0.66     , 0.660833 ,\n",
       "       0.708333 , 0.681667 , 0.655833 , 0.6675   , 0.733333 , 0.775    ,\n",
       "       0.764167 , 0.715    , 0.635    , 0.648333 , 0.678333 , 0.7075   ,\n",
       "       0.775833 , 0.808333 , 0.755    , 0.725    , 0.6925   , 0.626667 ,\n",
       "       0.628333 , 0.649167 , 0.696667 , 0.699167 , 0.680833 , 0.728333 ,\n",
       "       0.724167 , 0.695    , 0.68     , 0.6825   , 0.744167 , 0.7225   ,\n",
       "       0.738333 , 0.716667 , 0.726667 , 0.746667 , 0.72     , 0.75     ,\n",
       "       0.709167 , 0.7475   , 0.7625   , 0.794167 , 0.663333 , 0.686667 ,\n",
       "       0.719167 , 0.776667 , 0.768333 , 0.815    , 0.848333 , 0.849167 ,\n",
       "       0.83     , 0.743333 , 0.771667 , 0.779167 , 0.838333 , 0.804167 ,\n",
       "       0.805833 , 0.783333 , 0.731667 , 0.71     , 0.710833 , 0.7425   ,\n",
       "       0.765    , 0.766667 , 0.7175   , 0.685833 , 0.676667 , 0.665833 ,\n",
       "       0.700833 , 0.723333 , 0.711667 , 0.685    , 0.6975   , 0.691667 ,\n",
       "       0.640833 , 0.673333 , 0.684167 , 0.7      , 0.707059 , 0.636667 ,\n",
       "       0.639167 , 0.656667 , 0.655    , 0.643333 , 0.669167 , 0.599167 ,\n",
       "       0.633913 , 0.65     , 0.653333 , 0.644348 , 0.650833 , 0.469167 ,\n",
       "       0.491667 , 0.5075   , 0.609167 , 0.634167 , 0.564167 , 0.41     ,\n",
       "       0.356667 , 0.484167 , 0.538333 , 0.494167 , 0.510833 , 0.540833 ,\n",
       "       0.570833 , 0.566667 , 0.543333 , 0.589167 , 0.550833 , 0.506667 ,\n",
       "       0.511667 , 0.534167 , 0.541739 , 0.475833 , 0.4275   , 0.4225   ,\n",
       "       0.421667 , 0.463333 , 0.471667 , 0.47     , 0.330833 , 0.254167 ,\n",
       "       0.319167 , 0.34     , 0.400833 , 0.3775   , 0.408333 , 0.403333 ,\n",
       "       0.326667 , 0.348333 , 0.395    , 0.4      , 0.38     , 0.324167 ,\n",
       "       0.440833 , 0.53     , 0.341667 , 0.274167 , 0.4475   , 0.416667 ,\n",
       "       0.373333 , 0.375    , 0.375833 , 0.503478 , 0.458333 , 0.325    ,\n",
       "       0.3125   , 0.314167 , 0.299167 , 0.385833 , 0.4625   , 0.290833 ,\n",
       "       0.275    , 0.238333 , 0.3175   , 0.258333 , 0.276667 , 0.428333 ,\n",
       "       0.423333 , 0.274783 , 0.321739 , 0.29913  , 0.248333 , 0.311667 ,\n",
       "       0.37     , 0.273043 , 0.15     , 0.1075   , 0.334167 , 0.393333 ,\n",
       "       0.3375   , 0.224167 , 0.308696 , 0.3825   , 0.18     , 0.166667 ,\n",
       "       0.19     , 0.373043 , 0.173333 , 0.1625   , 0.218333 , 0.294167 ,\n",
       "       0.425    , 0.315833 , 0.269167 , 0.39     , 0.313333 , 0.282609 ,\n",
       "       0.354167 , 0.256667 , 0.265    , 0.280833 , 0.1275   , 0.316667 ,\n",
       "       0.343333 , 0.346667 , 0.28     , 0.287826 , 0.395833 , 0.454167 ,\n",
       "       0.4075   , 0.279167 , 0.366667 , 0.359167 , 0.344348 , 0.485833 ,\n",
       "       0.353333 , 0.325833 , 0.243333 , 0.404167 , 0.5275   , 0.410833 ,\n",
       "       0.2875   , 0.361739 , 0.466667 , 0.565    , 0.5725   , 0.5575   ,\n",
       "       0.514167 , 0.545    , 0.560833 , 0.531667 , 0.554167 , 0.601667 ,\n",
       "       0.445833 , 0.323333 , 0.424167 , 0.425833 , 0.433913 , 0.541667 ,\n",
       "       0.435    , 0.5      , 0.489167 , 0.348696 , 0.3975   , 0.4425   ,\n",
       "       0.495    , 0.664167 , 0.608333 , 0.498333 , 0.526667 , 0.57     ,\n",
       "       0.396667 , 0.321667 , 0.413333 , 0.476667 , 0.4575   , 0.376667 ,\n",
       "       0.464167 , 0.613333 , 0.56     , 0.6275   , 0.621667 , 0.5375   ,\n",
       "       0.575    , 0.533333 , 0.6125   , 0.611667 , 0.593333 , 0.6      ,\n",
       "       0.620833 , 0.598333 , 0.615    , 0.69     , 0.7125   , 0.654167 ,\n",
       "       0.583333 , 0.5975   , 0.720833 , 0.5925   , 0.568333 , 0.688333 ,\n",
       "       0.7825   , 0.7775   , 0.715833 , 0.630833 , 0.749167 , 0.834167 ,\n",
       "       0.815833 , 0.781667 , 0.780833 , 0.789167 , 0.8275   , 0.828333 ,\n",
       "       0.861667 , 0.8225   , 0.703333 , 0.745833 , 0.763333 , 0.818333 ,\n",
       "       0.793333 , 0.77     , 0.595833 , 0.741667 , 0.750833 , 0.755833 ,\n",
       "       0.721667 , 0.730833 , 0.713333 , 0.7525   , 0.765833 , 0.769167 ,\n",
       "       0.735833 , 0.706667 , 0.635833 , 0.695833 , 0.7025   , 0.661667 ,\n",
       "       0.753333 , 0.725833 , 0.736667 , 0.659167 , 0.61     , 0.633333 ,\n",
       "       0.58     , 0.580833 , 0.623333 , 0.5525   , 0.546667 , 0.529167 ,\n",
       "       0.619167 , 0.590833 , 0.6575   , 0.415833 , 0.383333 , 0.468333 ,\n",
       "       0.455833 , 0.5225   , 0.563333 , 0.4875   , 0.544167 , 0.5875   ,\n",
       "       0.545833 , 0.4775   , 0.44     , 0.318182 , 0.3575   , 0.365833 ,\n",
       "       0.355    , 0.352174 , 0.361667 , 0.389167 , 0.420833 , 0.485    ,\n",
       "       0.289167 , 0.345    , 0.380833 , 0.374167 , 0.368333 , 0.278333 ,\n",
       "       0.245833 , 0.291667 , 0.296667 , 0.28087  , 0.298333 , 0.3475   ,\n",
       "       0.4525   , 0.438333 , 0.255833 , 0.320833 , 0.381667 , 0.2975   ,\n",
       "       0.281667 , 0.3625   , 0.33     , 0.231304 , 0.291304 , 0.253333 ,\n",
       "       0.215833 ])"
      ]
     },
     "execution_count": 13,
     "metadata": {},
     "output_type": "execute_result"
    }
   ],
   "source": [
    "bike_sharing_data_cols['temp'].unique()"
   ]
  },
  {
   "cell_type": "code",
   "execution_count": 14,
   "metadata": {},
   "outputs": [
    {
     "data": {
      "text/plain": [
       "array([2, 1, 3])"
      ]
     },
     "execution_count": 14,
     "metadata": {},
     "output_type": "execute_result"
    }
   ],
   "source": [
    "bike_sharing_data_cols['weathersit'].unique()"
   ]
  },
  {
   "cell_type": "code",
   "execution_count": 15,
   "metadata": {},
   "outputs": [
    {
     "data": {
      "text/plain": [
       "count    731.000000\n",
       "mean       0.495385\n",
       "std        0.183051\n",
       "min        0.059130\n",
       "25%        0.337083\n",
       "50%        0.498333\n",
       "75%        0.655417\n",
       "max        0.861667\n",
       "Name: temp, dtype: float64"
      ]
     },
     "execution_count": 15,
     "metadata": {},
     "output_type": "execute_result"
    }
   ],
   "source": [
    "bike_sharing_data_cols['temp'].describe()"
   ]
  },
  {
   "cell_type": "code",
   "execution_count": 16,
   "metadata": {},
   "outputs": [
    {
     "data": {
      "text/html": [
       "<div>\n",
       "<style scoped>\n",
       "    .dataframe tbody tr th:only-of-type {\n",
       "        vertical-align: middle;\n",
       "    }\n",
       "\n",
       "    .dataframe tbody tr th {\n",
       "        vertical-align: top;\n",
       "    }\n",
       "\n",
       "    .dataframe thead th {\n",
       "        text-align: right;\n",
       "    }\n",
       "</style>\n",
       "<table border=\"1\" class=\"dataframe\">\n",
       "  <thead>\n",
       "    <tr style=\"text-align: right;\">\n",
       "      <th></th>\n",
       "      <th>count</th>\n",
       "      <th>mean</th>\n",
       "      <th>std</th>\n",
       "      <th>min</th>\n",
       "      <th>25%</th>\n",
       "      <th>50%</th>\n",
       "      <th>75%</th>\n",
       "      <th>max</th>\n",
       "    </tr>\n",
       "    <tr>\n",
       "      <th>workingday</th>\n",
       "      <th></th>\n",
       "      <th></th>\n",
       "      <th></th>\n",
       "      <th></th>\n",
       "      <th></th>\n",
       "      <th></th>\n",
       "      <th></th>\n",
       "      <th></th>\n",
       "    </tr>\n",
       "  </thead>\n",
       "  <tbody>\n",
       "    <tr>\n",
       "      <th>0</th>\n",
       "      <td>231.0</td>\n",
       "      <td>4330.168831</td>\n",
       "      <td>2052.141245</td>\n",
       "      <td>605.0</td>\n",
       "      <td>2710.50</td>\n",
       "      <td>4459.0</td>\n",
       "      <td>5907.5</td>\n",
       "      <td>8714.0</td>\n",
       "    </tr>\n",
       "    <tr>\n",
       "      <th>1</th>\n",
       "      <td>500.0</td>\n",
       "      <td>4584.820000</td>\n",
       "      <td>1878.415583</td>\n",
       "      <td>22.0</td>\n",
       "      <td>3344.25</td>\n",
       "      <td>4582.0</td>\n",
       "      <td>5987.5</td>\n",
       "      <td>8362.0</td>\n",
       "    </tr>\n",
       "  </tbody>\n",
       "</table>\n",
       "</div>"
      ],
      "text/plain": [
       "            count         mean          std    min      25%     50%     75%  \\\n",
       "workingday                                                                    \n",
       "0           231.0  4330.168831  2052.141245  605.0  2710.50  4459.0  5907.5   \n",
       "1           500.0  4584.820000  1878.415583   22.0  3344.25  4582.0  5987.5   \n",
       "\n",
       "               max  \n",
       "workingday          \n",
       "0           8714.0  \n",
       "1           8362.0  "
      ]
     },
     "execution_count": 16,
     "metadata": {},
     "output_type": "execute_result"
    }
   ],
   "source": [
    " bike_sharing_data_cols.groupby('workingday')['cnt'].describe()"
   ]
  },
  {
   "cell_type": "code",
   "execution_count": 17,
   "metadata": {},
   "outputs": [
    {
     "data": {
      "text/plain": [
       "<AxesSubplot:title={'center':'cnt'}, xlabel='workingday'>"
      ]
     },
     "execution_count": 17,
     "metadata": {},
     "output_type": "execute_result"
    },
    {
     "data": {
      "image/png": "[encoded data removed]",
      "text/plain": [
       "<Figure size 720x576 with 1 Axes>"
      ]
     },
     "metadata": {
      "needs_background": "light"
     },
     "output_type": "display_data"
    }
   ],
   "source": [
    "bike_sharing_data_cols.boxplot(column=['cnt'], by='workingday', figsize=(10,8))"
   ]
  },
  {
   "cell_type": "code",
   "execution_count": 18,
   "metadata": {},
   "outputs": [],
   "source": [
    "# for working day\n",
    "sample_01 = bike_sharing_data_cols[(bike_sharing_data_cols['workingday'] == 1)]\n",
    "\n",
    "# for non-working day\n",
    "sample_02 = bike_sharing_data_cols[(bike_sharing_data_cols['workingday'] == 0)]"
   ]
  },
  {
   "cell_type": "code",
   "execution_count": 19,
   "metadata": {},
   "outputs": [
    {
     "data": {
      "text/plain": [
       "((500, 7), (231, 7))"
      ]
     },
     "execution_count": 19,
     "metadata": {},
     "output_type": "execute_result"
    }
   ],
   "source": [
    "sample_01.shape, sample_02.shape"
   ]
  },
  {
   "cell_type": "code",
   "execution_count": 22,
   "metadata": {
    "scrolled": false
   },
   "outputs": [
    {
     "data": {
      "text/html": [
       "<div>\n",
       "<style scoped>\n",
       "    .dataframe tbody tr th:only-of-type {\n",
       "        vertical-align: middle;\n",
       "    }\n",
       "\n",
       "    .dataframe tbody tr th {\n",
       "        vertical-align: top;\n",
       "    }\n",
       "\n",
       "    .dataframe thead th {\n",
       "        text-align: right;\n",
       "    }\n",
       "</style>\n",
       "<table border=\"1\" class=\"dataframe\">\n",
       "  <thead>\n",
       "    <tr style=\"text-align: right;\">\n",
       "      <th></th>\n",
       "      <th>season</th>\n",
       "      <th>mnth</th>\n",
       "      <th>holiday</th>\n",
       "      <th>workingday</th>\n",
       "      <th>weathersit</th>\n",
       "      <th>temp</th>\n",
       "      <th>cnt</th>\n",
       "    </tr>\n",
       "  </thead>\n",
       "  <tbody>\n",
       "    <tr>\n",
       "      <th>2</th>\n",
       "      <td>1</td>\n",
       "      <td>1</td>\n",
       "      <td>0</td>\n",
       "      <td>1</td>\n",
       "      <td>1</td>\n",
       "      <td>0.196364</td>\n",
       "      <td>1349</td>\n",
       "    </tr>\n",
       "    <tr>\n",
       "      <th>3</th>\n",
       "      <td>1</td>\n",
       "      <td>1</td>\n",
       "      <td>0</td>\n",
       "      <td>1</td>\n",
       "      <td>1</td>\n",
       "      <td>0.200000</td>\n",
       "      <td>1562</td>\n",
       "    </tr>\n",
       "    <tr>\n",
       "      <th>4</th>\n",
       "      <td>1</td>\n",
       "      <td>1</td>\n",
       "      <td>0</td>\n",
       "      <td>1</td>\n",
       "      <td>1</td>\n",
       "      <td>0.226957</td>\n",
       "      <td>1600</td>\n",
       "    </tr>\n",
       "    <tr>\n",
       "      <th>5</th>\n",
       "      <td>1</td>\n",
       "      <td>1</td>\n",
       "      <td>0</td>\n",
       "      <td>1</td>\n",
       "      <td>1</td>\n",
       "      <td>0.204348</td>\n",
       "      <td>1606</td>\n",
       "    </tr>\n",
       "    <tr>\n",
       "      <th>6</th>\n",
       "      <td>1</td>\n",
       "      <td>1</td>\n",
       "      <td>0</td>\n",
       "      <td>1</td>\n",
       "      <td>2</td>\n",
       "      <td>0.196522</td>\n",
       "      <td>1510</td>\n",
       "    </tr>\n",
       "    <tr>\n",
       "      <th>...</th>\n",
       "      <td>...</td>\n",
       "      <td>...</td>\n",
       "      <td>...</td>\n",
       "      <td>...</td>\n",
       "      <td>...</td>\n",
       "      <td>...</td>\n",
       "      <td>...</td>\n",
       "    </tr>\n",
       "    <tr>\n",
       "      <th>723</th>\n",
       "      <td>1</td>\n",
       "      <td>12</td>\n",
       "      <td>0</td>\n",
       "      <td>1</td>\n",
       "      <td>2</td>\n",
       "      <td>0.231304</td>\n",
       "      <td>920</td>\n",
       "    </tr>\n",
       "    <tr>\n",
       "      <th>725</th>\n",
       "      <td>1</td>\n",
       "      <td>12</td>\n",
       "      <td>0</td>\n",
       "      <td>1</td>\n",
       "      <td>3</td>\n",
       "      <td>0.243333</td>\n",
       "      <td>441</td>\n",
       "    </tr>\n",
       "    <tr>\n",
       "      <th>726</th>\n",
       "      <td>1</td>\n",
       "      <td>12</td>\n",
       "      <td>0</td>\n",
       "      <td>1</td>\n",
       "      <td>2</td>\n",
       "      <td>0.254167</td>\n",
       "      <td>2114</td>\n",
       "    </tr>\n",
       "    <tr>\n",
       "      <th>727</th>\n",
       "      <td>1</td>\n",
       "      <td>12</td>\n",
       "      <td>0</td>\n",
       "      <td>1</td>\n",
       "      <td>2</td>\n",
       "      <td>0.253333</td>\n",
       "      <td>3095</td>\n",
       "    </tr>\n",
       "    <tr>\n",
       "      <th>730</th>\n",
       "      <td>1</td>\n",
       "      <td>12</td>\n",
       "      <td>0</td>\n",
       "      <td>1</td>\n",
       "      <td>2</td>\n",
       "      <td>0.215833</td>\n",
       "      <td>2729</td>\n",
       "    </tr>\n",
       "  </tbody>\n",
       "</table>\n",
       "<p>500 rows × 7 columns</p>\n",
       "</div>"
      ],
      "text/plain": [
       "     season  mnth  holiday  workingday  weathersit      temp   cnt\n",
       "2         1     1        0           1           1  0.196364  1349\n",
       "3         1     1        0           1           1  0.200000  1562\n",
       "4         1     1        0           1           1  0.226957  1600\n",
       "5         1     1        0           1           1  0.204348  1606\n",
       "6         1     1        0           1           2  0.196522  1510\n",
       "..      ...   ...      ...         ...         ...       ...   ...\n",
       "723       1    12        0           1           2  0.231304   920\n",
       "725       1    12        0           1           3  0.243333   441\n",
       "726       1    12        0           1           2  0.254167  2114\n",
       "727       1    12        0           1           2  0.253333  3095\n",
       "730       1    12        0           1           2  0.215833  2729\n",
       "\n",
       "[500 rows x 7 columns]"
      ]
     },
     "execution_count": 22,
     "metadata": {},
     "output_type": "execute_result"
    }
   ],
   "source": [
    "bike_sharing_data_cols[(bike_sharing_data_cols['workingday'] == 1)]"
   ]
  },
  {
   "cell_type": "code",
   "execution_count": 23,
   "metadata": {},
   "outputs": [
    {
     "data": {
      "text/html": [
       "<div>\n",
       "<style scoped>\n",
       "    .dataframe tbody tr th:only-of-type {\n",
       "        vertical-align: middle;\n",
       "    }\n",
       "\n",
       "    .dataframe tbody tr th {\n",
       "        vertical-align: top;\n",
       "    }\n",
       "\n",
       "    .dataframe thead th {\n",
       "        text-align: right;\n",
       "    }\n",
       "</style>\n",
       "<table border=\"1\" class=\"dataframe\">\n",
       "  <thead>\n",
       "    <tr style=\"text-align: right;\">\n",
       "      <th></th>\n",
       "      <th>season</th>\n",
       "      <th>mnth</th>\n",
       "      <th>holiday</th>\n",
       "      <th>workingday</th>\n",
       "      <th>weathersit</th>\n",
       "      <th>temp</th>\n",
       "      <th>cnt</th>\n",
       "    </tr>\n",
       "  </thead>\n",
       "  <tbody>\n",
       "    <tr>\n",
       "      <th>0</th>\n",
       "      <td>1</td>\n",
       "      <td>1</td>\n",
       "      <td>0</td>\n",
       "      <td>0</td>\n",
       "      <td>2</td>\n",
       "      <td>0.344167</td>\n",
       "      <td>985</td>\n",
       "    </tr>\n",
       "    <tr>\n",
       "      <th>1</th>\n",
       "      <td>1</td>\n",
       "      <td>1</td>\n",
       "      <td>0</td>\n",
       "      <td>0</td>\n",
       "      <td>2</td>\n",
       "      <td>0.363478</td>\n",
       "      <td>801</td>\n",
       "    </tr>\n",
       "    <tr>\n",
       "      <th>7</th>\n",
       "      <td>1</td>\n",
       "      <td>1</td>\n",
       "      <td>0</td>\n",
       "      <td>0</td>\n",
       "      <td>2</td>\n",
       "      <td>0.165000</td>\n",
       "      <td>959</td>\n",
       "    </tr>\n",
       "    <tr>\n",
       "      <th>8</th>\n",
       "      <td>1</td>\n",
       "      <td>1</td>\n",
       "      <td>0</td>\n",
       "      <td>0</td>\n",
       "      <td>1</td>\n",
       "      <td>0.138333</td>\n",
       "      <td>822</td>\n",
       "    </tr>\n",
       "    <tr>\n",
       "      <th>14</th>\n",
       "      <td>1</td>\n",
       "      <td>1</td>\n",
       "      <td>0</td>\n",
       "      <td>0</td>\n",
       "      <td>2</td>\n",
       "      <td>0.233333</td>\n",
       "      <td>1248</td>\n",
       "    </tr>\n",
       "    <tr>\n",
       "      <th>...</th>\n",
       "      <td>...</td>\n",
       "      <td>...</td>\n",
       "      <td>...</td>\n",
       "      <td>...</td>\n",
       "      <td>...</td>\n",
       "      <td>...</td>\n",
       "      <td>...</td>\n",
       "    </tr>\n",
       "    <tr>\n",
       "      <th>721</th>\n",
       "      <td>1</td>\n",
       "      <td>12</td>\n",
       "      <td>0</td>\n",
       "      <td>0</td>\n",
       "      <td>1</td>\n",
       "      <td>0.265833</td>\n",
       "      <td>1749</td>\n",
       "    </tr>\n",
       "    <tr>\n",
       "      <th>722</th>\n",
       "      <td>1</td>\n",
       "      <td>12</td>\n",
       "      <td>0</td>\n",
       "      <td>0</td>\n",
       "      <td>1</td>\n",
       "      <td>0.245833</td>\n",
       "      <td>1787</td>\n",
       "    </tr>\n",
       "    <tr>\n",
       "      <th>724</th>\n",
       "      <td>1</td>\n",
       "      <td>12</td>\n",
       "      <td>1</td>\n",
       "      <td>0</td>\n",
       "      <td>2</td>\n",
       "      <td>0.291304</td>\n",
       "      <td>1013</td>\n",
       "    </tr>\n",
       "    <tr>\n",
       "      <th>728</th>\n",
       "      <td>1</td>\n",
       "      <td>12</td>\n",
       "      <td>0</td>\n",
       "      <td>0</td>\n",
       "      <td>2</td>\n",
       "      <td>0.253333</td>\n",
       "      <td>1341</td>\n",
       "    </tr>\n",
       "    <tr>\n",
       "      <th>729</th>\n",
       "      <td>1</td>\n",
       "      <td>12</td>\n",
       "      <td>0</td>\n",
       "      <td>0</td>\n",
       "      <td>1</td>\n",
       "      <td>0.255833</td>\n",
       "      <td>1796</td>\n",
       "    </tr>\n",
       "  </tbody>\n",
       "</table>\n",
       "<p>231 rows × 7 columns</p>\n",
       "</div>"
      ],
      "text/plain": [
       "     season  mnth  holiday  workingday  weathersit      temp   cnt\n",
       "0         1     1        0           0           2  0.344167   985\n",
       "1         1     1        0           0           2  0.363478   801\n",
       "7         1     1        0           0           2  0.165000   959\n",
       "8         1     1        0           0           1  0.138333   822\n",
       "14        1     1        0           0           2  0.233333  1248\n",
       "..      ...   ...      ...         ...         ...       ...   ...\n",
       "721       1    12        0           0           1  0.265833  1749\n",
       "722       1    12        0           0           1  0.245833  1787\n",
       "724       1    12        1           0           2  0.291304  1013\n",
       "728       1    12        0           0           2  0.253333  1341\n",
       "729       1    12        0           0           1  0.255833  1796\n",
       "\n",
       "[231 rows x 7 columns]"
      ]
     },
     "execution_count": 23,
     "metadata": {},
     "output_type": "execute_result"
    }
   ],
   "source": [
    "bike_sharing_data_cols[(bike_sharing_data_cols['workingday'] == 0)]"
   ]
  },
  {
   "cell_type": "code",
   "execution_count": 25,
   "metadata": {},
   "outputs": [],
   "source": [
    "sample_01 = sample_01.sample(231)"
   ]
  },
  {
   "cell_type": "code",
   "execution_count": 26,
   "metadata": {},
   "outputs": [
    {
     "data": {
      "text/plain": [
       "((231, 7), (231, 7))"
      ]
     },
     "execution_count": 26,
     "metadata": {},
     "output_type": "execute_result"
    }
   ],
   "source": [
    "sample_01.shape, sample_02.shape"
   ]
  },
  {
   "cell_type": "markdown",
   "metadata": {},
   "source": [
    "Leven's test to check whether the **variance** of the two groups are the same, like the t-test but for **variance** rather than the mean"
   ]
  },
  {
   "cell_type": "code",
   "execution_count": 27,
   "metadata": {},
   "outputs": [
    {
     "data": {
      "text/plain": [
       "LeveneResult(statistic=3.749684208136126, pvalue=0.05342964573561738)"
      ]
     },
     "execution_count": 27,
     "metadata": {},
     "output_type": "execute_result"
    }
   ],
   "source": [
    "stats.levene(sample_01['cnt'], sample_02['cnt'])"
   ]
  },
  {
   "cell_type": "code",
   "execution_count": 28,
   "metadata": {
    "collapsed": true
   },
   "outputs": [
    {
     "data": {
      "text/plain": [
       "array([-1.53561207e+00,  9.03923672e-01,  1.17659986e+00, -1.43376266e-02,\n",
       "        1.56998645e+00,  1.38999861e+00, -6.80400400e-01,  5.94064373e-01,\n",
       "        1.47622033e+00, -1.37394635e+00,  1.22240514e+00, -1.85032134e+00,\n",
       "       -5.37595679e-01,  8.62429471e-01,  5.59575685e-01,  8.85895495e-02,\n",
       "       -5.50528937e-01,  1.83942932e+00, -1.61428939e+00,  5.77897800e-01,\n",
       "        1.18037206e+00,  1.52418116e+00, -1.64877807e+00,  4.95448282e-01,\n",
       "       -3.69463329e-01,  6.67891719e-03,  2.51333043e-01, -9.97804100e-01,\n",
       "       -1.01989842e+00, -2.15880893e-01,  5.87597744e-01,  1.76452420e+00,\n",
       "       -1.61051719e+00,  1.07450550e-01, -1.10798174e-01, -1.84762691e+00,\n",
       "        1.11761636e-01,  3.44560275e-03, -4.37362932e-01, -1.16593645e+00,\n",
       "        9.55950641e-02,  1.30269912e+00,  2.49177500e-01, -7.52317151e-02,\n",
       "       -9.86487500e-01,  1.31186018e+00, -2.46465108e+00, -1.04870431e-01,\n",
       "       -5.71545481e-03,  1.11462800e+00,  9.16318044e-01,  1.53388110e+00,\n",
       "       -4.99334792e-01,  7.22319178e-01, -3.02102611e-01, -5.97411996e-01,\n",
       "        2.00677783e-01, -6.14117454e-01, -3.15574755e-01, -1.00588739e+00,\n",
       "       -1.05409317e-01, -9.66548727e-01, -4.37362932e-01, -1.49842895e+00,\n",
       "        1.08337262e+00,  1.37544869e+00, -5.66695509e-01,  5.47181313e-01,\n",
       "       -1.36855749e+00,  5.22931455e-01, -1.05762042e+00, -5.48912280e-01,\n",
       "        4.86826111e-01, -1.19611405e+00, -7.49916660e-01, -1.47442404e-01,\n",
       "        4.87903882e-01, -2.39591866e-01, -1.64123367e+00, -8.94876924e-01,\n",
       "        8.21229206e-02, -1.57142347e-01,  4.84670568e-01, -1.17455862e+00,\n",
       "       -1.75464463e-01, -1.05654265e-02, -1.18587522e+00, -5.25740193e-01,\n",
       "       -2.89708239e-01,  1.49777576e+00, -2.80547182e-01, -2.38514094e-01,\n",
       "       -1.64500587e+00, -9.44454412e-01, -1.74954971e+00,  1.53603664e+00,\n",
       "        7.49263465e-01,  7.12619235e-01, -6.51300570e-01,  1.17174988e+00,\n",
       "        1.67129696e+00,  9.93672643e-02, -1.09372576e+00, -1.44346261e+00,\n",
       "        5.94064373e-01, -8.23205121e-01, -5.04723649e-01,  6.74358348e-01,\n",
       "        1.85344034e-02,  1.04241731e+00, -7.97877491e-01,  8.86679329e-01,\n",
       "        8.47879556e-01,  5.30230907e-02,  1.25096609e+00,  1.22078849e+00,\n",
       "        2.63188529e-01, -5.52684480e-01,  8.70512757e-01, -2.20383038e+00,\n",
       "       -2.74619439e-01,  3.14921560e-01,  1.47244813e+00,  2.36783128e-01,\n",
       "       -1.61105607e+00, -4.12574188e-01, -1.27503632e-01, -7.15966859e-01,\n",
       "        1.05833893e-01, -1.33730212e+00,  1.66806365e+00, -3.92635415e-01,\n",
       "       -6.86328143e-01,  1.58345859e+00, -1.38041297e+00, -1.29526903e+00,\n",
       "       -1.65201139e+00,  9.83678762e-01,  9.91762048e-01,  8.06924239e-01,\n",
       "        6.32619198e-02,  6.18314231e-01,  1.62171948e+00,  7.05613721e-01,\n",
       "       -2.29891922e-01, -1.38364629e+00, -1.50920667e+00,  1.31161523e-01,\n",
       "        9.02062067e-02,  3.39171418e-01, -2.14078075e+00, -3.99102044e-01,\n",
       "       -6.92794772e-01,  1.22509957e+00, -2.54680666e-01, -1.23599160e+00,\n",
       "        2.09838841e-01, -1.55393418e+00,  1.58345859e+00,  6.16697574e-01,\n",
       "       -5.58318285e-02, -1.56848410e+00,  1.66914142e+00,  1.79955177e-02,\n",
       "       -1.11043122e-02, -2.81624953e-01, -1.50274004e+00, -9.71937585e-01,\n",
       "       -1.40681838e+00, -2.64380609e-01,  1.50262573e+00, -1.42891269e+00,\n",
       "       -1.38281347e-01,  2.64805186e-01, -1.31143560e+00, -1.38820232e-01,\n",
       "        1.45197047e+00, -3.26597418e-04,  1.52256450e+00, -2.24424681e+00,\n",
       "       -4.57301704e-01, -1.71074993e+00,  1.59183581e-01,  8.39257384e-01,\n",
       "       -8.08655206e-01, -2.68152810e-01,  3.58032419e-01, -4.68079419e-01,\n",
       "        1.06505051e+00,  1.49130913e+00, -2.22886408e-01,  1.51933119e+00,\n",
       "        2.87977273e-01,  2.31933156e-01,  5.18081483e-01, -2.15880893e-01,\n",
       "        4.67426224e-01,  1.20408303e+00, -1.14276436e+00,  1.48915358e+00,\n",
       "       -1.55608973e+00,  1.70901897e+00,  1.29461583e+00,  1.58561413e+00,\n",
       "        1.15235000e+00, -2.52525123e-01,  3.25454327e-02, -1.41112946e+00,\n",
       "        2.79893987e-01,  1.11247245e+00,  2.33843751e-02,  1.60285848e+00,\n",
       "        5.33170284e-01,  2.71271815e-01, -2.51986237e-01,  6.41486318e-01,\n",
       "        2.06066641e-01,  4.38620332e-02,  1.72655725e-01, -8.76260871e-02,\n",
       "       -7.02494715e-01,  6.54174627e-02,  3.78510077e-01,  1.53495887e+00,\n",
       "        8.82907129e-01,  6.10769831e-01, -3.44674585e-01, -7.72010976e-01,\n",
       "        1.66727982e-01,  1.72895774e+00,  2.72888472e-01])"
      ]
     },
     "execution_count": 28,
     "metadata": {},
     "output_type": "execute_result"
    }
   ],
   "source": [
    "scale(np.array(sample_01['cnt']))"
   ]
  },
  {
   "cell_type": "code",
   "execution_count": 31,
   "metadata": {
    "collapsed": true
   },
   "outputs": [
    {
     "data": {
      "text/plain": [
       "array([-1.63362686e+00, -1.72348401e+00, -1.64632406e+00, -1.71322857e+00,\n",
       "       -1.50518973e+00, -1.52667731e+00, -1.62630154e+00, -1.63558027e+00,\n",
       "       -1.63313850e+00, -1.57844284e+00, -1.57941955e+00, -1.62385977e+00,\n",
       "       -1.32205695e+00, -1.39579842e+00, -1.33866099e+00, -1.31619670e+00,\n",
       "       -1.22975803e+00, -1.57404766e+00, -1.15308644e+00, -9.41629121e-01,\n",
       "       -1.10034420e+00, -1.81920141e+00, -1.07348472e+00, -9.34303810e-01,\n",
       "       -5.92455952e-01, -9.07932689e-01, -8.95723837e-01, -1.28787217e+00,\n",
       "       -1.01488223e+00, -5.27993213e-01, -9.15746354e-01, -7.00870558e-01,\n",
       "       -5.88060765e-01, -1.72641413e+00, -2.86257942e-01, -1.43658550e-01,\n",
       "       -6.79636669e-02,  4.79481260e-01, -4.78181096e-01,  1.87445518e-01,\n",
       "        1.38261286e-03, -4.49856560e-01,  1.08820511e-01,  7.20239823e-01,\n",
       "        1.61074398e-01,  2.08933098e-01,  2.23583720e-01, -1.13380597e-01,\n",
       "        4.94131882e-01,  2.81209502e-01,  3.10510747e-01,  6.34035814e-02,\n",
       "        3.85228922e-01,  2.02096141e-01,  4.25762311e-01,  4.76062781e-01,\n",
       "        3.85228922e-01,  1.55702503e-01,  8.36468094e-01,  4.91201758e-01,\n",
       "        2.69000650e-01,  7.77865604e-01,  4.74597719e-01, -5.10412466e-01,\n",
       "       -3.53650805e-01,  7.07288926e-02, -1.37563637e-02, -1.76631964e-02,\n",
       "       -2.66235424e-01, -8.79861843e-02, -2.49143032e-01,  4.20390416e-01,\n",
       "       -2.23260265e-01, -1.57014083e+00,  1.87096694e-03,  7.51240793e-02,\n",
       "        2.97813541e-01, -4.78181096e-01,  4.95596945e-01,  3.49579074e-01,\n",
       "        8.83096396e-02, -2.74302780e-02,  5.33688563e-01,  3.31998327e-01,\n",
       "       -9.28443561e-01, -6.89638414e-01,  5.26851606e-01,  5.76663722e-01,\n",
       "        3.84252214e-01,  4.33087622e-01,  3.47137303e-01, -1.08262392e-02,\n",
       "        2.48236088e-02, -1.80845762e+00, -4.87948178e-01, -1.97377499e-01,\n",
       "       -3.32651580e-01, -4.69879077e-01, -1.28519573e-01, -2.99443502e-01,\n",
       "       -3.25814623e-01, -3.95649256e-01, -1.38456627e+00, -6.16385302e-01,\n",
       "       -6.14920240e-01, -3.49743973e-01, -4.12741649e-01, -5.56806104e-01,\n",
       "       -7.75100379e-01, -7.77053795e-01, -9.27466852e-01, -1.62092965e+00,\n",
       "       -1.74643665e+00, -1.47149330e+00, -9.01095732e-01, -9.94371362e-01,\n",
       "       -1.16187681e+00,  9.31931804e-02, -4.42042894e-01, -8.97188899e-01,\n",
       "       -9.86069342e-01, -9.92417945e-01, -1.47930697e+00, -1.14917961e+00,\n",
       "       -1.50007153e-01, -5.30923337e-01, -7.31636865e-01, -6.75476146e-01,\n",
       "       -1.05541562e+00, -1.36796224e+00, -5.94269838e-03, -8.01471499e-01,\n",
       "       -5.86595703e-01, -7.80472274e-01, -4.59623641e-01, -1.29007927e-01,\n",
       "       -4.43019602e-01, -1.03613515e-01,  2.83651273e-01,  1.71208696e+00,\n",
       "        7.62726628e-01, -4.67925661e-01,  3.25161370e-01,  9.30232078e-01,\n",
       "        8.35491386e-01,  1.23398832e+00,  4.09646626e-01,  1.52846583e+00,\n",
       "        1.36828569e+00,  9.96159879e-01,  1.12020182e+00, -1.61311598e+00,\n",
       "       -5.38013985e-02,  9.63928510e-01,  1.24668552e+00,  9.90787984e-01,\n",
       "        1.51332685e+00,  8.73094650e-01,  1.93575313e+00,  1.36682063e+00,\n",
       "        1.07722666e+00,  1.10408613e+00,  8.36468094e-01,  1.85077952e+00,\n",
       "        1.61685792e+00,  1.54702328e+00,  1.10750461e+00,  1.64664752e+00,\n",
       "        1.29307916e+00,  1.52748912e+00,  1.25059236e+00,  6.62614041e-01,\n",
       "        5.86430804e-01,  1.50062965e+00,  2.48978133e-01,  1.66934647e-01,\n",
       "        1.28868397e+00,  8.30607845e-01,  6.29152273e-02,  1.50404813e+00,\n",
       "        1.14999142e+00,  1.10701626e+00,  1.21787263e+00,  5.53711080e-01,\n",
       "        9.61486739e-01,  1.08113349e+00,  1.72624923e+00,  1.06867095e-01,\n",
       "        8.41351635e-01,  4.51645077e-01,  8.83838440e-01,  7.22681593e-01,\n",
       "        8.32072908e-01,  8.03748371e-01,  1.90303341e+00,  2.14086185e+00,\n",
       "        1.46644486e+00,  1.98507690e+00,  1.74676010e+00,  2.06321355e+00,\n",
       "        1.24961565e+00,  1.77508464e+00, -4.00532797e-01,  5.60548038e-01,\n",
       "        1.35705355e+00,  1.12752713e+00,  1.83612890e+00,  1.21787263e+00,\n",
       "        1.71990063e+00,  6.29152273e-02,  3.94507649e-01,  3.79368673e-01,\n",
       "        1.07722666e+00,  1.23154655e+00,  9.46836117e-01,  6.34289504e-01,\n",
       "        1.65469585e-01, -9.30396977e-01, -1.00267338e+00, -9.30885331e-01,\n",
       "        4.20390416e-01,  1.55702503e-01,  6.11336862e-01, -5.38248649e-01,\n",
       "        3.50067428e-01, -2.65747070e-01, -1.26052434e+00, -1.24196688e+00,\n",
       "       -1.61995294e+00, -1.45977280e+00, -1.23757169e+00])"
      ]
     },
     "execution_count": 31,
     "metadata": {},
     "output_type": "execute_result"
    }
   ],
   "source": [
    "scale(np.array(sample_02['cnt'], dtype = np.float))"
   ]
  },
  {
   "cell_type": "markdown",
   "metadata": {},
   "source": [
    "The distribution of the residuals between the two groups should follow the **normal** distribution"
   ]
  },
  {
   "cell_type": "code",
   "execution_count": 34,
   "metadata": {
    "collapsed": true
   },
   "outputs": [
    {
     "name": "stdout",
     "output_type": "stream",
     "text": [
      "[ 0.17617514  1.85096011  1.97467592  1.23771365  2.13145371  2.0283572\n",
      "  0.7350293   1.58255369  2.16273817  0.24265461  1.95618965 -0.03855\n",
      "  0.60775845  1.58504222  1.3436542   1.01658942  0.53203584  2.35933254\n",
      " -0.22554573  1.06671565  1.57970965  2.32982561 -0.30624541  1.00699078\n",
      "  0.18755131  0.66535029  0.81786201  0.27927165  0.06596853  0.2419436\n",
      "  1.05427297  1.67427403 -0.6343767   1.32765646  0.13529204 -1.11430872\n",
      "  0.12320487 -0.346773    0.05956944 -0.90562717  0.06205797  1.18687641\n",
      "  0.08516581 -0.57394082 -0.76804666  0.71334349 -1.78870207  0.01335376\n",
      " -0.36348175  0.53061382  0.37845759  0.96575218 -0.60984685  0.32939788\n",
      " -0.50923888 -0.74067276 -0.1480456  -0.51848201 -0.81710637 -1.02116636\n",
      " -0.26536231 -1.20389603 -0.6340212  -0.61695695  0.97215127  0.85590107\n",
      " -0.36383725  0.37383603 -0.70903279  0.40903104 -0.51634898 -0.6681497\n",
      "  0.48368713  0.35392774 -0.49608518 -0.15195616  0.1050741   0.19003984\n",
      " -1.44350653 -0.84483578 -0.01010958 -0.08369916 -0.06876794 -1.01654479\n",
      "  0.56012075  0.4950633  -1.16585697 -0.76662464 -0.47084431  0.6728159\n",
      " -0.43778233 -0.14946762 -1.10328806  0.6934352  -0.79897561  1.15701397\n",
      "  0.73645133  0.81217393 -0.33610785  0.99099304  1.33974364  0.35357223\n",
      "  0.28638175 -0.50355079  0.83954783 -0.28847015 -0.03250641  0.85021299\n",
      "  0.57647399  1.25335588  0.14880124  1.76492785  1.83069631  1.10617673\n",
      "  1.48123471  1.52922791  1.01943346 -0.43244975  0.89607316 -0.80075314\n",
      "  0.53665741  0.93020166  2.04826549  0.99277057 -0.95362037  0.11431724\n",
      "  0.44849212  0.01939735  0.83812581  0.11360622  1.10475471  0.32442081\n",
      " -0.02575181  1.61277163 -0.57607385 -0.76058105 -0.76733565  0.72436415\n",
      "  0.44778111 -0.71400987 -0.51350494  0.7485385   0.83314874 -0.21168103\n",
      " -0.75987004 -1.8110989  -1.29383884 -1.02614343 -0.93655612 -0.50141776\n",
      " -2.22775099  0.91100438 -0.41787404  0.10649612 -1.07555865 -1.53664889\n",
      " -0.96321901 -1.6607202  -0.36454826 -0.58816103 -0.82101693 -1.8384728\n",
      "  0.49221926 -1.33543295 -1.18434324 -1.3119696  -1.7975897  -1.83989482\n",
      " -1.86940175 -1.28637323  0.08089975 -1.42502026 -0.51812651 -0.91771434\n",
      " -1.04640722 -0.21310305  0.01975285 -0.60486977  0.95864207 -2.57543507\n",
      " -1.13883857 -1.9344592  -0.78155585  0.15057877 -1.23340296 -0.96393002\n",
      " -1.02045535 -0.38658958  0.09014288  0.65504064 -0.79044348  0.47622152\n",
      " -0.41574101 -0.43209425 -1.04356318 -1.70089229 -0.75915903 -0.65072994\n",
      " -2.02546853 -0.51954853 -1.93623673 -0.16475434  1.1456378   0.63797639\n",
      " -0.22767876 -0.98739336 -1.31516915 -1.81749799 -1.06738203  0.68810262\n",
      " -0.27176141  0.78124498 -0.43244975 -0.71756492 -0.85550094 -0.03855\n",
      "  0.01548679  0.70623338  0.84381389  0.61984562 -0.76946868 -0.07018996\n",
      " -0.19532779  1.40444559  0.32762035  0.59638228  0.69023565  0.39481083\n",
      "  1.2892619   2.20326576  1.08093586]\n"
     ]
    }
   ],
   "source": [
    "diff = scale(np.array(sample_01['cnt']) - np.array(sample_02['cnt'], dtype=np.float))\n",
    "print(diff)"
   ]
  },
  {
   "cell_type": "code",
   "execution_count": 35,
   "metadata": {},
   "outputs": [
    {
     "data": {
      "text/plain": [
       "(array([ 2., 12., 15., 41., 38., 40., 38., 25., 11.,  9.]),\n",
       " array([-2.57543507, -2.08195831, -1.58848154, -1.09500478, -0.60152802,\n",
       "        -0.10805126,  0.3854255 ,  0.87890226,  1.37237902,  1.86585578,\n",
       "         2.35933254]),\n",
       " <BarContainer object of 10 artists>)"
      ]
     },
     "execution_count": 35,
     "metadata": {},
     "output_type": "execute_result"
    },
    {
     "data": {
      "image/png": "[encoded data removed]",
      "text/plain": [
       "<Figure size 432x288 with 1 Axes>"
      ]
     },
     "metadata": {
      "needs_background": "light"
     },
     "output_type": "display_data"
    }
   ],
   "source": [
    "plt.hist(diff)"
   ]
  },
  {
   "cell_type": "markdown",
   "metadata": {},
   "source": [
    "Generating a probability plot of **sample data** against the quantiles of a **theoretical distribution**"
   ]
  },
  {
   "cell_type": "code",
   "execution_count": 36,
   "metadata": {},
   "outputs": [
    {
     "data": {
      "image/png": "[encoded data removed]",
      "text/plain": [
       "<Figure size 720x576 with 1 Axes>"
      ]
     },
     "metadata": {
      "needs_background": "light"
     },
     "output_type": "display_data"
    }
   ],
   "source": [
    "plt.figure(figsize=(10,8))\n",
    "stats.probplot(diff, plot=plt, dist='norm')\n",
    "plt.show()"
   ]
  },
  {
   "cell_type": "markdown",
   "metadata": {},
   "source": [
    "This shows our data is normalized, although, at two ends the data does not exactly fit the **red line**"
   ]
  },
  {
   "cell_type": "markdown",
   "metadata": {},
   "source": [
    "Another method to check for the normality is to use the Shapiro-Wilk test for normality. \n",
    "- If the test statistic is **not significant** then population is **normally distributed**"
   ]
  },
  {
   "cell_type": "code",
   "execution_count": 37,
   "metadata": {},
   "outputs": [
    {
     "data": {
      "text/plain": [
       "(0.9927178025245667, 0.3142608106136322)"
      ]
     },
     "execution_count": 37,
     "metadata": {},
     "output_type": "execute_result"
    }
   ],
   "source": [
    "stats.shapiro(diff)"
   ]
  },
  {
   "cell_type": "markdown",
   "metadata": {},
   "source": [
    "Here the p-value is 0.31426 i.e., is 31% which means the Shapirop test is not significant and our residual data is normally distributed"
   ]
  },
  {
   "cell_type": "markdown",
   "metadata": {},
   "source": [
    "<h3> Performing an independent T-test</h3"
   ]
  },
  {
   "cell_type": "code",
   "execution_count": 38,
   "metadata": {},
   "outputs": [
    {
     "data": {
      "text/plain": [
       "Ttest_indResult(statistic=1.4567183643499417, pvalue=0.14587637383743718)"
      ]
     },
     "execution_count": 38,
     "metadata": {},
     "output_type": "execute_result"
    }
   ],
   "source": [
    "stats.ttest_ind(sample_01['cnt'], sample_02['cnt'])"
   ]
  },
  {
   "cell_type": "markdown",
   "metadata": {},
   "source": [
    "The p-value here is 0.14587637383743718 (which is > 0.05), so we can accept the null hypothesis (H0) and reject the alternative hypothesis.\n",
    "\n",
    "This illustrates that, whether it is a working day or not, this has no effect on the number of bikes shared."
   ]
  },
  {
   "cell_type": "code",
   "execution_count": null,
   "metadata": {},
   "outputs": [],
   "source": []
  }
 ],
 "metadata": {
  "kernelspec": {
   "display_name": "Python 3",
   "language": "python",
   "name": "python3"
  },
  "language_info": {
   "codemirror_mode": {
    "name": "ipython",
    "version": 3
   },
   "file_extension": ".py",
   "mimetype": "text/x-python",
   "name": "python",
   "nbconvert_exporter": "python",
   "pygments_lexer": "ipython3",
   "version": "3.8.8"
  }
 },
 "nbformat": 4,
 "nbformat_minor": 4
}
